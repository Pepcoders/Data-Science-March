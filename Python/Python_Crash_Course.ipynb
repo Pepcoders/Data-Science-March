{
  "nbformat": 4,
  "nbformat_minor": 0,
  "metadata": {
    "colab": {
      "name": "Python Crash Course.ipynb",
      "provenance": [],
      "collapsed_sections": [],
      "toc_visible": true,
      "authorship_tag": "ABX9TyPJA1rLhF5H4bifXx+wEsve",
      "include_colab_link": true
    },
    "kernelspec": {
      "name": "python3",
      "display_name": "Python 3"
    },
    "language_info": {
      "name": "python"
    }
  },
  "cells": [
    {
      "cell_type": "markdown",
      "metadata": {
        "id": "view-in-github",
        "colab_type": "text"
      },
      "source": [
        "<a href=\"https://colab.research.google.com/github/Pepcoders/Data-Science-March/blob/main/Python/Python_Crash_Course.ipynb\" target=\"_parent\"><img src=\"https://colab.research.google.com/assets/colab-badge.svg\" alt=\"Open In Colab\"/></a>"
      ]
    },
    {
      "cell_type": "markdown",
      "source": [
        "# What is Python\n",
        "- Python is a general purpose, dynamic, high-level, and interpreted programming language invented by **Guido van Rossum** in 1991 at CWI in Netherland.\n",
        "- Guido van Rossum was a fan of the popular BBC comedy show, \"**Monty Python's Flying Circus**\". So he decided to pick the name **Python**."
      ],
      "metadata": {
        "id": "ppwpZOOje4EF"
      }
    },
    {
      "cell_type": "markdown",
      "source": [
        "# Hello World Program"
      ],
      "metadata": {
        "id": "atLVcLJzgxlv"
      }
    },
    {
      "cell_type": "code",
      "execution_count": null,
      "metadata": {
        "id": "Lc6EZDQEZrkP"
      },
      "outputs": [],
      "source": [
        "#Hello World in Java\n",
        "\n",
        "public class HelloWorld{  \n",
        "    public static void main(String[] args){ \n",
        "        System.out.println(\"Hello World\");  \n",
        "    }\n",
        "}  "
      ]
    },
    {
      "cell_type": "code",
      "source": [
        "#Hello World in C++\n",
        "\n",
        "#include <iostream>\n",
        "using namespace std;\n",
        "\n",
        "int main(){\n",
        "    cout << \"Hello World\";\n",
        "    return 0;\n",
        "}"
      ],
      "metadata": {
        "id": "4YI2P0ILghJ0"
      },
      "execution_count": null,
      "outputs": []
    },
    {
      "cell_type": "code",
      "source": [
        "#Hello World in Python\n",
        "\n",
        "print(\"Hello Python\")"
      ],
      "metadata": {
        "id": "aXcpn9Bihy2W"
      },
      "execution_count": null,
      "outputs": []
    },
    {
      "cell_type": "markdown",
      "source": [
        "## print( ) Function\n",
        "- print(objects, sep=' ', end='\\n', file=sys.stdout, flush=False)\n",
        "  - objects - An object is nothing but a statement that to be printed.\n",
        "  - sep - The sep parameter separates the print values. Default values is ' '.\n",
        "  - end - The end is printed at last in the statement.\n",
        "  - file - It must be an object with a write method.\n",
        "  - flush - The file is forcibly flushed if it is true. By default, its value is false."
      ],
      "metadata": {
        "id": "NkKIWwv8iahn"
      }
    },
    {
      "cell_type": "code",
      "source": [
        "print(\"Hello Python\", \"How are you\")"
      ],
      "metadata": {
        "colab": {
          "base_uri": "https://localhost:8080/"
        },
        "id": "q8eJA-YVh69V",
        "outputId": "09206295-7e51-477f-916a-d082fb4aebed"
      },
      "execution_count": null,
      "outputs": [
        {
          "output_type": "stream",
          "name": "stdout",
          "text": [
            "Hello Python How are you\n"
          ]
        }
      ]
    },
    {
      "cell_type": "code",
      "source": [
        "print(\"Hello Python\", \"How are you\", sep='<->', end=';')"
      ],
      "metadata": {
        "colab": {
          "base_uri": "https://localhost:8080/"
        },
        "id": "JUzahRxViD9V",
        "outputId": "79959842-16a0-4288-aa53-d11ec1a6d436"
      },
      "execution_count": null,
      "outputs": [
        {
          "output_type": "stream",
          "name": "stdout",
          "text": [
            "Hello Python<->How are you;"
          ]
        }
      ]
    },
    {
      "cell_type": "code",
      "source": [
        "myfile = open('myfile.txt', 'w')\n",
        "print(\"Hello Python\", \"How are you\", sep='<->', end=';', file=myfile)\n",
        "myfile.close()"
      ],
      "metadata": {
        "id": "sMPbsl9miKf4"
      },
      "execution_count": null,
      "outputs": []
    },
    {
      "cell_type": "markdown",
      "source": [
        "# Variables\n",
        "- Variable is a name that is used to refer to memory location.\n",
        "\n",
        "- In Python, we don't need to specify the type of variable. variable type is allocated automatically."
      ],
      "metadata": {
        "id": "4ZPojPsBlAz2"
      }
    },
    {
      "cell_type": "code",
      "source": [
        "a = 10\n",
        "print(a)"
      ],
      "metadata": {
        "colab": {
          "base_uri": "https://localhost:8080/"
        },
        "id": "SttSM1DkkMeh",
        "outputId": "f48a14b8-077d-4ec8-cd58-d4f2e3347bda"
      },
      "execution_count": null,
      "outputs": [
        {
          "output_type": "stream",
          "name": "stdout",
          "text": [
            "10\n"
          ]
        }
      ]
    },
    {
      "cell_type": "code",
      "source": [
        "b = \"Hello Python\"\n",
        "print(b)"
      ],
      "metadata": {
        "colab": {
          "base_uri": "https://localhost:8080/"
        },
        "id": "FqjMo8hIo_yb",
        "outputId": "144bb918-fdde-4d4f-c582-ed6372b37c12"
      },
      "execution_count": null,
      "outputs": [
        {
          "output_type": "stream",
          "name": "stdout",
          "text": [
            "Hello Python\n"
          ]
        }
      ]
    },
    {
      "cell_type": "code",
      "source": [
        "c = 10.5\n",
        "print(c)"
      ],
      "metadata": {
        "colab": {
          "base_uri": "https://localhost:8080/"
        },
        "id": "L0rtgL9io_pE",
        "outputId": "0b0c9edb-a37a-414f-9761-6a5945c7b02f"
      },
      "execution_count": null,
      "outputs": [
        {
          "output_type": "stream",
          "name": "stdout",
          "text": [
            "10.5\n"
          ]
        }
      ]
    },
    {
      "cell_type": "markdown",
      "source": [
        "# Identifier\n",
        "- An Identifier is used to identify the literals used in the program, it may be a Variable name, Function name or class name...ect\n",
        "- The rules to name an identifier are:\n",
        "  - The first character of the variable must be an alphabet or underscore ( _ ).\n",
        "  - All the characters except the first character may be an alphabet of lower-case(a-z), upper-case (A-Z), underscore, or digit (0-9).\n",
        "  - Identifier name must not contain any white-space, or special character (!, @, #, %, ^, &, *).\n",
        "  - Identifier name must not be similar to any keyword defined in the language.\n",
        "  - Identifier names are case sensitive; for example, my name, and MyName is not the same."
      ],
      "metadata": {
        "id": "tS-0IHaInLUi"
      }
    },
    {
      "cell_type": "code",
      "source": [
        "#Examples of valid identifiers\n",
        "name = \"Python\"\n",
        "phone2 = 909087\n",
        "_address = \"Pepcoding\"\n",
        "fater_name = \"Guido Van\""
      ],
      "metadata": {
        "id": "fmuQtzvRnLyG"
      },
      "execution_count": null,
      "outputs": []
    },
    {
      "cell_type": "code",
      "source": [
        "#Examples of invalid identifiers\n",
        "name# = \"Python\"\n",
        "2phone = 909087\n",
        "@address = \"Pepcoding\"\n",
        "fater name = \"Guido Van\""
      ],
      "metadata": {
        "colab": {
          "base_uri": "https://localhost:8080/",
          "height": 130
        },
        "id": "wTM4rXEsphAf",
        "outputId": "c10c642b-d708-4e76-a5ee-989dbe6ca848"
      },
      "execution_count": null,
      "outputs": [
        {
          "output_type": "error",
          "ename": "SyntaxError",
          "evalue": "ignored",
          "traceback": [
            "\u001b[0;36m  File \u001b[0;32m\"<ipython-input-10-aea51aa1e717>\"\u001b[0;36m, line \u001b[0;32m3\u001b[0m\n\u001b[0;31m    2phone = 909087\u001b[0m\n\u001b[0m         ^\u001b[0m\n\u001b[0;31mSyntaxError\u001b[0m\u001b[0;31m:\u001b[0m invalid syntax\n"
          ]
        }
      ]
    },
    {
      "cell_type": "markdown",
      "source": [
        "# Keywords\n",
        "- keywords are special reserved words that have specific meanings and purposes and can't be used for anything but those specific purposes.\n",
        "- **kwlist** provides a list of all the Python keywords.\n",
        "- **iskeyword()** is used to determine if a string is also a keyword."
      ],
      "metadata": {
        "id": "9eqbMJiDnMy8"
      }
    },
    {
      "cell_type": "code",
      "source": [
        "import keyword\n",
        "print(keyword.kwlist)"
      ],
      "metadata": {
        "id": "rLfFySpnna2M"
      },
      "execution_count": null,
      "outputs": []
    },
    {
      "cell_type": "code",
      "source": [
        "len(keyword.kwlist)"
      ],
      "metadata": {
        "id": "NWMDZEGwnnQL"
      },
      "execution_count": null,
      "outputs": []
    },
    {
      "cell_type": "markdown",
      "source": [
        "You can also get a list of available keywords by using help():"
      ],
      "metadata": {
        "id": "VdFZrjdAn6f1"
      }
    },
    {
      "cell_type": "code",
      "source": [
        "help(\"keywords\")"
      ],
      "metadata": {
        "colab": {
          "base_uri": "https://localhost:8080/"
        },
        "id": "iwkHknwqnuiY",
        "outputId": "df636bd5-909f-4de9-92b8-fabc9e2f6116"
      },
      "execution_count": null,
      "outputs": [
        {
          "output_type": "stream",
          "name": "stdout",
          "text": [
            "\n",
            "Here is a list of the Python keywords.  Enter any keyword to get more help.\n",
            "\n",
            "False               class               from                or\n",
            "None                continue            global              pass\n",
            "True                def                 if                  raise\n",
            "and                 del                 import              return\n",
            "as                  elif                in                  try\n",
            "assert              else                is                  while\n",
            "async               except              lambda              with\n",
            "await               finally             nonlocal            yield\n",
            "break               for                 not                 \n",
            "\n"
          ]
        }
      ]
    },
    {
      "cell_type": "code",
      "source": [
        "keyword.iskeyword(\"for\")"
      ],
      "metadata": {
        "colab": {
          "base_uri": "https://localhost:8080/",
          "height": 165
        },
        "id": "UEyq2g85n1ze",
        "outputId": "ff252853-9991-4e7b-c7db-a3ba1fa1606b"
      },
      "execution_count": null,
      "outputs": [
        {
          "output_type": "error",
          "ename": "NameError",
          "evalue": "ignored",
          "traceback": [
            "\u001b[0;31m---------------------------------------------------------------------------\u001b[0m",
            "\u001b[0;31mNameError\u001b[0m                                 Traceback (most recent call last)",
            "\u001b[0;32m<ipython-input-12-e7010f84efa4>\u001b[0m in \u001b[0;36m<module>\u001b[0;34m()\u001b[0m\n\u001b[0;32m----> 1\u001b[0;31m \u001b[0mkeyword\u001b[0m\u001b[0;34m.\u001b[0m\u001b[0miskeyword\u001b[0m\u001b[0;34m(\u001b[0m\u001b[0;34m\"for\"\u001b[0m\u001b[0;34m)\u001b[0m\u001b[0;34m\u001b[0m\u001b[0;34m\u001b[0m\u001b[0m\n\u001b[0m",
            "\u001b[0;31mNameError\u001b[0m: name 'keyword' is not defined"
          ]
        }
      ]
    },
    {
      "cell_type": "markdown",
      "source": [
        "# Data Types\n",
        "- Every value has a data-type. \n",
        "- Python is a dynamically typed language; hence we do not need to define the type of the variable while declaring it. \n",
        "- The interpreter implicitly binds the value with its type.\n",
        "\n",
        "![image.png](data:image/png;base64,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)"
      ],
      "metadata": {
        "id": "IxnnQGmhrKUj"
      }
    },
    {
      "cell_type": "code",
      "source": [
        "a = 10\n",
        "print(a)\n",
        "print(type(a))"
      ],
      "metadata": {
        "colab": {
          "base_uri": "https://localhost:8080/"
        },
        "id": "9tzhUGqKoKC6",
        "outputId": "bd017703-0970-4d0c-9bdd-127e026dfc95"
      },
      "execution_count": null,
      "outputs": [
        {
          "output_type": "stream",
          "name": "stdout",
          "text": [
            "10\n",
            "<class 'int'>\n"
          ]
        }
      ]
    },
    {
      "cell_type": "code",
      "source": [
        "b = \"Python\"\n",
        "print(b)\n",
        "print(type(b))"
      ],
      "metadata": {
        "colab": {
          "base_uri": "https://localhost:8080/"
        },
        "id": "lHbUMMCvsd0d",
        "outputId": "328a8b93-db01-4161-e44e-0c973655eb40"
      },
      "execution_count": null,
      "outputs": [
        {
          "output_type": "stream",
          "name": "stdout",
          "text": [
            "Python\n",
            "<class 'str'>\n"
          ]
        }
      ]
    },
    {
      "cell_type": "code",
      "source": [
        "c = 10.5\n",
        "print(c)\n",
        "print(type(c))"
      ],
      "metadata": {
        "colab": {
          "base_uri": "https://localhost:8080/"
        },
        "id": "pUVmVYN4siA4",
        "outputId": "a4ecee61-3d1e-4e6f-9a3e-5fb20ab989e3"
      },
      "execution_count": null,
      "outputs": [
        {
          "output_type": "stream",
          "name": "stdout",
          "text": [
            "10.5\n",
            "<class 'float'>\n"
          ]
        }
      ]
    },
    {
      "cell_type": "code",
      "source": [
        "d = 10 + 5j\n",
        "print(d)\n",
        "print(type(d))"
      ],
      "metadata": {
        "colab": {
          "base_uri": "https://localhost:8080/"
        },
        "id": "RaiBlNiYsm2a",
        "outputId": "292176c5-2f3a-4fa8-d60f-bf925d16d399"
      },
      "execution_count": null,
      "outputs": [
        {
          "output_type": "stream",
          "name": "stdout",
          "text": [
            "(10+5j)\n",
            "<class 'complex'>\n"
          ]
        }
      ]
    },
    {
      "cell_type": "code",
      "source": [
        "e = [10, 20, 30]\n",
        "print(e)\n",
        "print(type(e))"
      ],
      "metadata": {
        "colab": {
          "base_uri": "https://localhost:8080/"
        },
        "id": "MxQbjQe_srwy",
        "outputId": "412f2a94-47bc-4b8d-906d-1cba6466829c"
      },
      "execution_count": null,
      "outputs": [
        {
          "output_type": "stream",
          "name": "stdout",
          "text": [
            "[10, 20, 30]\n",
            "<class 'list'>\n"
          ]
        }
      ]
    },
    {
      "cell_type": "code",
      "source": [
        "flag = True\n",
        "type(flag)"
      ],
      "metadata": {
        "colab": {
          "base_uri": "https://localhost:8080/"
        },
        "id": "4vDfnqiLsxod",
        "outputId": "a77c4f3b-6e7e-40ec-f116-688d23101c35"
      },
      "execution_count": null,
      "outputs": [
        {
          "output_type": "execute_result",
          "data": {
            "text/plain": [
              "bool"
            ]
          },
          "metadata": {},
          "execution_count": 17
        }
      ]
    },
    {
      "cell_type": "markdown",
      "source": [
        "# Operators\n",
        "\n",
        "  - Arithmetic: +, -, *, /, //, %, ***\n",
        "  - Comparision: <, > <=, >=, ==, != \n",
        "  - logic: and, or, not\n",
        "  - Bitwise: &, |, ^, >>, <<, ~\n",
        "  - Assignment: =, +=, -=, *=, /=, &=, |=.....ect\n",
        "  - identity: is, is not\n",
        "  - Memebship: in, not in"
      ],
      "metadata": {
        "id": "3QX-P4Kqjyhb"
      }
    },
    {
      "cell_type": "code",
      "source": [
        "a = 10\n",
        "b = 25\n",
        "\n",
        "a + b"
      ],
      "metadata": {
        "colab": {
          "base_uri": "https://localhost:8080/"
        },
        "id": "p8nFuKknsEqt",
        "outputId": "491958e9-8df9-46aa-af31-1da10e7b7e18"
      },
      "execution_count": 2,
      "outputs": [
        {
          "output_type": "execute_result",
          "data": {
            "text/plain": [
              "35"
            ]
          },
          "metadata": {},
          "execution_count": 2
        }
      ]
    },
    {
      "cell_type": "code",
      "source": [
        "a = a + b"
      ],
      "metadata": {
        "id": "_KF-aImsxJ82"
      },
      "execution_count": 18,
      "outputs": []
    },
    {
      "cell_type": "code",
      "source": [
        "a += b"
      ],
      "metadata": {
        "id": "rPP7kRtTxN--"
      },
      "execution_count": 19,
      "outputs": []
    },
    {
      "cell_type": "code",
      "source": [
        "c = b / a\n",
        "print(c)\n",
        "print(type(c))"
      ],
      "metadata": {
        "colab": {
          "base_uri": "https://localhost:8080/"
        },
        "id": "OxRpRv5gsEZj",
        "outputId": "31a8b0f5-9c65-4d5f-fed5-0f496284f476"
      },
      "execution_count": 4,
      "outputs": [
        {
          "output_type": "stream",
          "name": "stdout",
          "text": [
            "2.5\n",
            "<class 'float'>\n"
          ]
        }
      ]
    },
    {
      "cell_type": "code",
      "source": [
        "b // a"
      ],
      "metadata": {
        "colab": {
          "base_uri": "https://localhost:8080/"
        },
        "id": "i82kYAkusB7q",
        "outputId": "cb9ab908-4623-4a71-8226-ce9ee75bf4be"
      },
      "execution_count": 5,
      "outputs": [
        {
          "output_type": "execute_result",
          "data": {
            "text/plain": [
              "2"
            ]
          },
          "metadata": {},
          "execution_count": 5
        }
      ]
    },
    {
      "cell_type": "code",
      "source": [
        "#Power operater\n",
        "2 ** 3"
      ],
      "metadata": {
        "colab": {
          "base_uri": "https://localhost:8080/"
        },
        "id": "mv3oWvejsBwq",
        "outputId": "725b057a-65ac-4514-cde9-d56b97a4b5ba"
      },
      "execution_count": 7,
      "outputs": [
        {
          "output_type": "execute_result",
          "data": {
            "text/plain": [
              "8"
            ]
          },
          "metadata": {},
          "execution_count": 7
        }
      ]
    },
    {
      "cell_type": "code",
      "source": [
        "b % a"
      ],
      "metadata": {
        "colab": {
          "base_uri": "https://localhost:8080/"
        },
        "id": "F03DHPqLsBcU",
        "outputId": "2843409a-e999-4ff7-aa5e-016373706b47"
      },
      "execution_count": 8,
      "outputs": [
        {
          "output_type": "execute_result",
          "data": {
            "text/plain": [
              "5"
            ]
          },
          "metadata": {},
          "execution_count": 8
        }
      ]
    },
    {
      "cell_type": "code",
      "source": [
        "True or False"
      ],
      "metadata": {
        "colab": {
          "base_uri": "https://localhost:8080/"
        },
        "id": "c5RNmQpds6AF",
        "outputId": "0b7dd3d4-d888-45ca-feed-520b0f9423c9"
      },
      "execution_count": 9,
      "outputs": [
        {
          "output_type": "execute_result",
          "data": {
            "text/plain": [
              "True"
            ]
          },
          "metadata": {},
          "execution_count": 9
        }
      ]
    },
    {
      "cell_type": "code",
      "source": [
        "True and True"
      ],
      "metadata": {
        "colab": {
          "base_uri": "https://localhost:8080/"
        },
        "id": "CPgRFskXs50V",
        "outputId": "ddba124e-383a-4b4e-82d5-60e979e4a2a2"
      },
      "execution_count": 10,
      "outputs": [
        {
          "output_type": "execute_result",
          "data": {
            "text/plain": [
              "True"
            ]
          },
          "metadata": {},
          "execution_count": 10
        }
      ]
    },
    {
      "cell_type": "code",
      "source": [
        "#&, |, ^, >>, <<, ~\n",
        "\n",
        "print(6 & 3)\n",
        "print(6 | 3)\n",
        "print(6 ^ 3)\n",
        "print(6 >> 1)\n",
        "print(6 >> 2)\n",
        "print(6 << 1)\n",
        "print(~ 6)\n",
        "print(~100)\n",
        "print(~ -10)"
      ],
      "metadata": {
        "colab": {
          "base_uri": "https://localhost:8080/"
        },
        "id": "0Zbl1fRos5ly",
        "outputId": "013358da-d788-496b-e17c-95f1fb4c375f"
      },
      "execution_count": 20,
      "outputs": [
        {
          "output_type": "stream",
          "name": "stdout",
          "text": [
            "2\n",
            "7\n",
            "5\n",
            "3\n",
            "1\n",
            "12\n",
            "-7\n",
            "-101\n",
            "9\n"
          ]
        }
      ]
    },
    {
      "cell_type": "markdown",
      "source": [
        "# String\n",
        "- We can create a string by enclosing the characters in single-quotes or double- quotes. Python also provides triple-quotes to represent the string, but it is generally used for multiline string or docstrings."
      ],
      "metadata": {
        "id": "b9LMza4910cC"
      }
    },
    {
      "cell_type": "code",
      "source": [
        "#Using single quotes \n",
        "msg = 'My name is Python'\n",
        "print(msg)"
      ],
      "metadata": {
        "colab": {
          "base_uri": "https://localhost:8080/"
        },
        "id": "_bJIzYWCwBEK",
        "outputId": "20024b65-c041-4dbf-bd68-b4bd17ac9df8"
      },
      "execution_count": 21,
      "outputs": [
        {
          "output_type": "stream",
          "name": "stdout",
          "text": [
            "My name is Python\n"
          ]
        }
      ]
    },
    {
      "cell_type": "code",
      "source": [
        "#Error\n",
        "msg = 'I amn't a Snake, I'm a programming Language.'"
      ],
      "metadata": {
        "colab": {
          "base_uri": "https://localhost:8080/",
          "height": 130
        },
        "id": "DYWsLj8v2X9x",
        "outputId": "37339a65-e452-429a-c7b4-a4e33a76fbd3"
      },
      "execution_count": null,
      "outputs": [
        {
          "output_type": "error",
          "ename": "SyntaxError",
          "evalue": "ignored",
          "traceback": [
            "\u001b[0;36m  File \u001b[0;32m\"<ipython-input-19-77a8c4a853d4>\"\u001b[0;36m, line \u001b[0;32m2\u001b[0m\n\u001b[0;31m    msg = 'I amn't a Snake, I'm a programming Language.'\u001b[0m\n\u001b[0m                 ^\u001b[0m\n\u001b[0;31mSyntaxError\u001b[0m\u001b[0;31m:\u001b[0m invalid syntax\n"
          ]
        }
      ]
    },
    {
      "cell_type": "code",
      "source": [
        "msg = \"I amn't a Snake, I'm a programming Language.\"\n",
        "print(msg)"
      ],
      "metadata": {
        "id": "ILmrVduI3FZa",
        "colab": {
          "base_uri": "https://localhost:8080/"
        },
        "outputId": "0d697ba0-c60d-4802-fdd3-efe73074b5b6"
      },
      "execution_count": 1,
      "outputs": [
        {
          "output_type": "stream",
          "name": "stdout",
          "text": [
            "I amn't a Snake, I'm a programming Language.\n"
          ]
        }
      ]
    },
    {
      "cell_type": "code",
      "source": [
        "msg = \"I amn't a Snake, I'm a programming Language. My name is \\\"Python\\\" \"\n",
        "print(msg)"
      ],
      "metadata": {
        "colab": {
          "base_uri": "https://localhost:8080/"
        },
        "id": "VAwydk6H0-TY",
        "outputId": "1a00e313-8a92-418a-dc0c-fc5b457ef983"
      },
      "execution_count": 3,
      "outputs": [
        {
          "output_type": "stream",
          "name": "stdout",
          "text": [
            "I amn't a Snake, I'm a programming Language. My name is \"Python\" \n"
          ]
        }
      ]
    },
    {
      "cell_type": "code",
      "source": [
        "#Using triple quotes\n",
        "msg = \"\"\"\n",
        "My name is Python\n",
        "I amn't a Snake\n",
        "I'm a Programming Language\n",
        "\"\"\"\n",
        "\n",
        "print(msg)"
      ],
      "metadata": {
        "colab": {
          "base_uri": "https://localhost:8080/"
        },
        "id": "jjrs2F9X3muG",
        "outputId": "37103b0b-8a16-4a2b-ec6a-0a2b11cedba2"
      },
      "execution_count": 4,
      "outputs": [
        {
          "output_type": "stream",
          "name": "stdout",
          "text": [
            "\n",
            "My name is Python\n",
            "I amn't a Snake\n",
            "I'm a Programming Language\n",
            "\n"
          ]
        }
      ]
    },
    {
      "cell_type": "markdown",
      "source": [
        "# Strings indexing and splitting\n",
        "\n",
        "![image.png](data:image/png;base64,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)"
      ],
      "metadata": {
        "id": "SKFU3M164Gcw"
      }
    },
    {
      "cell_type": "code",
      "source": [
        "msg = \"HELLO\"\n",
        "print(msg[3])"
      ],
      "metadata": {
        "colab": {
          "base_uri": "https://localhost:8080/"
        },
        "id": "3b0Ud3ku4CZj",
        "outputId": "c152b00d-d0a1-44cd-a676-8bf223c03d66"
      },
      "execution_count": 6,
      "outputs": [
        {
          "output_type": "stream",
          "name": "stdout",
          "text": [
            "L\n"
          ]
        }
      ]
    },
    {
      "cell_type": "markdown",
      "source": [
        "![image.png](data:image/png;base64,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)"
      ],
      "metadata": {
        "id": "tHxhRPyy4YNq"
      }
    },
    {
      "cell_type": "code",
      "source": [
        "msg = \"Hello I am Python\"\n",
        "msg[1:4]"
      ],
      "metadata": {
        "colab": {
          "base_uri": "https://localhost:8080/",
          "height": 35
        },
        "id": "mdG-9A4r4od2",
        "outputId": "edf13a21-60d9-4cf1-b879-66a79ca516bd"
      },
      "execution_count": 8,
      "outputs": [
        {
          "output_type": "execute_result",
          "data": {
            "text/plain": [
              "'ell'"
            ],
            "application/vnd.google.colaboratory.intrinsic+json": {
              "type": "string"
            }
          },
          "metadata": {},
          "execution_count": 8
        }
      ]
    },
    {
      "cell_type": "code",
      "source": [
        "msg[:10]"
      ],
      "metadata": {
        "colab": {
          "base_uri": "https://localhost:8080/",
          "height": 35
        },
        "id": "BPa5XG2d4nkz",
        "outputId": "931355e9-bd42-41c4-e952-9a823715298e"
      },
      "execution_count": 9,
      "outputs": [
        {
          "output_type": "execute_result",
          "data": {
            "text/plain": [
              "'Hello I am'"
            ],
            "application/vnd.google.colaboratory.intrinsic+json": {
              "type": "string"
            }
          },
          "metadata": {},
          "execution_count": 9
        }
      ]
    },
    {
      "cell_type": "code",
      "source": [
        "msg[2:]"
      ],
      "metadata": {
        "colab": {
          "base_uri": "https://localhost:8080/",
          "height": 35
        },
        "id": "eHVEX7G-4R_K",
        "outputId": "cd0243aa-339e-476f-929b-0ffab144546f"
      },
      "execution_count": 10,
      "outputs": [
        {
          "output_type": "execute_result",
          "data": {
            "text/plain": [
              "'llo I am Python'"
            ],
            "application/vnd.google.colaboratory.intrinsic+json": {
              "type": "string"
            }
          },
          "metadata": {},
          "execution_count": 10
        }
      ]
    },
    {
      "cell_type": "code",
      "source": [
        "msg[2: 10 : 2]"
      ],
      "metadata": {
        "colab": {
          "base_uri": "https://localhost:8080/",
          "height": 35
        },
        "id": "NV6jo9Mz2XQo",
        "outputId": "210ea849-4ae6-40d8-c2c1-f790e62d260e"
      },
      "execution_count": 11,
      "outputs": [
        {
          "output_type": "execute_result",
          "data": {
            "text/plain": [
              "'loIa'"
            ],
            "application/vnd.google.colaboratory.intrinsic+json": {
              "type": "string"
            }
          },
          "metadata": {},
          "execution_count": 11
        }
      ]
    },
    {
      "cell_type": "code",
      "source": [
        ""
      ],
      "metadata": {
        "id": "oFkZ13Xz2XFl"
      },
      "execution_count": null,
      "outputs": []
    },
    {
      "cell_type": "markdown",
      "source": [
        "![image.png](data:image/png;base64,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)"
      ],
      "metadata": {
        "id": "VLFG3gzo4lZL"
      }
    },
    {
      "cell_type": "code",
      "source": [
        "msg = \"HELLO\"\n",
        "msg[-1]"
      ],
      "metadata": {
        "colab": {
          "base_uri": "https://localhost:8080/",
          "height": 35
        },
        "id": "hwHCanut4ea0",
        "outputId": "e8233b44-99e4-4e73-e2e0-ba00a4ef671b"
      },
      "execution_count": 15,
      "outputs": [
        {
          "output_type": "execute_result",
          "data": {
            "text/plain": [
              "'O'"
            ],
            "application/vnd.google.colaboratory.intrinsic+json": {
              "type": "string"
            }
          },
          "metadata": {},
          "execution_count": 15
        }
      ]
    },
    {
      "cell_type": "code",
      "source": [
        "msg[-2]"
      ],
      "metadata": {
        "colab": {
          "base_uri": "https://localhost:8080/",
          "height": 35
        },
        "id": "kxmc1E6V4wNw",
        "outputId": "612fc1c9-3b61-476e-f1c5-5fba8807179c"
      },
      "execution_count": 16,
      "outputs": [
        {
          "output_type": "execute_result",
          "data": {
            "text/plain": [
              "'L'"
            ],
            "application/vnd.google.colaboratory.intrinsic+json": {
              "type": "string"
            }
          },
          "metadata": {},
          "execution_count": 16
        }
      ]
    },
    {
      "cell_type": "code",
      "source": [
        "msg[::-1]"
      ],
      "metadata": {
        "colab": {
          "base_uri": "https://localhost:8080/",
          "height": 35
        },
        "id": "wsFATgP64xMX",
        "outputId": "1a92ebfa-1f00-401d-8cf7-f769e96489fe"
      },
      "execution_count": 17,
      "outputs": [
        {
          "output_type": "execute_result",
          "data": {
            "text/plain": [
              "'OLLEH'"
            ],
            "application/vnd.google.colaboratory.intrinsic+json": {
              "type": "string"
            }
          },
          "metadata": {},
          "execution_count": 17
        }
      ]
    },
    {
      "cell_type": "code",
      "source": [
        "msg[0::-1]"
      ],
      "metadata": {
        "colab": {
          "base_uri": "https://localhost:8080/",
          "height": 35
        },
        "id": "BrCxQPuy3kDe",
        "outputId": "534a11e5-91b2-4145-ec36-56ccb1e815c9"
      },
      "execution_count": 18,
      "outputs": [
        {
          "output_type": "execute_result",
          "data": {
            "text/plain": [
              "'H'"
            ],
            "application/vnd.google.colaboratory.intrinsic+json": {
              "type": "string"
            }
          },
          "metadata": {},
          "execution_count": 18
        }
      ]
    },
    {
      "cell_type": "code",
      "source": [
        "msg[4:1:-1]"
      ],
      "metadata": {
        "colab": {
          "base_uri": "https://localhost:8080/",
          "height": 35
        },
        "id": "vL74pTUt4glG",
        "outputId": "08b710bb-1d91-4a31-ca5f-d1b99752e02d"
      },
      "execution_count": 19,
      "outputs": [
        {
          "output_type": "execute_result",
          "data": {
            "text/plain": [
              "'OLL'"
            ],
            "application/vnd.google.colaboratory.intrinsic+json": {
              "type": "string"
            }
          },
          "metadata": {},
          "execution_count": 19
        }
      ]
    },
    {
      "cell_type": "code",
      "source": [
        "msg[-4:-1]"
      ],
      "metadata": {
        "colab": {
          "base_uri": "https://localhost:8080/",
          "height": 35
        },
        "id": "jpvJDsBp4zs0",
        "outputId": "534d2739-02eb-4613-f74b-17c23f753da8"
      },
      "execution_count": null,
      "outputs": [
        {
          "output_type": "execute_result",
          "data": {
            "text/plain": [
              "'ELL'"
            ],
            "application/vnd.google.colaboratory.intrinsic+json": {
              "type": "string"
            }
          },
          "metadata": {},
          "execution_count": 28
        }
      ]
    },
    {
      "cell_type": "markdown",
      "source": [
        "## Operation in String"
      ],
      "metadata": {
        "id": "eeZdUgnUTDjL"
      }
    },
    {
      "cell_type": "code",
      "source": [
        "s1 = \"Hello \"\n",
        "s2 = \"World\""
      ],
      "metadata": {
        "id": "zfOG_tPGTZPV"
      },
      "execution_count": 21,
      "outputs": []
    },
    {
      "cell_type": "code",
      "source": [
        "s1 + s2"
      ],
      "metadata": {
        "colab": {
          "base_uri": "https://localhost:8080/",
          "height": 35
        },
        "id": "cVpXrVFgTZLN",
        "outputId": "b4d02cda-244a-423d-ce69-50bcda1769d7"
      },
      "execution_count": 22,
      "outputs": [
        {
          "output_type": "execute_result",
          "data": {
            "text/plain": [
              "'Hello World'"
            ],
            "application/vnd.google.colaboratory.intrinsic+json": {
              "type": "string"
            }
          },
          "metadata": {},
          "execution_count": 22
        }
      ]
    },
    {
      "cell_type": "code",
      "source": [
        "s1 * 5"
      ],
      "metadata": {
        "colab": {
          "base_uri": "https://localhost:8080/",
          "height": 35
        },
        "id": "7UCuwsdETZHn",
        "outputId": "5daf09d4-01fa-4cd6-90d7-709df033d252"
      },
      "execution_count": 23,
      "outputs": [
        {
          "output_type": "execute_result",
          "data": {
            "text/plain": [
              "'Hello Hello Hello Hello Hello '"
            ],
            "application/vnd.google.colaboratory.intrinsic+json": {
              "type": "string"
            }
          },
          "metadata": {},
          "execution_count": 23
        }
      ]
    },
    {
      "cell_type": "code",
      "source": [
        "'h' in s1"
      ],
      "metadata": {
        "colab": {
          "base_uri": "https://localhost:8080/"
        },
        "id": "qLD9aTW0TY-N",
        "outputId": "bf29e016-094e-4fe0-a3b1-c0e4a81ac4d1"
      },
      "execution_count": 24,
      "outputs": [
        {
          "output_type": "execute_result",
          "data": {
            "text/plain": [
              "False"
            ]
          },
          "metadata": {},
          "execution_count": 24
        }
      ]
    },
    {
      "cell_type": "code",
      "source": [
        "'H' in s1"
      ],
      "metadata": {
        "colab": {
          "base_uri": "https://localhost:8080/"
        },
        "id": "ud6wXYmtTumK",
        "outputId": "9440a176-d845-4b2a-a0c2-3d8534489256"
      },
      "execution_count": 25,
      "outputs": [
        {
          "output_type": "execute_result",
          "data": {
            "text/plain": [
              "True"
            ]
          },
          "metadata": {},
          "execution_count": 25
        }
      ]
    },
    {
      "cell_type": "code",
      "source": [
        "\"Hello\" not in s1"
      ],
      "metadata": {
        "colab": {
          "base_uri": "https://localhost:8080/"
        },
        "id": "vF3OHWKlTufv",
        "outputId": "3119aade-29f8-4c43-ade1-1c424736ee6b"
      },
      "execution_count": 26,
      "outputs": [
        {
          "output_type": "execute_result",
          "data": {
            "text/plain": [
              "False"
            ]
          },
          "metadata": {},
          "execution_count": 26
        }
      ]
    },
    {
      "cell_type": "markdown",
      "source": [
        "## String functions"
      ],
      "metadata": {
        "id": "SgCaE-NH6dAk"
      }
    },
    {
      "cell_type": "code",
      "source": [
        "print(dir(str))"
      ],
      "metadata": {
        "colab": {
          "base_uri": "https://localhost:8080/"
        },
        "id": "gst9_RXo5BwI",
        "outputId": "bba973e7-5dbc-4a36-b885-959a26aea6b5"
      },
      "execution_count": 30,
      "outputs": [
        {
          "output_type": "stream",
          "name": "stdout",
          "text": [
            "['__add__', '__class__', '__contains__', '__delattr__', '__dir__', '__doc__', '__eq__', '__format__', '__ge__', '__getattribute__', '__getitem__', '__getnewargs__', '__gt__', '__hash__', '__init__', '__init_subclass__', '__iter__', '__le__', '__len__', '__lt__', '__mod__', '__mul__', '__ne__', '__new__', '__reduce__', '__reduce_ex__', '__repr__', '__rmod__', '__rmul__', '__setattr__', '__sizeof__', '__str__', '__subclasshook__', 'capitalize', 'casefold', 'center', 'count', 'encode', 'endswith', 'expandtabs', 'find', 'format', 'format_map', 'index', 'isalnum', 'isalpha', 'isascii', 'isdecimal', 'isdigit', 'isidentifier', 'islower', 'isnumeric', 'isprintable', 'isspace', 'istitle', 'isupper', 'join', 'ljust', 'lower', 'lstrip', 'maketrans', 'partition', 'replace', 'rfind', 'rindex', 'rjust', 'rpartition', 'rsplit', 'rstrip', 'split', 'splitlines', 'startswith', 'strip', 'swapcase', 'title', 'translate', 'upper', 'zfill']\n"
          ]
        }
      ]
    },
    {
      "cell_type": "code",
      "source": [
        "msg = \"hello python\"\n",
        "msg.capitalize()"
      ],
      "metadata": {
        "colab": {
          "base_uri": "https://localhost:8080/",
          "height": 35
        },
        "id": "EG1Vtx79QPjM",
        "outputId": "afc3eddc-683a-43bd-c4e8-1bf8862a745f"
      },
      "execution_count": 35,
      "outputs": [
        {
          "output_type": "execute_result",
          "data": {
            "text/plain": [
              "'Hello python'"
            ],
            "application/vnd.google.colaboratory.intrinsic+json": {
              "type": "string"
            }
          },
          "metadata": {},
          "execution_count": 35
        }
      ]
    },
    {
      "cell_type": "code",
      "source": [
        "msg.upper()"
      ],
      "metadata": {
        "colab": {
          "base_uri": "https://localhost:8080/",
          "height": 35
        },
        "id": "ud0pmO1SRAXC",
        "outputId": "6ad401ef-faf5-40e9-a9c4-6e10c6d12882"
      },
      "execution_count": 36,
      "outputs": [
        {
          "output_type": "execute_result",
          "data": {
            "text/plain": [
              "'HELLO PYTHON'"
            ],
            "application/vnd.google.colaboratory.intrinsic+json": {
              "type": "string"
            }
          },
          "metadata": {},
          "execution_count": 36
        }
      ]
    },
    {
      "cell_type": "code",
      "source": [
        "msg.title()"
      ],
      "metadata": {
        "colab": {
          "base_uri": "https://localhost:8080/",
          "height": 35
        },
        "id": "RpVSWiM0RDoE",
        "outputId": "b0056a06-19e4-469a-85f5-f70f32a77618"
      },
      "execution_count": 37,
      "outputs": [
        {
          "output_type": "execute_result",
          "data": {
            "text/plain": [
              "'Hello Python'"
            ],
            "application/vnd.google.colaboratory.intrinsic+json": {
              "type": "string"
            }
          },
          "metadata": {},
          "execution_count": 37
        }
      ]
    },
    {
      "cell_type": "code",
      "source": [
        "s = \"  I am Python   \""
      ],
      "metadata": {
        "id": "B8NEGqChQab7"
      },
      "execution_count": 39,
      "outputs": []
    },
    {
      "cell_type": "code",
      "source": [
        "s.lstrip()"
      ],
      "metadata": {
        "colab": {
          "base_uri": "https://localhost:8080/",
          "height": 35
        },
        "id": "FrBNnXUeQhxZ",
        "outputId": "b752029e-5c45-4284-a393-b21633e12a3c"
      },
      "execution_count": 40,
      "outputs": [
        {
          "output_type": "execute_result",
          "data": {
            "text/plain": [
              "'I am Python   '"
            ],
            "application/vnd.google.colaboratory.intrinsic+json": {
              "type": "string"
            }
          },
          "metadata": {},
          "execution_count": 40
        }
      ]
    },
    {
      "cell_type": "code",
      "source": [
        "s.rstrip()"
      ],
      "metadata": {
        "colab": {
          "base_uri": "https://localhost:8080/",
          "height": 35
        },
        "id": "oRkBwmRTQstu",
        "outputId": "2b2ae7ed-33db-457e-fef4-e07e84c9a03b"
      },
      "execution_count": 41,
      "outputs": [
        {
          "output_type": "execute_result",
          "data": {
            "text/plain": [
              "'  I am Python'"
            ],
            "application/vnd.google.colaboratory.intrinsic+json": {
              "type": "string"
            }
          },
          "metadata": {},
          "execution_count": 41
        }
      ]
    },
    {
      "cell_type": "code",
      "source": [
        "s.strip()"
      ],
      "metadata": {
        "colab": {
          "base_uri": "https://localhost:8080/",
          "height": 35
        },
        "id": "U_QMgpe1QwXz",
        "outputId": "e1e008f5-352b-4165-b7dc-4ac53260204a"
      },
      "execution_count": 42,
      "outputs": [
        {
          "output_type": "execute_result",
          "data": {
            "text/plain": [
              "'I am Python'"
            ],
            "application/vnd.google.colaboratory.intrinsic+json": {
              "type": "string"
            }
          },
          "metadata": {},
          "execution_count": 42
        }
      ]
    },
    {
      "cell_type": "code",
      "source": [
        "s = \"my-name-is-python\"\n",
        "s.split(\"-\")"
      ],
      "metadata": {
        "colab": {
          "base_uri": "https://localhost:8080/"
        },
        "id": "WANjce1QQyK-",
        "outputId": "1b621ab1-673c-4fef-a8cf-f5bbf6224d0c"
      },
      "execution_count": 49,
      "outputs": [
        {
          "output_type": "execute_result",
          "data": {
            "text/plain": [
              "['my', 'name', 'is', 'python']"
            ]
          },
          "metadata": {},
          "execution_count": 49
        }
      ]
    },
    {
      "cell_type": "code",
      "source": [
        "print(list(s))"
      ],
      "metadata": {
        "colab": {
          "base_uri": "https://localhost:8080/"
        },
        "id": "W-WQ17LP7ADu",
        "outputId": "3d2f0995-8774-4571-c0ae-511e471147b5"
      },
      "execution_count": 51,
      "outputs": [
        {
          "output_type": "stream",
          "name": "stdout",
          "text": [
            "['m', 'y', '-', 'n', 'a', 'm', 'e', '-', 'i', 's', '-', 'p', 'y', 't', 'h', 'o', 'n']\n"
          ]
        }
      ]
    },
    {
      "cell_type": "code",
      "source": [
        "\"My name is {} and my age is {}\""
      ],
      "metadata": {
        "colab": {
          "base_uri": "https://localhost:8080/",
          "height": 35
        },
        "id": "T3chwhjT8FVB",
        "outputId": "9933df33-381e-4d0a-be4b-a30503ae4b50"
      },
      "execution_count": 55,
      "outputs": [
        {
          "output_type": "execute_result",
          "data": {
            "text/plain": [
              "'My name is {} and my age is {}'"
            ],
            "application/vnd.google.colaboratory.intrinsic+json": {
              "type": "string"
            }
          },
          "metadata": {},
          "execution_count": 55
        }
      ]
    },
    {
      "cell_type": "code",
      "source": [
        "name = \"Python\"\n",
        "age = 20\n",
        "\n",
        "print(\"My name is {} and my age is {}\".format(name, age))"
      ],
      "metadata": {
        "colab": {
          "base_uri": "https://localhost:8080/"
        },
        "id": "HS0U-NKAT_Vd",
        "outputId": "e42d5e35-ebc8-44ce-df7a-ab95671a39e5"
      },
      "execution_count": 52,
      "outputs": [
        {
          "output_type": "stream",
          "name": "stdout",
          "text": [
            "My name is Python and my age is 20\n"
          ]
        }
      ]
    },
    {
      "cell_type": "code",
      "source": [
        "print(\"My name is {} and my age is {}\".format(age, name))"
      ],
      "metadata": {
        "colab": {
          "base_uri": "https://localhost:8080/"
        },
        "id": "c-Q5MwW58W1G",
        "outputId": "44c7d503-8d88-4fb7-b025-974aecc00bff"
      },
      "execution_count": 56,
      "outputs": [
        {
          "output_type": "stream",
          "name": "stdout",
          "text": [
            "My name is 20 and my age is Python\n"
          ]
        }
      ]
    },
    {
      "cell_type": "code",
      "source": [
        "print(\"My name is {1} and my age is {0}\".format(age, name))"
      ],
      "metadata": {
        "colab": {
          "base_uri": "https://localhost:8080/"
        },
        "id": "DYi0If8hUEMs",
        "outputId": "1bc165b1-59b0-4f2e-a664-d7ff5b1f3f02"
      },
      "execution_count": 57,
      "outputs": [
        {
          "output_type": "stream",
          "name": "stdout",
          "text": [
            "My name is Python and my age is 20\n"
          ]
        }
      ]
    },
    {
      "cell_type": "code",
      "source": [
        "print(\"My name is {myname} and my age is {myage}\".format(myname = name, myage = age))"
      ],
      "metadata": {
        "colab": {
          "base_uri": "https://localhost:8080/"
        },
        "id": "W5vSQqMuUEJV",
        "outputId": "388063ec-65b5-4f3b-ebe3-8cdd8a18409f"
      },
      "execution_count": 58,
      "outputs": [
        {
          "output_type": "stream",
          "name": "stdout",
          "text": [
            "My name is Python and my age is 20\n"
          ]
        }
      ]
    },
    {
      "cell_type": "code",
      "source": [
        "print(\"My name is {} and my age is {}\".format(name))"
      ],
      "metadata": {
        "colab": {
          "base_uri": "https://localhost:8080/",
          "height": 165
        },
        "id": "aUXrEkIL88Kn",
        "outputId": "2407877e-0455-40cb-c786-e6a822f9a62f"
      },
      "execution_count": 61,
      "outputs": [
        {
          "output_type": "error",
          "ename": "IndexError",
          "evalue": "ignored",
          "traceback": [
            "\u001b[0;31m---------------------------------------------------------------------------\u001b[0m",
            "\u001b[0;31mIndexError\u001b[0m                                Traceback (most recent call last)",
            "\u001b[0;32m<ipython-input-61-b4c80cf60128>\u001b[0m in \u001b[0;36m<module>\u001b[0;34m()\u001b[0m\n\u001b[0;32m----> 1\u001b[0;31m \u001b[0mprint\u001b[0m\u001b[0;34m(\u001b[0m\u001b[0;34m\"My name is {} and my age is {}\"\u001b[0m\u001b[0;34m.\u001b[0m\u001b[0mformat\u001b[0m\u001b[0;34m(\u001b[0m\u001b[0mname\u001b[0m\u001b[0;34m)\u001b[0m\u001b[0;34m)\u001b[0m\u001b[0;34m\u001b[0m\u001b[0;34m\u001b[0m\u001b[0m\n\u001b[0m",
            "\u001b[0;31mIndexError\u001b[0m: tuple index out of range"
          ]
        }
      ]
    },
    {
      "cell_type": "code",
      "source": [
        "print(\"My name is {} and my age is {}\".format(name, age, 100))"
      ],
      "metadata": {
        "colab": {
          "base_uri": "https://localhost:8080/"
        },
        "id": "X0tda64x8vmI",
        "outputId": "736aa1ff-28b6-4a99-cb6a-9a0c44d27a1a"
      },
      "execution_count": 60,
      "outputs": [
        {
          "output_type": "stream",
          "name": "stdout",
          "text": [
            "My name is Python and my age is 20\n"
          ]
        }
      ]
    },
    {
      "cell_type": "code",
      "source": [
        ""
      ],
      "metadata": {
        "id": "T-J2eGb69HcN"
      },
      "execution_count": null,
      "outputs": []
    },
    {
      "cell_type": "markdown",
      "source": [
        "# Python List\n",
        "- A list can be defined as a collection of values or items of different types. \n",
        "- Lists are mutable type its mean we can modify its element after it created\n",
        "### Characteristics of Lists\n",
        "  - The lists are ordered.\n",
        "  - The element of the list can access by index.\n",
        "  - A list can store the number of various elements."
      ],
      "metadata": {
        "id": "meupMZlmRXjI"
      }
    },
    {
      "cell_type": "code",
      "source": [
        "l1 = [10, 20, 30, 50]\n",
        "print(l1)\n",
        "print(type(l1))"
      ],
      "metadata": {
        "colab": {
          "base_uri": "https://localhost:8080/"
        },
        "id": "NsM_cPVXQ0_7",
        "outputId": "4bdd3bcb-64fb-4de5-f141-1976cd81c99d"
      },
      "execution_count": null,
      "outputs": [
        {
          "output_type": "stream",
          "name": "stdout",
          "text": [
            "[10, 20, 30, 50]\n",
            "<class 'list'>\n"
          ]
        }
      ]
    },
    {
      "cell_type": "code",
      "source": [
        "l2 = [\"Python\", 10, 20.5, 60+4j]\n",
        "l2"
      ],
      "metadata": {
        "colab": {
          "base_uri": "https://localhost:8080/"
        },
        "id": "o9fCEN_wRv4C",
        "outputId": "7021d196-9ab6-4711-e22d-b9b77fcc7aa2"
      },
      "execution_count": null,
      "outputs": [
        {
          "output_type": "execute_result",
          "data": {
            "text/plain": [
              "['Python', 10, 20.5, (60+4j)]"
            ]
          },
          "metadata": {},
          "execution_count": 44
        }
      ]
    },
    {
      "cell_type": "code",
      "source": [
        "nestedlist = [\"apple\", \"Orange\", [10, 20, 30]]\n",
        "nestedlist"
      ],
      "metadata": {
        "colab": {
          "base_uri": "https://localhost:8080/"
        },
        "id": "c0anU0QCaH9g",
        "outputId": "8b2e17a3-d441-4575-bb86-0014a68a633c"
      },
      "execution_count": null,
      "outputs": [
        {
          "output_type": "execute_result",
          "data": {
            "text/plain": [
              "['apple', 'Orange', [10, 20, 30]]"
            ]
          },
          "metadata": {},
          "execution_count": 135
        }
      ]
    },
    {
      "cell_type": "code",
      "source": [
        "nestedlist[2]"
      ],
      "metadata": {
        "colab": {
          "base_uri": "https://localhost:8080/"
        },
        "id": "TOdIEGbIaUm7",
        "outputId": "cf836bc7-2307-4376-def8-401534fbf129"
      },
      "execution_count": null,
      "outputs": [
        {
          "output_type": "execute_result",
          "data": {
            "text/plain": [
              "[10, 20, 30]"
            ]
          },
          "metadata": {},
          "execution_count": 136
        }
      ]
    },
    {
      "cell_type": "code",
      "source": [
        "nestedlist[2][1]"
      ],
      "metadata": {
        "colab": {
          "base_uri": "https://localhost:8080/"
        },
        "id": "GSGjsstGaY3P",
        "outputId": "361be4a8-b713-42d8-8f92-7e4f567678cf"
      },
      "execution_count": null,
      "outputs": [
        {
          "output_type": "execute_result",
          "data": {
            "text/plain": [
              "20"
            ]
          },
          "metadata": {},
          "execution_count": 137
        }
      ]
    },
    {
      "cell_type": "markdown",
      "source": [
        "# List indexing and splitting\n",
        "![image.png](data:image/png;base64,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)\n",
        "\n",
        "![image.png](data:image/png;base64,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)"
      ],
      "metadata": {
        "id": "iksW02XySUk6"
      }
    },
    {
      "cell_type": "code",
      "source": [
        "mylist = [0, 1, 2, 3, 4, 5]"
      ],
      "metadata": {
        "id": "re5BdoczSKJh"
      },
      "execution_count": null,
      "outputs": []
    },
    {
      "cell_type": "code",
      "source": [
        "mylist[0]"
      ],
      "metadata": {
        "colab": {
          "base_uri": "https://localhost:8080/"
        },
        "id": "xmRLc7bpSNL4",
        "outputId": "efcbd256-592a-406d-e420-212805e32c40"
      },
      "execution_count": null,
      "outputs": [
        {
          "output_type": "execute_result",
          "data": {
            "text/plain": [
              "0"
            ]
          },
          "metadata": {},
          "execution_count": 76
        }
      ]
    },
    {
      "cell_type": "code",
      "source": [
        "mylist[2:4]"
      ],
      "metadata": {
        "colab": {
          "base_uri": "https://localhost:8080/"
        },
        "id": "FYYO2EGVSpuJ",
        "outputId": "8ca8dc71-a794-46bd-88eb-527a5f2e9c6e"
      },
      "execution_count": null,
      "outputs": [
        {
          "output_type": "execute_result",
          "data": {
            "text/plain": [
              "[2, 3]"
            ]
          },
          "metadata": {},
          "execution_count": 77
        }
      ]
    },
    {
      "cell_type": "code",
      "source": [
        "# Updating List values\n",
        "mylist[0] = 10\n",
        "print(l)"
      ],
      "metadata": {
        "colab": {
          "base_uri": "https://localhost:8080/"
        },
        "id": "PUMGV2FiSsU0",
        "outputId": "2fc7be79-1c04-4a8c-c541-bdf92ef5ccf0"
      },
      "execution_count": null,
      "outputs": [
        {
          "output_type": "stream",
          "name": "stdout",
          "text": [
            "[10, 1, 2, 3, 4, 5]\n"
          ]
        }
      ]
    },
    {
      "cell_type": "code",
      "source": [
        "# Accessing list elements using loop\n",
        "for elements in mylist:\n",
        "  print(elements)"
      ],
      "metadata": {
        "colab": {
          "base_uri": "https://localhost:8080/"
        },
        "id": "1ffQMeymS99g",
        "outputId": "6ec01b88-62b9-463d-bb71-8c44969250a5"
      },
      "execution_count": null,
      "outputs": [
        {
          "output_type": "stream",
          "name": "stdout",
          "text": [
            "10\n",
            "1\n",
            "2\n",
            "3\n",
            "4\n",
            "5\n"
          ]
        }
      ]
    },
    {
      "cell_type": "markdown",
      "source": [
        "# Operations in List"
      ],
      "metadata": {
        "id": "_yQUV9IqVgz7"
      }
    },
    {
      "cell_type": "code",
      "source": [
        "len(mylist)"
      ],
      "metadata": {
        "colab": {
          "base_uri": "https://localhost:8080/"
        },
        "id": "q06buUj9WHoQ",
        "outputId": "bec04998-f2cf-44b5-b9e0-f251dc1a8e53"
      },
      "execution_count": null,
      "outputs": [
        {
          "output_type": "execute_result",
          "data": {
            "text/plain": [
              "6"
            ]
          },
          "metadata": {},
          "execution_count": 83
        }
      ]
    },
    {
      "cell_type": "code",
      "source": [
        "# Repeating elements multiple times.\n",
        "mylist * 2"
      ],
      "metadata": {
        "colab": {
          "base_uri": "https://localhost:8080/"
        },
        "id": "4jImyHU0VZtz",
        "outputId": "d993eb12-28cf-481e-b4ea-b31a56893f43"
      },
      "execution_count": null,
      "outputs": [
        {
          "output_type": "execute_result",
          "data": {
            "text/plain": [
              "[10, 1, 2, 3, 4, 5, 10, 1, 2, 3, 4, 5]"
            ]
          },
          "metadata": {},
          "execution_count": 80
        }
      ]
    },
    {
      "cell_type": "code",
      "source": [
        "# Concatenation\n",
        "l1 + l2"
      ],
      "metadata": {
        "colab": {
          "base_uri": "https://localhost:8080/"
        },
        "id": "rPOyovaXVmJz",
        "outputId": "eb3c9822-6519-429b-f7a3-e5e5ccdbb81b"
      },
      "execution_count": null,
      "outputs": [
        {
          "output_type": "execute_result",
          "data": {
            "text/plain": [
              "[10, 20, 30, 50, 'Python', 10, 20.5, (60+4j)]"
            ]
          },
          "metadata": {},
          "execution_count": 81
        }
      ]
    },
    {
      "cell_type": "code",
      "source": [
        "# Membership\n",
        "10 in mylist"
      ],
      "metadata": {
        "colab": {
          "base_uri": "https://localhost:8080/"
        },
        "id": "JCKmWnBgVy7d",
        "outputId": "6b16597d-0e9b-43e6-8a3c-f5d07083edcc"
      },
      "execution_count": null,
      "outputs": [
        {
          "output_type": "execute_result",
          "data": {
            "text/plain": [
              "True"
            ]
          },
          "metadata": {},
          "execution_count": 82
        }
      ]
    },
    {
      "cell_type": "markdown",
      "source": [
        "# List Functions"
      ],
      "metadata": {
        "id": "0cyVOiyqWUi_"
      }
    },
    {
      "cell_type": "code",
      "source": [
        "print(dir(list))"
      ],
      "metadata": {
        "colab": {
          "base_uri": "https://localhost:8080/"
        },
        "id": "G576LUVBZ0ai",
        "outputId": "031e208f-c504-4ccf-879d-cbbe93e472f9"
      },
      "execution_count": null,
      "outputs": [
        {
          "output_type": "stream",
          "name": "stdout",
          "text": [
            "['__add__', '__class__', '__contains__', '__delattr__', '__delitem__', '__dir__', '__doc__', '__eq__', '__format__', '__ge__', '__getattribute__', '__getitem__', '__gt__', '__hash__', '__iadd__', '__imul__', '__init__', '__init_subclass__', '__iter__', '__le__', '__len__', '__lt__', '__mul__', '__ne__', '__new__', '__reduce__', '__reduce_ex__', '__repr__', '__reversed__', '__rmul__', '__setattr__', '__setitem__', '__sizeof__', '__str__', '__subclasshook__', 'append', 'clear', 'copy', 'count', 'extend', 'index', 'insert', 'pop', 'remove', 'reverse', 'sort']\n"
          ]
        }
      ]
    },
    {
      "cell_type": "code",
      "source": [
        "mylist = [20, 10, 20, 20, 30, 20, 40, 20]\n",
        "mylist.remove(20)\n",
        "mylist"
      ],
      "metadata": {
        "colab": {
          "base_uri": "https://localhost:8080/"
        },
        "id": "ISZSSM5GV3Vb",
        "outputId": "76195b26-3c85-46b5-bf72-88fd98be5553"
      },
      "execution_count": null,
      "outputs": [
        {
          "output_type": "execute_result",
          "data": {
            "text/plain": [
              "[10, 20, 20, 30, 20, 40, 20]"
            ]
          },
          "metadata": {},
          "execution_count": 116
        }
      ]
    },
    {
      "cell_type": "code",
      "source": [
        "mylist.pop()\n",
        "mylist"
      ],
      "metadata": {
        "colab": {
          "base_uri": "https://localhost:8080/"
        },
        "id": "stYGIeMcYWH5",
        "outputId": "682d5e97-4e2c-4f55-9781-36352cd7b05f"
      },
      "execution_count": null,
      "outputs": [
        {
          "output_type": "execute_result",
          "data": {
            "text/plain": [
              "[10, 20, 20, 30, 20, 40]"
            ]
          },
          "metadata": {},
          "execution_count": 117
        }
      ]
    },
    {
      "cell_type": "code",
      "source": [
        "mylist.pop(2)"
      ],
      "metadata": {
        "colab": {
          "base_uri": "https://localhost:8080/"
        },
        "id": "MYyIZByIYV7A",
        "outputId": "56e142f2-705a-4b81-a2dc-075ab5c2d39e"
      },
      "execution_count": null,
      "outputs": [
        {
          "output_type": "execute_result",
          "data": {
            "text/plain": [
              "20"
            ]
          },
          "metadata": {},
          "execution_count": 118
        }
      ]
    },
    {
      "cell_type": "code",
      "source": [
        "mylist"
      ],
      "metadata": {
        "colab": {
          "base_uri": "https://localhost:8080/"
        },
        "id": "ANJ-U2VqWZLv",
        "outputId": "fcd59950-7bba-48f6-d410-f6bb0a07a4dd"
      },
      "execution_count": null,
      "outputs": [
        {
          "output_type": "execute_result",
          "data": {
            "text/plain": [
              "[10, 20, 30, 20, 40]"
            ]
          },
          "metadata": {},
          "execution_count": 119
        }
      ]
    },
    {
      "cell_type": "code",
      "source": [
        "mylist.append(100)\n",
        "mylist"
      ],
      "metadata": {
        "colab": {
          "base_uri": "https://localhost:8080/"
        },
        "id": "sopLTufaXFph",
        "outputId": "561dc504-74c2-4517-9a5f-e54a941e4a47"
      },
      "execution_count": null,
      "outputs": [
        {
          "output_type": "execute_result",
          "data": {
            "text/plain": [
              "[10, 20, 30, 20, 40, 100]"
            ]
          },
          "metadata": {},
          "execution_count": 120
        }
      ]
    },
    {
      "cell_type": "code",
      "source": [
        "mylist.count(20)"
      ],
      "metadata": {
        "colab": {
          "base_uri": "https://localhost:8080/"
        },
        "id": "_9RdGlpPXFl3",
        "outputId": "891907f3-42c5-48f9-fef6-338c6ff55fdc"
      },
      "execution_count": null,
      "outputs": [
        {
          "output_type": "execute_result",
          "data": {
            "text/plain": [
              "2"
            ]
          },
          "metadata": {},
          "execution_count": 121
        }
      ]
    },
    {
      "cell_type": "code",
      "source": [
        "mylist.insert(0, 200)\n",
        "mylist"
      ],
      "metadata": {
        "colab": {
          "base_uri": "https://localhost:8080/"
        },
        "id": "JCRAHikxXFil",
        "outputId": "3e2d8f7f-9fdf-4305-938b-a525c8727d29"
      },
      "execution_count": null,
      "outputs": [
        {
          "output_type": "execute_result",
          "data": {
            "text/plain": [
              "[200, 10, 20, 30, 20, 40, 100]"
            ]
          },
          "metadata": {},
          "execution_count": 122
        }
      ]
    },
    {
      "cell_type": "code",
      "source": [
        "max(mylist)"
      ],
      "metadata": {
        "colab": {
          "base_uri": "https://localhost:8080/"
        },
        "id": "ExsmwGTjWaNt",
        "outputId": "6332ecbc-3567-40ed-ff0e-7b1486fb97ab"
      },
      "execution_count": null,
      "outputs": [
        {
          "output_type": "execute_result",
          "data": {
            "text/plain": [
              "200"
            ]
          },
          "metadata": {},
          "execution_count": 123
        }
      ]
    },
    {
      "cell_type": "code",
      "source": [
        "min(mylist)"
      ],
      "metadata": {
        "colab": {
          "base_uri": "https://localhost:8080/"
        },
        "id": "1APPiwurW0SN",
        "outputId": "2aef068c-3ee0-42b4-b808-7c7e92706204"
      },
      "execution_count": null,
      "outputs": [
        {
          "output_type": "execute_result",
          "data": {
            "text/plain": [
              "10"
            ]
          },
          "metadata": {},
          "execution_count": 124
        }
      ]
    },
    {
      "cell_type": "code",
      "source": [
        "mylist.reverse()\n",
        "mylist"
      ],
      "metadata": {
        "colab": {
          "base_uri": "https://localhost:8080/"
        },
        "id": "POE146YqXisF",
        "outputId": "65776be7-e24c-47a2-958a-e0d5aebd8baa"
      },
      "execution_count": null,
      "outputs": [
        {
          "output_type": "execute_result",
          "data": {
            "text/plain": [
              "[100, 40, 30, 20, 10, 200]"
            ]
          },
          "metadata": {},
          "execution_count": 126
        }
      ]
    },
    {
      "cell_type": "code",
      "source": [
        "mylist.sort()\n",
        "mylist"
      ],
      "metadata": {
        "colab": {
          "base_uri": "https://localhost:8080/"
        },
        "id": "8jUh75QzXleJ",
        "outputId": "d35cb205-3214-4d9e-9cd5-3450feacc546"
      },
      "execution_count": null,
      "outputs": [
        {
          "output_type": "execute_result",
          "data": {
            "text/plain": [
              "[10, 20, 30, 40, 100, 200]"
            ]
          },
          "metadata": {},
          "execution_count": 127
        }
      ]
    },
    {
      "cell_type": "markdown",
      "source": [
        "# Python Tuple\n",
        "Tuples are fixed size in nature whereas lists are dynamic.\n",
        "In other words, a tuple is immutable whereas a list is mutable.\n",
        "\n",
        "- You can't add elements to a tuple. Tuples have no append or extend method.\n",
        "- You can't remove elements from a tuple. Tuples have no remove or pop method.\n",
        "- You can find elements in a tuple, since this doesn’t change the tuple.\n",
        "- You can also use the in operator to check if an element exists in the tuple.\n",
        "\n",
        "## Use of Tuple\n",
        "- Tuples are faster than lists. If you're defining a constant set of values and all you're ever going to do with it is iterate through it, use a tuple instead of a list.\n",
        "\n",
        "- It makes your code safer if you “write-protect” data that does not need to be changed."
      ],
      "metadata": {
        "id": "B6qoTgjjY6ZG"
      }
    },
    {
      "cell_type": "code",
      "source": [
        "tuples = (\"Python\", 20, 10.6)\n",
        "type(tuples)"
      ],
      "metadata": {
        "colab": {
          "base_uri": "https://localhost:8080/"
        },
        "id": "Q2Qz7aHDY9A1",
        "outputId": "6d97b455-edb8-4107-8bab-d59482edf290"
      },
      "execution_count": null,
      "outputs": [
        {
          "output_type": "execute_result",
          "data": {
            "text/plain": [
              "tuple"
            ]
          },
          "metadata": {},
          "execution_count": 129
        }
      ]
    },
    {
      "cell_type": "code",
      "source": [
        "tuples[0] = 100"
      ],
      "metadata": {
        "colab": {
          "base_uri": "https://localhost:8080/",
          "height": 165
        },
        "id": "cO_CJLW8ZJzY",
        "outputId": "32e5c8f4-fbbc-42ba-c8c8-12b7d8a9cb17"
      },
      "execution_count": null,
      "outputs": [
        {
          "output_type": "error",
          "ename": "TypeError",
          "evalue": "ignored",
          "traceback": [
            "\u001b[0;31m---------------------------------------------------------------------------\u001b[0m",
            "\u001b[0;31mTypeError\u001b[0m                                 Traceback (most recent call last)",
            "\u001b[0;32m<ipython-input-130-d3e19774b6a8>\u001b[0m in \u001b[0;36m<module>\u001b[0;34m()\u001b[0m\n\u001b[0;32m----> 1\u001b[0;31m \u001b[0mtuples\u001b[0m\u001b[0;34m[\u001b[0m\u001b[0;36m0\u001b[0m\u001b[0;34m]\u001b[0m \u001b[0;34m=\u001b[0m \u001b[0;36m100\u001b[0m\u001b[0;34m\u001b[0m\u001b[0;34m\u001b[0m\u001b[0m\n\u001b[0m",
            "\u001b[0;31mTypeError\u001b[0m: 'tuple' object does not support item assignment"
          ]
        }
      ]
    },
    {
      "cell_type": "code",
      "source": [
        "print(dir(tuple))"
      ],
      "metadata": {
        "colab": {
          "base_uri": "https://localhost:8080/"
        },
        "id": "zx3S-DqoZmvK",
        "outputId": "7f5443ef-0e97-460b-9ca0-17af722e5c8a"
      },
      "execution_count": null,
      "outputs": [
        {
          "output_type": "stream",
          "name": "stdout",
          "text": [
            "['__add__', '__class__', '__contains__', '__delattr__', '__dir__', '__doc__', '__eq__', '__format__', '__ge__', '__getattribute__', '__getitem__', '__getnewargs__', '__gt__', '__hash__', '__init__', '__init_subclass__', '__iter__', '__le__', '__len__', '__lt__', '__mul__', '__ne__', '__new__', '__reduce__', '__reduce_ex__', '__repr__', '__rmul__', '__setattr__', '__sizeof__', '__str__', '__subclasshook__', 'count', 'index']\n"
          ]
        }
      ]
    },
    {
      "cell_type": "markdown",
      "source": [
        "# Python Set\n",
        "A Python set is the collection of the unordered items. \n",
        "- Each element in the set must be unique, immutable, and the sets remove the duplicate elements. \n",
        "- Sets are mutable which means we can modify it after its creation."
      ],
      "metadata": {
        "id": "12tBek0gb3zL"
      }
    },
    {
      "cell_type": "code",
      "source": [
        "nums = {10, 20, 30, 40, 10, 20}\n",
        "print(nums)\n",
        "print(type(nums))"
      ],
      "metadata": {
        "colab": {
          "base_uri": "https://localhost:8080/"
        },
        "id": "FKs6iSELZ9Dk",
        "outputId": "c5dab101-9a82-41ec-f261-ddfc16f14d04"
      },
      "execution_count": null,
      "outputs": [
        {
          "output_type": "stream",
          "name": "stdout",
          "text": [
            "{40, 10, 20, 30}\n",
            "<class 'set'>\n"
          ]
        }
      ]
    },
    {
      "cell_type": "code",
      "source": [
        "nums.add(100)\n",
        "nums"
      ],
      "metadata": {
        "colab": {
          "base_uri": "https://localhost:8080/"
        },
        "id": "wlHJ1DowcI-B",
        "outputId": "f21fe638-cc6f-4d52-d211-0b1b3f62c8ed"
      },
      "execution_count": null,
      "outputs": [
        {
          "output_type": "execute_result",
          "data": {
            "text/plain": [
              "{10, 20, 30, 40, 100}"
            ]
          },
          "metadata": {},
          "execution_count": 142
        }
      ]
    },
    {
      "cell_type": "code",
      "source": [
        "nums.remove(100)\n",
        "nums"
      ],
      "metadata": {
        "colab": {
          "base_uri": "https://localhost:8080/"
        },
        "id": "9p3mc2jdcp1F",
        "outputId": "430b977a-9bb0-4579-eb9f-c98068cac074"
      },
      "execution_count": null,
      "outputs": [
        {
          "output_type": "execute_result",
          "data": {
            "text/plain": [
              "{10, 20, 30, 40}"
            ]
          },
          "metadata": {},
          "execution_count": 143
        }
      ]
    },
    {
      "cell_type": "code",
      "source": [
        "nums.discard(20)\n",
        "nums"
      ],
      "metadata": {
        "colab": {
          "base_uri": "https://localhost:8080/"
        },
        "id": "-vvtBCptcy2o",
        "outputId": "edd7ef8e-2144-4afa-e256-54b57344716a"
      },
      "execution_count": null,
      "outputs": [
        {
          "output_type": "execute_result",
          "data": {
            "text/plain": [
              "{10, 30, 40}"
            ]
          },
          "metadata": {},
          "execution_count": 145
        }
      ]
    },
    {
      "cell_type": "code",
      "source": [
        "#Built in Functions\n",
        "print(dir(set))"
      ],
      "metadata": {
        "colab": {
          "base_uri": "https://localhost:8080/"
        },
        "id": "PXrwFvx-c1Kq",
        "outputId": "e0d8df78-1a91-42b7-edc9-852b3c6e4676"
      },
      "execution_count": null,
      "outputs": [
        {
          "output_type": "stream",
          "name": "stdout",
          "text": [
            "['__and__', '__class__', '__contains__', '__delattr__', '__dir__', '__doc__', '__eq__', '__format__', '__ge__', '__getattribute__', '__gt__', '__hash__', '__iand__', '__init__', '__init_subclass__', '__ior__', '__isub__', '__iter__', '__ixor__', '__le__', '__len__', '__lt__', '__ne__', '__new__', '__or__', '__rand__', '__reduce__', '__reduce_ex__', '__repr__', '__ror__', '__rsub__', '__rxor__', '__setattr__', '__sizeof__', '__str__', '__sub__', '__subclasshook__', '__xor__', 'add', 'clear', 'copy', 'difference', 'difference_update', 'discard', 'intersection', 'intersection_update', 'isdisjoint', 'issubset', 'issuperset', 'pop', 'remove', 'symmetric_difference', 'symmetric_difference_update', 'union', 'update']\n"
          ]
        }
      ]
    },
    {
      "cell_type": "code",
      "source": [
        "set1 = {10, 20, 30, 40}\n",
        "set2 = {30, 40, 50, 60}\n",
        "\n",
        "set1.union(set2)"
      ],
      "metadata": {
        "colab": {
          "base_uri": "https://localhost:8080/"
        },
        "id": "H1gS9zZzc-CZ",
        "outputId": "400c52ff-9204-4d42-86eb-8bd1b2a1aa22"
      },
      "execution_count": null,
      "outputs": [
        {
          "output_type": "execute_result",
          "data": {
            "text/plain": [
              "{10, 20, 30, 40, 50, 60}"
            ]
          },
          "metadata": {},
          "execution_count": 148
        }
      ]
    },
    {
      "cell_type": "code",
      "source": [
        "set1 | set2"
      ],
      "metadata": {
        "colab": {
          "base_uri": "https://localhost:8080/"
        },
        "id": "IOqzKEy2eAMF",
        "outputId": "284d2f65-95aa-4dc6-a2e9-0b321888d9a3"
      },
      "execution_count": null,
      "outputs": [
        {
          "output_type": "execute_result",
          "data": {
            "text/plain": [
              "{10, 20, 30, 40, 50, 60}"
            ]
          },
          "metadata": {},
          "execution_count": 153
        }
      ]
    },
    {
      "cell_type": "code",
      "source": [
        "set1.intersection(set2)"
      ],
      "metadata": {
        "colab": {
          "base_uri": "https://localhost:8080/"
        },
        "id": "5IlVSIk9dU90",
        "outputId": "226da5a5-a5e1-4c79-f548-de2f29a05454"
      },
      "execution_count": null,
      "outputs": [
        {
          "output_type": "execute_result",
          "data": {
            "text/plain": [
              "{30, 40}"
            ]
          },
          "metadata": {},
          "execution_count": 149
        }
      ]
    },
    {
      "cell_type": "code",
      "source": [
        "set1 & set2"
      ],
      "metadata": {
        "colab": {
          "base_uri": "https://localhost:8080/"
        },
        "id": "sLi5cFv-eEzR",
        "outputId": "73bf3afd-0cc4-4533-ba89-9ce9ed9721b3"
      },
      "execution_count": null,
      "outputs": [
        {
          "output_type": "execute_result",
          "data": {
            "text/plain": [
              "{30, 40}"
            ]
          },
          "metadata": {},
          "execution_count": 154
        }
      ]
    },
    {
      "cell_type": "code",
      "source": [
        "set1.difference(set2)"
      ],
      "metadata": {
        "colab": {
          "base_uri": "https://localhost:8080/"
        },
        "id": "OZYUZAicdXbf",
        "outputId": "a1e7aecb-fc99-4a11-9e45-1cce159700e2"
      },
      "execution_count": null,
      "outputs": [
        {
          "output_type": "execute_result",
          "data": {
            "text/plain": [
              "{10, 20}"
            ]
          },
          "metadata": {},
          "execution_count": 150
        }
      ]
    },
    {
      "cell_type": "code",
      "source": [
        "set1 - set2"
      ],
      "metadata": {
        "colab": {
          "base_uri": "https://localhost:8080/"
        },
        "id": "qIDi0Zstdorf",
        "outputId": "1211ca14-40e8-42ab-8643-2413a0aa3b8b"
      },
      "execution_count": null,
      "outputs": [
        {
          "output_type": "execute_result",
          "data": {
            "text/plain": [
              "{10, 20}"
            ]
          },
          "metadata": {},
          "execution_count": 151
        }
      ]
    },
    {
      "cell_type": "code",
      "source": [
        "set1.symmetric_difference(set2)"
      ],
      "metadata": {
        "colab": {
          "base_uri": "https://localhost:8080/"
        },
        "id": "8jjYL53tdq6J",
        "outputId": "4595e404-8827-417e-a722-108605515a50"
      },
      "execution_count": null,
      "outputs": [
        {
          "output_type": "execute_result",
          "data": {
            "text/plain": [
              "{10, 20, 50, 60}"
            ]
          },
          "metadata": {},
          "execution_count": 155
        }
      ]
    },
    {
      "cell_type": "code",
      "source": [
        "set1 ^ set2"
      ],
      "metadata": {
        "colab": {
          "base_uri": "https://localhost:8080/"
        },
        "id": "0Hat8jaKeM0B",
        "outputId": "1151f7f5-c41e-47e8-d2c7-47339aba19a3"
      },
      "execution_count": null,
      "outputs": [
        {
          "output_type": "execute_result",
          "data": {
            "text/plain": [
              "{10, 20, 50, 60}"
            ]
          },
          "metadata": {},
          "execution_count": 156
        }
      ]
    },
    {
      "cell_type": "code",
      "source": [
        "# Set comparisons\n",
        "\n",
        "Days1 = {\"Monday\",  \"Tuesday\", \"Wednesday\", \"Thursday\"}    \n",
        "Days2 = {\"Monday\", \"Tuesday\"}    \n",
        "Days3 = {\"Monday\", \"Tuesday\", \"Friday\"}    \n",
        "    \n",
        "#Days1 is the superset of Days2 hence it will print true.     \n",
        "print (Days1>Days2)     \n",
        "    \n",
        "#prints false since Days1 is not the subset of Days2     \n",
        "print (Days1<Days2)    \n",
        "    \n",
        "#prints false since Days2 and Days3 are not equivalent     \n",
        "print (Days2 == Days3)    "
      ],
      "metadata": {
        "colab": {
          "base_uri": "https://localhost:8080/"
        },
        "id": "AQLRuF__ePSS",
        "outputId": "de736650-b222-4d3c-957c-cc53e8c2bcf8"
      },
      "execution_count": null,
      "outputs": [
        {
          "output_type": "stream",
          "name": "stdout",
          "text": [
            "True\n",
            "False\n",
            "False\n"
          ]
        }
      ]
    },
    {
      "cell_type": "markdown",
      "source": [
        "# Python Dictionary\n",
        "Python Dictionary is used to store the data in a key-value pair format. \n",
        "- It is the mutable data-structure. \n",
        "- The dictionary is defined into element Keys and values.\n",
        "  - Keys must be a single element\n",
        "  - Value can be any type such as list, tuple, integer, etc."
      ],
      "metadata": {
        "id": "RgOwL_zgeoFB"
      }
    },
    {
      "cell_type": "code",
      "source": [
        "Dist = {\"name\":\"Python\", \"age\":20}\n",
        "print(Dist)\n",
        "print(type(Dist))"
      ],
      "metadata": {
        "colab": {
          "base_uri": "https://localhost:8080/"
        },
        "id": "mSKO9nQpea-c",
        "outputId": "8b05c5b5-3c57-4223-b82e-a8473ae5b2e6"
      },
      "execution_count": null,
      "outputs": [
        {
          "output_type": "stream",
          "name": "stdout",
          "text": [
            "{'name': 'Python', 'age': 20}\n",
            "<class 'dict'>\n"
          ]
        }
      ]
    },
    {
      "cell_type": "code",
      "source": [
        "Dist[\"sex\"] = \"Male\"\n",
        "Dist"
      ],
      "metadata": {
        "colab": {
          "base_uri": "https://localhost:8080/"
        },
        "id": "uQ0HI1d3fBXe",
        "outputId": "ee81c058-aa05-4dd3-aa20-81e5145e6358"
      },
      "execution_count": null,
      "outputs": [
        {
          "output_type": "execute_result",
          "data": {
            "text/plain": [
              "{'age': 20, 'name': 'Python', 'sex': 'Male'}"
            ]
          },
          "metadata": {},
          "execution_count": 162
        }
      ]
    },
    {
      "cell_type": "code",
      "source": [
        "Dist[\"sex\"] = \"Female\"\n",
        "Dist"
      ],
      "metadata": {
        "colab": {
          "base_uri": "https://localhost:8080/"
        },
        "id": "7hFgFnW2fNdc",
        "outputId": "cceac5b6-7fb9-4fe4-800e-d10d7693f0a1"
      },
      "execution_count": null,
      "outputs": [
        {
          "output_type": "execute_result",
          "data": {
            "text/plain": [
              "{'age': 20, 'name': 'Python', 'sex': 'Female'}"
            ]
          },
          "metadata": {},
          "execution_count": 164
        }
      ]
    },
    {
      "cell_type": "code",
      "source": [
        "del Dist[\"sex\"]\n",
        "Dist"
      ],
      "metadata": {
        "colab": {
          "base_uri": "https://localhost:8080/"
        },
        "id": "JlkoWA1zfOQu",
        "outputId": "882bdd91-79c7-4199-a9f2-cff59a8d5ce0"
      },
      "execution_count": null,
      "outputs": [
        {
          "output_type": "execute_result",
          "data": {
            "text/plain": [
              "{'age': 20, 'name': 'Python'}"
            ]
          },
          "metadata": {},
          "execution_count": 165
        }
      ]
    },
    {
      "cell_type": "code",
      "source": [
        "Dist.pop(\"age\")"
      ],
      "metadata": {
        "colab": {
          "base_uri": "https://localhost:8080/"
        },
        "id": "yuohi9aJfc9-",
        "outputId": "2f6d7274-740b-4fae-c2ae-5fff3345b367"
      },
      "execution_count": null,
      "outputs": [
        {
          "output_type": "execute_result",
          "data": {
            "text/plain": [
              "20"
            ]
          },
          "metadata": {},
          "execution_count": 166
        }
      ]
    },
    {
      "cell_type": "code",
      "source": [
        "Dist"
      ],
      "metadata": {
        "colab": {
          "base_uri": "https://localhost:8080/"
        },
        "id": "IPvnWUeIfsL4",
        "outputId": "486f8906-a601-494b-97b1-6f63825042e1"
      },
      "execution_count": null,
      "outputs": [
        {
          "output_type": "execute_result",
          "data": {
            "text/plain": [
              "{'name': 'Python'}"
            ]
          },
          "metadata": {},
          "execution_count": 167
        }
      ]
    },
    {
      "cell_type": "code",
      "source": [
        "Dist = {\"name\":\"Python\", \"age\":20, \"sex\":\"Male\", \"country\":\"india\"}"
      ],
      "metadata": {
        "id": "nuavED7dft62"
      },
      "execution_count": null,
      "outputs": []
    },
    {
      "cell_type": "code",
      "source": [
        "for key in Dist:\n",
        "  print(key)"
      ],
      "metadata": {
        "colab": {
          "base_uri": "https://localhost:8080/"
        },
        "id": "N0cKmzDaf7y-",
        "outputId": "eac1d1a6-e5e0-4b13-8d10-81d2c3e16469"
      },
      "execution_count": null,
      "outputs": [
        {
          "output_type": "stream",
          "name": "stdout",
          "text": [
            "name\n",
            "age\n",
            "sex\n",
            "country\n"
          ]
        }
      ]
    },
    {
      "cell_type": "code",
      "source": [
        "for key in Dist:\n",
        "  print(Dist[key])"
      ],
      "metadata": {
        "colab": {
          "base_uri": "https://localhost:8080/"
        },
        "id": "Wfkj3PfogAER",
        "outputId": "ae3a81cd-3615-4065-8584-b620d40a4b7e"
      },
      "execution_count": null,
      "outputs": [
        {
          "output_type": "stream",
          "name": "stdout",
          "text": [
            "Python\n",
            "20\n",
            "Male\n",
            "india\n"
          ]
        }
      ]
    },
    {
      "cell_type": "code",
      "source": [
        "for val in Dist.values():\n",
        "  print(val)"
      ],
      "metadata": {
        "colab": {
          "base_uri": "https://localhost:8080/"
        },
        "id": "GzPvfNcigIld",
        "outputId": "acccc1f4-9db7-4381-9bc0-34a2d1bc5afc"
      },
      "execution_count": null,
      "outputs": [
        {
          "output_type": "stream",
          "name": "stdout",
          "text": [
            "Python\n",
            "20\n",
            "Male\n",
            "india\n"
          ]
        }
      ]
    },
    {
      "cell_type": "code",
      "source": [
        "for item in Dist.items():\n",
        "  print(item)"
      ],
      "metadata": {
        "colab": {
          "base_uri": "https://localhost:8080/"
        },
        "id": "mLDZjTcJgQRF",
        "outputId": "1e5b9d5d-bc10-4791-8084-4fe2743d665a"
      },
      "execution_count": null,
      "outputs": [
        {
          "output_type": "stream",
          "name": "stdout",
          "text": [
            "('name', 'Python')\n",
            "('age', 20)\n",
            "('sex', 'Male')\n",
            "('country', 'india')\n"
          ]
        }
      ]
    },
    {
      "cell_type": "code",
      "source": [
        "for key, val in Dist.items():\n",
        "  print(key, val)"
      ],
      "metadata": {
        "colab": {
          "base_uri": "https://localhost:8080/"
        },
        "id": "iHus6GMmgYRT",
        "outputId": "f1bbd676-3ffb-4d39-ca2e-2c8da34eda0e"
      },
      "execution_count": null,
      "outputs": [
        {
          "output_type": "stream",
          "name": "stdout",
          "text": [
            "name Python\n",
            "age 20\n",
            "sex Male\n",
            "country india\n"
          ]
        }
      ]
    },
    {
      "cell_type": "code",
      "source": [
        "Dist.keys()"
      ],
      "metadata": {
        "colab": {
          "base_uri": "https://localhost:8080/"
        },
        "id": "QVy_rYZngi_w",
        "outputId": "6b3d514b-145e-464f-c087-a40074a8af2a"
      },
      "execution_count": null,
      "outputs": [
        {
          "output_type": "execute_result",
          "data": {
            "text/plain": [
              "dict_keys(['name', 'age', 'sex', 'country'])"
            ]
          },
          "metadata": {},
          "execution_count": 178
        }
      ]
    },
    {
      "cell_type": "code",
      "source": [
        "print(dir(dict))"
      ],
      "metadata": {
        "colab": {
          "base_uri": "https://localhost:8080/"
        },
        "id": "Yu_F6HsRg3DA",
        "outputId": "7f71ae95-ae23-4925-a623-51da97664c6f"
      },
      "execution_count": null,
      "outputs": [
        {
          "output_type": "stream",
          "name": "stdout",
          "text": [
            "['__class__', '__contains__', '__delattr__', '__delitem__', '__dir__', '__doc__', '__eq__', '__format__', '__ge__', '__getattribute__', '__getitem__', '__gt__', '__hash__', '__init__', '__init_subclass__', '__iter__', '__le__', '__len__', '__lt__', '__ne__', '__new__', '__reduce__', '__reduce_ex__', '__repr__', '__setattr__', '__setitem__', '__sizeof__', '__str__', '__subclasshook__', 'clear', 'copy', 'fromkeys', 'get', 'items', 'keys', 'pop', 'popitem', 'setdefault', 'update', 'values']\n"
          ]
        }
      ]
    }
  ]
}