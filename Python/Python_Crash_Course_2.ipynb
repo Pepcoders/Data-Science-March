{
  "nbformat": 4,
  "nbformat_minor": 0,
  "metadata": {
    "colab": {
      "name": "Python Crash Course - 2.ipynb",
      "provenance": [],
      "authorship_tag": "ABX9TyMiPpMbhde0UDjESbAn6LF1",
      "include_colab_link": true
    },
    "kernelspec": {
      "name": "python3",
      "display_name": "Python 3"
    },
    "language_info": {
      "name": "python"
    }
  },
  "cells": [
    {
      "cell_type": "markdown",
      "metadata": {
        "id": "view-in-github",
        "colab_type": "text"
      },
      "source": [
        "<a href=\"https://colab.research.google.com/github/Pepcoders/Data-Science-March/blob/main/Python/Python_Crash_Course_2.ipynb\" target=\"_parent\"><img src=\"https://colab.research.google.com/assets/colab-badge.svg\" alt=\"Open In Colab\"/></a>"
      ]
    },
    {
      "cell_type": "markdown",
      "source": [
        "# Conditional Statements\n"
      ],
      "metadata": {
        "id": "SSdcCvdenQ0o"
      }
    },
    {
      "cell_type": "code",
      "execution_count": null,
      "metadata": {
        "id": "a1qUimXAd1br"
      },
      "outputs": [],
      "source": [
        "if condition:  \n",
        "    # if block   \n",
        "else:   \n",
        "    # else-block "
      ]
    },
    {
      "cell_type": "code",
      "source": [
        "num = int(input(\"Inter a num: \"))\n",
        "\n",
        "if num < 0:\n",
        "  print(\"Negative\")\n",
        "else :\n",
        "  print(\"Positive\")"
      ],
      "metadata": {
        "id": "8rk1HqRNs_tg"
      },
      "execution_count": null,
      "outputs": []
    },
    {
      "cell_type": "code",
      "source": [
        "marks = int(input(\"Enter Marks\"))\n",
        "\n",
        "if marks > 60:\n",
        "  print(\"First Class\")\n",
        "elif marks > 45:\n",
        "  print(\"Second Class\")\n",
        "elif marks > 30:\n",
        "  print(\"Third Class\")\n",
        "else:\n",
        "  print(\"Fail\")"
      ],
      "metadata": {
        "id": "sTdfGziBtoYn"
      },
      "execution_count": null,
      "outputs": []
    },
    {
      "cell_type": "markdown",
      "source": [
        "# Loops\n",
        "- It provides code re-usability.\n",
        "- Using loops, we do not need to write the same code again and again.\n"
      ],
      "metadata": {
        "id": "V8XqrqQFvBA_"
      }
    },
    {
      "cell_type": "code",
      "source": [
        "for element in sequence:    \n",
        "    # statements    "
      ],
      "metadata": {
        "id": "rKUHU-3ZurLF"
      },
      "execution_count": null,
      "outputs": []
    },
    {
      "cell_type": "code",
      "source": [
        "nums = [10, 20, 30, 40, 50]  \n",
        "sum = 0  \n",
        "\n",
        "for num in nums:  \n",
        "  sum = sum + num\n",
        "    \n",
        "print(\"The sum is:\",sum)  "
      ],
      "metadata": {
        "colab": {
          "base_uri": "https://localhost:8080/"
        },
        "id": "mc1CoK74vhUs",
        "outputId": "83d5dceb-a0b0-4cf3-93d1-f483b921ad56"
      },
      "execution_count": 4,
      "outputs": [
        {
          "output_type": "stream",
          "name": "stdout",
          "text": [
            "The sum is: 150\n"
          ]
        }
      ]
    },
    {
      "cell_type": "markdown",
      "source": [
        "## range() function\n",
        "- The range() function is used to generate the sequence of the numbers.\n",
        "- range(start,stop,step size)  "
      ],
      "metadata": {
        "id": "HHmQ8Iad5TC0"
      }
    },
    {
      "cell_type": "code",
      "source": [
        "for i in range(10):  \n",
        "    print(i, end = ' ')  "
      ],
      "metadata": {
        "colab": {
          "base_uri": "https://localhost:8080/"
        },
        "id": "4hEcGm-Uv0wK",
        "outputId": "59da4b54-a4bb-4729-981f-05693411a5ca"
      },
      "execution_count": 8,
      "outputs": [
        {
          "output_type": "stream",
          "name": "stdout",
          "text": [
            "0 1 2 3 4 5 6 7 8 9 "
          ]
        }
      ]
    },
    {
      "cell_type": "code",
      "source": [
        "for i in range(10, 20, 2):  \n",
        "    print(i, end = ' ') "
      ],
      "metadata": {
        "colab": {
          "base_uri": "https://localhost:8080/"
        },
        "id": "smwYTF99v6Ld",
        "outputId": "fe2e4a8b-0f23-49c4-ca8c-cf354b42afd1"
      },
      "execution_count": 9,
      "outputs": [
        {
          "output_type": "stream",
          "name": "stdout",
          "text": [
            "10 12 14 16 18 "
          ]
        }
      ]
    },
    {
      "cell_type": "markdown",
      "source": [
        "## Else in for loop\n",
        "The else clause executes after the loop completes normally. This means that the loop did not encounter a break statement. "
      ],
      "metadata": {
        "id": "qrxqBPIdw3Yf"
      }
    },
    {
      "cell_type": "code",
      "source": [
        "# Program to Find a element without using else in for loop\n",
        "\n",
        "nums = [10, 20, 30, 40, 50]\n",
        "\n",
        "num = int(input(\"Enter Number to find: \"))\n",
        "\n",
        "flag = False\n",
        "\n",
        "for ele in nums:\n",
        "  if(ele == num):\n",
        "    print(\"Found\")\n",
        "    flag = True\n",
        "    break;\n",
        "\n",
        "if flag == False:\n",
        "  print(\"Not Found\")"
      ],
      "metadata": {
        "colab": {
          "base_uri": "https://localhost:8080/"
        },
        "id": "OKNKbgnrwTtp",
        "outputId": "cd3db255-2f92-4e71-82f3-39ad28054f11"
      },
      "execution_count": 12,
      "outputs": [
        {
          "output_type": "stream",
          "name": "stdout",
          "text": [
            "Enter Number to find: 100\n",
            "Not Found\n"
          ]
        }
      ]
    },
    {
      "cell_type": "code",
      "source": [
        "# Program to Find a element using for loop with else statement\n",
        "\n",
        "num = int(input(\"Enter Number to find: \"))\n",
        "\n",
        "for ele in nums:\n",
        "  if(ele == num):\n",
        "    print(\"Found\")\n",
        "    break;\n",
        "else:\n",
        "  print(\"Not Found\")"
      ],
      "metadata": {
        "colab": {
          "base_uri": "https://localhost:8080/"
        },
        "id": "qdzMUNxr2-B8",
        "outputId": "43ea3c0b-9611-41f1-daa6-47b1d0339f70"
      },
      "execution_count": 14,
      "outputs": [
        {
          "output_type": "stream",
          "name": "stdout",
          "text": [
            "Enter Number to find: 40\n",
            "Found\n"
          ]
        }
      ]
    },
    {
      "cell_type": "markdown",
      "source": [
        "## Nested for loop"
      ],
      "metadata": {
        "id": "xvxsWkSD5zWi"
      }
    },
    {
      "cell_type": "code",
      "source": [
        "matrix = [\n",
        "          [10, 20, 30, 40],\n",
        "          [50, 60, 70, 80],\n",
        "          [90, 100, 110, 120]\n",
        "]\n",
        "\n",
        "for row in matrix:\n",
        "  for ele in row:\n",
        "    print(ele, end = ' ')\n",
        "  print()"
      ],
      "metadata": {
        "colab": {
          "base_uri": "https://localhost:8080/"
        },
        "id": "BzaxLJci3R7R",
        "outputId": "bc4b8d43-f89d-4be7-c6cb-f42246fd0b30"
      },
      "execution_count": 18,
      "outputs": [
        {
          "output_type": "stream",
          "name": "stdout",
          "text": [
            "10 20 30 40 \n",
            "50 60 70 80 \n",
            "90 100 110 120 \n"
          ]
        }
      ]
    },
    {
      "cell_type": "markdown",
      "source": [
        "## While loop"
      ],
      "metadata": {
        "id": "Fp1oShb57Mwa"
      }
    },
    {
      "cell_type": "code",
      "source": [
        "score = 0\n",
        "while score < 100:\n",
        "  print(\"Play...\")\n",
        "  score = score + 10\n",
        "\n",
        "print(\"You win the Game\")"
      ],
      "metadata": {
        "colab": {
          "base_uri": "https://localhost:8080/"
        },
        "id": "iuSR0zKx6Fhi",
        "outputId": "eceb4151-b830-427a-e681-3998b0bdbf31"
      },
      "execution_count": 20,
      "outputs": [
        {
          "output_type": "stream",
          "name": "stdout",
          "text": [
            "Play...\n",
            "Play...\n",
            "Play...\n",
            "Play...\n",
            "Play...\n",
            "Play...\n",
            "Play...\n",
            "Play...\n",
            "Play...\n",
            "Play...\n",
            "You win the Game\n"
          ]
        }
      ]
    },
    {
      "cell_type": "code",
      "source": [
        ""
      ],
      "metadata": {
        "id": "R9QISTqtbxO5"
      },
      "execution_count": null,
      "outputs": []
    }
  ]
}