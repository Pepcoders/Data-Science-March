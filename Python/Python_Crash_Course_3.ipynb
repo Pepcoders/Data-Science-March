{
  "nbformat": 4,
  "nbformat_minor": 0,
  "metadata": {
    "colab": {
      "name": "Python Crash Course - 2.ipynb",
      "provenance": [],
      "authorship_tag": "ABX9TyMDbxb+IeV56kHqopabxj9X",
      "include_colab_link": true
    },
    "kernelspec": {
      "name": "python3",
      "display_name": "Python 3"
    },
    "language_info": {
      "name": "python"
    }
  },
  "cells": [
    {
      "cell_type": "markdown",
      "metadata": {
        "id": "view-in-github",
        "colab_type": "text"
      },
      "source": [
        "<a href=\"https://colab.research.google.com/github/Pepcoders/Data-Science-March/blob/main/Python/Python_Crash_Course_3.ipynb\" target=\"_parent\"><img src=\"https://colab.research.google.com/assets/colab-badge.svg\" alt=\"Open In Colab\"/></a>"
      ]
    },
    {
      "cell_type": "markdown",
      "source": [
        "# Conditional Statements\n"
      ],
      "metadata": {
        "id": "SSdcCvdenQ0o"
      }
    },
    {
      "cell_type": "code",
      "execution_count": null,
      "metadata": {
        "id": "a1qUimXAd1br"
      },
      "outputs": [],
      "source": [
        "if condition:  \n",
        "    # if block   \n",
        "else:   \n",
        "    # else-block "
      ]
    },
    {
      "cell_type": "code",
      "source": [
        "num = int(input(\"Inter a num: \"))\n",
        "\n",
        "if num < 0:\n",
        "  print(\"Negative\")\n",
        "else :\n",
        "  print(\"Positive\")"
      ],
      "metadata": {
        "id": "8rk1HqRNs_tg"
      },
      "execution_count": null,
      "outputs": []
    },
    {
      "cell_type": "code",
      "source": [
        "marks = int(input(\"Enter Marks\"))\n",
        "\n",
        "if marks > 60:\n",
        "  print(\"First Class\")\n",
        "elif marks > 45:\n",
        "  print(\"Second Class\")\n",
        "elif marks > 30:\n",
        "  print(\"Third Class\")\n",
        "else:\n",
        "  print(\"Fail\")"
      ],
      "metadata": {
        "id": "sTdfGziBtoYn"
      },
      "execution_count": null,
      "outputs": []
    },
    {
      "cell_type": "markdown",
      "source": [
        "# Loops\n",
        "- It provides code re-usability.\n",
        "- Using loops, we do not need to write the same code again and again.\n"
      ],
      "metadata": {
        "id": "V8XqrqQFvBA_"
      }
    },
    {
      "cell_type": "code",
      "source": [
        "for element in sequence:    \n",
        "    # statements    "
      ],
      "metadata": {
        "id": "rKUHU-3ZurLF"
      },
      "execution_count": null,
      "outputs": []
    },
    {
      "cell_type": "code",
      "source": [
        "nums = [10, 20, 30, 40, 50]  \n",
        "sum = 0  \n",
        "\n",
        "for num in nums:  \n",
        "  sum = sum + num\n",
        "    \n",
        "print(\"The sum is:\",sum)  "
      ],
      "metadata": {
        "colab": {
          "base_uri": "https://localhost:8080/"
        },
        "id": "mc1CoK74vhUs",
        "outputId": "83d5dceb-a0b0-4cf3-93d1-f483b921ad56"
      },
      "execution_count": null,
      "outputs": [
        {
          "output_type": "stream",
          "name": "stdout",
          "text": [
            "The sum is: 150\n"
          ]
        }
      ]
    },
    {
      "cell_type": "markdown",
      "source": [
        "## range() function\n",
        "- The range() function is used to generate the sequence of the numbers.\n",
        "- range(start,stop,step size)  "
      ],
      "metadata": {
        "id": "HHmQ8Iad5TC0"
      }
    },
    {
      "cell_type": "code",
      "source": [
        "for i in range(10):  \n",
        "    print(i, end = ' ')  "
      ],
      "metadata": {
        "colab": {
          "base_uri": "https://localhost:8080/"
        },
        "id": "4hEcGm-Uv0wK",
        "outputId": "59da4b54-a4bb-4729-981f-05693411a5ca"
      },
      "execution_count": null,
      "outputs": [
        {
          "output_type": "stream",
          "name": "stdout",
          "text": [
            "0 1 2 3 4 5 6 7 8 9 "
          ]
        }
      ]
    },
    {
      "cell_type": "code",
      "source": [
        "for i in range(10, 20, 2):  \n",
        "    print(i, end = ' ') "
      ],
      "metadata": {
        "colab": {
          "base_uri": "https://localhost:8080/"
        },
        "id": "smwYTF99v6Ld",
        "outputId": "fe2e4a8b-0f23-49c4-ca8c-cf354b42afd1"
      },
      "execution_count": null,
      "outputs": [
        {
          "output_type": "stream",
          "name": "stdout",
          "text": [
            "10 12 14 16 18 "
          ]
        }
      ]
    },
    {
      "cell_type": "markdown",
      "source": [
        "## Else in for loop\n",
        "The else clause executes after the loop completes normally. This means that the loop did not encounter a break statement. "
      ],
      "metadata": {
        "id": "qrxqBPIdw3Yf"
      }
    },
    {
      "cell_type": "code",
      "source": [
        "# Program to Find a element without using else in for loop\n",
        "\n",
        "nums = [10, 20, 30, 40, 50]\n",
        "\n",
        "num = int(input(\"Enter Number to find: \"))\n",
        "\n",
        "flag = False\n",
        "\n",
        "for ele in nums:\n",
        "  if(ele == num):\n",
        "    print(\"Found\")\n",
        "    flag = True\n",
        "    break;\n",
        "\n",
        "if flag == False:\n",
        "  print(\"Not Found\")"
      ],
      "metadata": {
        "colab": {
          "base_uri": "https://localhost:8080/"
        },
        "id": "OKNKbgnrwTtp",
        "outputId": "cd3db255-2f92-4e71-82f3-39ad28054f11"
      },
      "execution_count": null,
      "outputs": [
        {
          "output_type": "stream",
          "name": "stdout",
          "text": [
            "Enter Number to find: 100\n",
            "Not Found\n"
          ]
        }
      ]
    },
    {
      "cell_type": "code",
      "source": [
        "# Program to Find a element using for loop with else statement\n",
        "\n",
        "num = int(input(\"Enter Number to find: \"))\n",
        "\n",
        "for ele in nums:\n",
        "  if(ele == num):\n",
        "    print(\"Found\")\n",
        "    break;\n",
        "else:\n",
        "  print(\"Not Found\")"
      ],
      "metadata": {
        "colab": {
          "base_uri": "https://localhost:8080/"
        },
        "id": "qdzMUNxr2-B8",
        "outputId": "43ea3c0b-9611-41f1-daa6-47b1d0339f70"
      },
      "execution_count": null,
      "outputs": [
        {
          "output_type": "stream",
          "name": "stdout",
          "text": [
            "Enter Number to find: 40\n",
            "Found\n"
          ]
        }
      ]
    },
    {
      "cell_type": "markdown",
      "source": [
        "## Nested for loop"
      ],
      "metadata": {
        "id": "xvxsWkSD5zWi"
      }
    },
    {
      "cell_type": "code",
      "source": [
        "matrix = [\n",
        "          [10, 20, 30, 40],\n",
        "          [50, 60, 70, 80],\n",
        "          [90, 100, 110, 120]\n",
        "]\n",
        "\n",
        "for row in matrix:\n",
        "  for ele in row:\n",
        "    print(ele, end = ' ')\n",
        "  print()"
      ],
      "metadata": {
        "colab": {
          "base_uri": "https://localhost:8080/"
        },
        "id": "BzaxLJci3R7R",
        "outputId": "bc4b8d43-f89d-4be7-c6cb-f42246fd0b30"
      },
      "execution_count": null,
      "outputs": [
        {
          "output_type": "stream",
          "name": "stdout",
          "text": [
            "10 20 30 40 \n",
            "50 60 70 80 \n",
            "90 100 110 120 \n"
          ]
        }
      ]
    },
    {
      "cell_type": "markdown",
      "source": [
        "## While loop"
      ],
      "metadata": {
        "id": "Fp1oShb57Mwa"
      }
    },
    {
      "cell_type": "code",
      "source": [
        "score = 0\n",
        "while score < 100:\n",
        "  print(\"Play...\")\n",
        "  score = score + 10\n",
        "\n",
        "print(\"You win the Game\")"
      ],
      "metadata": {
        "colab": {
          "base_uri": "https://localhost:8080/"
        },
        "id": "iuSR0zKx6Fhi",
        "outputId": "eceb4151-b830-427a-e681-3998b0bdbf31"
      },
      "execution_count": null,
      "outputs": [
        {
          "output_type": "stream",
          "name": "stdout",
          "text": [
            "Play...\n",
            "Play...\n",
            "Play...\n",
            "Play...\n",
            "Play...\n",
            "Play...\n",
            "Play...\n",
            "Play...\n",
            "Play...\n",
            "Play...\n",
            "You win the Game\n"
          ]
        }
      ]
    },
    {
      "cell_type": "markdown",
      "source": [
        "## Pass \n",
        "In Python, pass is a null statement. The interpreter does not ignore a pass statement, but nothing happens and the statement results into no operation."
      ],
      "metadata": {
        "id": "2sV5aSpm77Ij"
      }
    },
    {
      "cell_type": "code",
      "source": [
        "if True:\n",
        "  pass"
      ],
      "metadata": {
        "id": "_22X1yAZ7c2M"
      },
      "execution_count": null,
      "outputs": []
    },
    {
      "cell_type": "code",
      "source": [
        "# Empty Function  \n",
        "def function_name(args):  \n",
        "    pass  \n",
        "#Empty Class  \n",
        "class Python:  \n",
        "    pass  "
      ],
      "metadata": {
        "id": "NjWy7ELS8QvC"
      },
      "execution_count": null,
      "outputs": []
    },
    {
      "cell_type": "markdown",
      "source": [
        "# Function"
      ],
      "metadata": {
        "id": "YXwETDlG-A5M"
      }
    },
    {
      "cell_type": "code",
      "source": [
        "def get_sum(a, b):\n",
        "  \"\"\"\n",
        "  This is a demo function to add two variable\n",
        "  \"\"\"\n",
        "  print(\"sum of {} and {} is {}\".format(a, b, a + b))\n",
        "  return a + b\n",
        "\n",
        "sum = get_sum(10, 30)\n",
        "print(sum)"
      ],
      "metadata": {
        "colab": {
          "base_uri": "https://localhost:8080/"
        },
        "id": "yeys7vm68hsa",
        "outputId": "b9f847a7-40a2-413e-e0fa-4f7dfcd9e14e"
      },
      "execution_count": null,
      "outputs": [
        {
          "output_type": "stream",
          "name": "stdout",
          "text": [
            "sum of 10 and 30 is 40\n",
            "40\n"
          ]
        }
      ]
    },
    {
      "cell_type": "code",
      "source": [
        "print(get_sum.__doc__)"
      ],
      "metadata": {
        "colab": {
          "base_uri": "https://localhost:8080/"
        },
        "id": "meANQKqu-IKZ",
        "outputId": "f97a5d20-aa79-4031-a6e9-2dec70fadc07"
      },
      "execution_count": null,
      "outputs": [
        {
          "output_type": "stream",
          "name": "stdout",
          "text": [
            "\n",
            "  This is a demo function to add two variable\n",
            "  \n"
          ]
        }
      ]
    },
    {
      "cell_type": "code",
      "source": [
        "# Function with multiple return type\n",
        "\n",
        "def calculate(a, b):\n",
        "  sum = a + b\n",
        "  diff = a - b\n",
        "  mul = a * b\n",
        "  return (sum, diff, mul)\n",
        "\n",
        "\n",
        "result = calculate(10, 20)\n",
        "print(result)"
      ],
      "metadata": {
        "colab": {
          "base_uri": "https://localhost:8080/"
        },
        "id": "vKa2A6mw-Kle",
        "outputId": "03fdf6c9-27be-4c89-c0c1-7d95796e42b4"
      },
      "execution_count": null,
      "outputs": [
        {
          "output_type": "stream",
          "name": "stdout",
          "text": [
            "(30, -10, 200)\n"
          ]
        }
      ]
    },
    {
      "cell_type": "code",
      "source": [
        "result[0]"
      ],
      "metadata": {
        "colab": {
          "base_uri": "https://localhost:8080/"
        },
        "id": "6aO3OQBS_M1V",
        "outputId": "69319eb3-1e31-4218-d076-d94a841f9bc6"
      },
      "execution_count": null,
      "outputs": [
        {
          "output_type": "execute_result",
          "data": {
            "text/plain": [
              "30"
            ]
          },
          "metadata": {},
          "execution_count": 35
        }
      ]
    },
    {
      "cell_type": "code",
      "source": [
        "sum, diff, mul = calculate(10, 20)\n",
        "print(\"Sum =\", sum)\n",
        "print(\"Diff =\", diff)\n",
        "print(\"Mul =\", mul)"
      ],
      "metadata": {
        "colab": {
          "base_uri": "https://localhost:8080/"
        },
        "id": "oqCn7Yo8-zq-",
        "outputId": "2d249178-26b5-4404-e932-20fcee8c1149"
      },
      "execution_count": null,
      "outputs": [
        {
          "output_type": "stream",
          "name": "stdout",
          "text": [
            "Sum = 30\n",
            "Diff = -10\n",
            "Mul = 200\n"
          ]
        }
      ]
    },
    {
      "cell_type": "code",
      "source": [
        "def say_hello(name, msg):\n",
        "  print(\"Hello\", name, msg)\n",
        "\n",
        "say_hello(\"Python\", \"Good Morning\")"
      ],
      "metadata": {
        "colab": {
          "base_uri": "https://localhost:8080/"
        },
        "id": "7XfxNczC--_p",
        "outputId": "554e31eb-7960-4e3f-90e7-ef15eb1ee6dc"
      },
      "execution_count": null,
      "outputs": [
        {
          "output_type": "stream",
          "name": "stdout",
          "text": [
            "Hello Python Good Morning\n"
          ]
        }
      ]
    },
    {
      "cell_type": "code",
      "source": [
        "def say_hello(name, msg = \"Good Morning\"):\n",
        "  print(\"Hello\", name, msg)\n",
        "\n",
        "say_hello(\"Python\")"
      ],
      "metadata": {
        "colab": {
          "base_uri": "https://localhost:8080/"
        },
        "id": "933zl2R8_a00",
        "outputId": "4ba80bfc-47bd-4033-abde-8d5f727a1f2e"
      },
      "execution_count": null,
      "outputs": [
        {
          "output_type": "stream",
          "name": "stdout",
          "text": [
            "Hello Python Good Morning\n"
          ]
        }
      ]
    },
    {
      "cell_type": "code",
      "source": [
        "def say_hello(name, *msgs):\n",
        "  print(\"Hello\", name)\n",
        "  for msg in msgs:\n",
        "    print(msg)\n",
        "\n",
        "say_hello(\"Python\", \"Good Morning\", \"How are you\")"
      ],
      "metadata": {
        "colab": {
          "base_uri": "https://localhost:8080/"
        },
        "id": "RgX_-Pl2KYwz",
        "outputId": "0854a9a8-1ba4-407e-f1d7-a515c52e3735"
      },
      "execution_count": null,
      "outputs": [
        {
          "output_type": "stream",
          "name": "stdout",
          "text": [
            "Hello Python\n",
            "Good Morning\n",
            "How are you\n"
          ]
        }
      ]
    },
    {
      "cell_type": "code",
      "source": [
        "def fun(**kwargs):\n",
        "  for (key, value) in kwargs.items():\n",
        "    print(\"My {} in {}\".format(key, value))\n",
        "\n",
        "fun(name = \"Python\", age = 20, father = \"Guido van\")"
      ],
      "metadata": {
        "colab": {
          "base_uri": "https://localhost:8080/"
        },
        "id": "VoaNhJTyLBr8",
        "outputId": "9582c655-acd5-462d-8116-0a8285b6fd67"
      },
      "execution_count": null,
      "outputs": [
        {
          "output_type": "stream",
          "name": "stdout",
          "text": [
            "My name in Python\n",
            "My age in 20\n",
            "My father in Guido van\n"
          ]
        }
      ]
    },
    {
      "cell_type": "markdown",
      "source": [
        "# Pre define Functions"
      ],
      "metadata": {
        "id": "i89dRdJW_4xt"
      }
    },
    {
      "cell_type": "markdown",
      "source": [
        "## abs()"
      ],
      "metadata": {
        "id": "GTmzKjga_6tB"
      }
    },
    {
      "cell_type": "code",
      "source": [
        "a = -10\n",
        "b = 30\n",
        "print(abs(a))\n",
        "print(abs(b))"
      ],
      "metadata": {
        "colab": {
          "base_uri": "https://localhost:8080/"
        },
        "id": "ZaoJR47N_rBK",
        "outputId": "1e93c80f-2e98-4b75-f9d4-a3c89eec5b42"
      },
      "execution_count": null,
      "outputs": [
        {
          "output_type": "stream",
          "name": "stdout",
          "text": [
            "10\n",
            "30\n"
          ]
        }
      ]
    },
    {
      "cell_type": "markdown",
      "source": [
        "## all()"
      ],
      "metadata": {
        "id": "ybA7HTjgAA_G"
      }
    },
    {
      "cell_type": "code",
      "source": [
        "l1 = [0, 10, 20, 30]\n",
        "l2 = [-1, 10, 20, 30, 40]\n",
        "l3 = [False, 90, 200]\n",
        "\n",
        "print(all(l1))\n",
        "print(all(l2))\n",
        "print(all(l3))"
      ],
      "metadata": {
        "colab": {
          "base_uri": "https://localhost:8080/"
        },
        "id": "Lh81qwwd_-f_",
        "outputId": "a605e15e-891b-4421-9b69-b09232a062be"
      },
      "execution_count": null,
      "outputs": [
        {
          "output_type": "stream",
          "name": "stdout",
          "text": [
            "False\n",
            "True\n",
            "False\n"
          ]
        }
      ]
    },
    {
      "cell_type": "markdown",
      "source": [
        "## sum()"
      ],
      "metadata": {
        "id": "HODQhAaYBHd-"
      }
    },
    {
      "cell_type": "code",
      "source": [
        "sum([10, 20, 30])"
      ],
      "metadata": {
        "id": "vj-Ix6_JAH_P"
      },
      "execution_count": null,
      "outputs": []
    },
    {
      "cell_type": "markdown",
      "source": [
        "## Lambda Functions\n",
        "  `lambda arguments : expression`"
      ],
      "metadata": {
        "id": "aWWzUWJ5Bx_3"
      }
    },
    {
      "cell_type": "code",
      "source": [
        "def is_even(n):\n",
        "  if(n % 2 == 0):\n",
        "    return True\n",
        "  else:\n",
        "    return False"
      ],
      "metadata": {
        "id": "mYx3A894BLhK"
      },
      "execution_count": null,
      "outputs": []
    },
    {
      "cell_type": "code",
      "source": [
        "is_even(10)"
      ],
      "metadata": {
        "colab": {
          "base_uri": "https://localhost:8080/"
        },
        "id": "Z88VjV07Couy",
        "outputId": "034415f0-4f47-44be-ec20-61cbadca4f7b"
      },
      "execution_count": null,
      "outputs": [
        {
          "output_type": "execute_result",
          "data": {
            "text/plain": [
              "True"
            ]
          },
          "metadata": {},
          "execution_count": 2
        }
      ]
    },
    {
      "cell_type": "code",
      "source": [
        "is_even(11)"
      ],
      "metadata": {
        "colab": {
          "base_uri": "https://localhost:8080/"
        },
        "id": "dExTxBoGCq2a",
        "outputId": "c7d4061a-d092-43db-87ed-5b7d02a1fcdb"
      },
      "execution_count": null,
      "outputs": [
        {
          "output_type": "execute_result",
          "data": {
            "text/plain": [
              "False"
            ]
          },
          "metadata": {},
          "execution_count": 3
        }
      ]
    },
    {
      "cell_type": "code",
      "source": [
        "check_even = lambda x : x % 2 == 0"
      ],
      "metadata": {
        "id": "NXYDixMlCtQj"
      },
      "execution_count": null,
      "outputs": []
    },
    {
      "cell_type": "code",
      "source": [
        "check_even(11)"
      ],
      "metadata": {
        "colab": {
          "base_uri": "https://localhost:8080/"
        },
        "id": "-mq0G8O9C8rA",
        "outputId": "01dd4c44-bd6e-49ae-dc11-c98623633793"
      },
      "execution_count": null,
      "outputs": [
        {
          "output_type": "execute_result",
          "data": {
            "text/plain": [
              "False"
            ]
          },
          "metadata": {},
          "execution_count": 6
        }
      ]
    },
    {
      "cell_type": "code",
      "source": [
        "# lambda with multiple arguments\n",
        "\n",
        "mysum = lambda a, b : a + b\n",
        "mysum(10, 20)"
      ],
      "metadata": {
        "colab": {
          "base_uri": "https://localhost:8080/"
        },
        "id": "gX3HT6hADs5_",
        "outputId": "c67adba8-c96f-4d79-b96d-b4fc0d719b3b"
      },
      "execution_count": null,
      "outputs": [
        {
          "output_type": "execute_result",
          "data": {
            "text/plain": [
              "30"
            ]
          },
          "metadata": {},
          "execution_count": 9
        }
      ]
    },
    {
      "cell_type": "markdown",
      "source": [
        "## filter() function"
      ],
      "metadata": {
        "id": "zhYzEnzlE3e9"
      }
    },
    {
      "cell_type": "code",
      "source": [
        "def filter_even(num):\n",
        "  if num % 2 == 0:\n",
        "    return True\n",
        "  else:\n",
        "    return False "
      ],
      "metadata": {
        "id": "_Hir22eCFKIY"
      },
      "execution_count": null,
      "outputs": []
    },
    {
      "cell_type": "code",
      "source": [
        "nums = list(range(20))\n",
        "nums"
      ],
      "metadata": {
        "colab": {
          "base_uri": "https://localhost:8080/"
        },
        "id": "qJsYiL2DFfIG",
        "outputId": "12a0acea-22cf-4eb2-e0ef-19bdc37d05e0"
      },
      "execution_count": null,
      "outputs": [
        {
          "output_type": "execute_result",
          "data": {
            "text/plain": [
              "[0, 1, 2, 3, 4, 5, 6, 7, 8, 9, 10, 11, 12, 13, 14, 15, 16, 17, 18, 19]"
            ]
          },
          "metadata": {},
          "execution_count": 20
        }
      ]
    },
    {
      "cell_type": "code",
      "source": [
        "result = filter(filter_even, nums)\n",
        "\n",
        "list(result)"
      ],
      "metadata": {
        "colab": {
          "base_uri": "https://localhost:8080/"
        },
        "id": "i3sWTwYyFj8C",
        "outputId": "0c657e4e-aa33-4678-d10a-e8e33453ac19"
      },
      "execution_count": null,
      "outputs": [
        {
          "output_type": "execute_result",
          "data": {
            "text/plain": [
              "[0, 2, 4, 6, 8, 10, 12, 14, 16, 18]"
            ]
          },
          "metadata": {},
          "execution_count": 21
        }
      ]
    },
    {
      "cell_type": "code",
      "source": [
        "result = filter(lambda x : x % 2 != 0, nums)\n",
        "\n",
        "list(result)"
      ],
      "metadata": {
        "colab": {
          "base_uri": "https://localhost:8080/"
        },
        "id": "mC60Cf1qF0ZK",
        "outputId": "d5cee988-f1d5-4410-90e4-e7be86350533"
      },
      "execution_count": null,
      "outputs": [
        {
          "output_type": "execute_result",
          "data": {
            "text/plain": [
              "[1, 3, 5, 7, 9, 11, 13, 15, 17, 19]"
            ]
          },
          "metadata": {},
          "execution_count": 23
        }
      ]
    },
    {
      "cell_type": "markdown",
      "source": [
        "# Class"
      ],
      "metadata": {
        "id": "LxburRIpP8j0"
      }
    },
    {
      "cell_type": "code",
      "source": [
        "class Student:\n",
        "  pass\n",
        "\n",
        "\n",
        "std1 = Student()\n",
        "std2 = Student()\n",
        "\n",
        "print(std1)\n",
        "print(std2)"
      ],
      "metadata": {
        "colab": {
          "base_uri": "https://localhost:8080/"
        },
        "id": "Lwh4mE70Gs51",
        "outputId": "d2be89be-0ee5-4409-fa9b-387b361d4ac1"
      },
      "execution_count": null,
      "outputs": [
        {
          "output_type": "stream",
          "name": "stdout",
          "text": [
            "<__main__.Student object at 0x7f3d8a2cf810>\n",
            "<__main__.Student object at 0x7f3d8a2cfd10>\n"
          ]
        }
      ]
    },
    {
      "cell_type": "code",
      "source": [
        "std1.fname = \"Harry\"\n",
        "std1.lname = \"Potter\"\n",
        "std1.email = \"harry.potter@gmail.com\"\n",
        "std1.roll = 21"
      ],
      "metadata": {
        "id": "6OCjqVaHRIjc"
      },
      "execution_count": null,
      "outputs": []
    },
    {
      "cell_type": "code",
      "source": [
        "std1.fname"
      ],
      "metadata": {
        "colab": {
          "base_uri": "https://localhost:8080/",
          "height": 35
        },
        "id": "gNkCCtUsTamu",
        "outputId": "dc0d182a-713a-4dd7-c8db-d4bdb86a2c6f"
      },
      "execution_count": null,
      "outputs": [
        {
          "output_type": "execute_result",
          "data": {
            "text/plain": [
              "'Harry'"
            ],
            "application/vnd.google.colaboratory.intrinsic+json": {
              "type": "string"
            }
          },
          "metadata": {},
          "execution_count": 34
        }
      ]
    },
    {
      "cell_type": "code",
      "source": [
        "std2.fname = \"Ron\"\n",
        "std2.lname = \"Weasley\"\n",
        "std2.email = \"ron.weasley@gmail.com\"\n",
        "std2.roll = 22"
      ],
      "metadata": {
        "id": "HAvwCfYXTcHL"
      },
      "execution_count": null,
      "outputs": []
    },
    {
      "cell_type": "code",
      "source": [
        "std2.roll"
      ],
      "metadata": {
        "colab": {
          "base_uri": "https://localhost:8080/"
        },
        "id": "UASQ9m1ATyCJ",
        "outputId": "17c8eac1-b798-4f12-eb3d-cd78d7798b15"
      },
      "execution_count": null,
      "outputs": [
        {
          "output_type": "execute_result",
          "data": {
            "text/plain": [
              "22"
            ]
          },
          "metadata": {},
          "execution_count": 38
        }
      ]
    },
    {
      "cell_type": "code",
      "source": [
        "class Student:\n",
        "  def __init__(self, fname, lname, roll):\n",
        "    self.fname = fname\n",
        "    self.lname = lname\n",
        "    self.email = \"{}.{}@hogwarts.com\".format(fname, lname)\n",
        "    self.roll = roll\n",
        "\n",
        "\n",
        "std1 = Student(\"Harry\", \"Potter\", 21)\n",
        "std2 = Student(\"Ron\", \"Weasley\", 22)"
      ],
      "metadata": {
        "id": "vB2PlzmOT04A"
      },
      "execution_count": null,
      "outputs": []
    },
    {
      "cell_type": "code",
      "source": [
        "std1.email"
      ],
      "metadata": {
        "colab": {
          "base_uri": "https://localhost:8080/",
          "height": 35
        },
        "id": "NeBzWUbHUmKW",
        "outputId": "b9b58766-d36f-40b8-ced3-983a87eb4c45"
      },
      "execution_count": null,
      "outputs": [
        {
          "output_type": "execute_result",
          "data": {
            "text/plain": [
              "'Harry.Potter@hogwarts.com'"
            ],
            "application/vnd.google.colaboratory.intrinsic+json": {
              "type": "string"
            }
          },
          "metadata": {},
          "execution_count": 44
        }
      ]
    },
    {
      "cell_type": "code",
      "source": [
        "print(\"{} {}\".format(std1.fname, std1.lname))"
      ],
      "metadata": {
        "colab": {
          "base_uri": "https://localhost:8080/"
        },
        "id": "yu69QImzUomr",
        "outputId": "f3bae5fa-ead9-483f-deb0-742595d4c97c"
      },
      "execution_count": null,
      "outputs": [
        {
          "output_type": "stream",
          "name": "stdout",
          "text": [
            "Harry Potter\n"
          ]
        }
      ]
    },
    {
      "cell_type": "code",
      "source": [
        "class Student:\n",
        "  def __init__(self, fname, lname, roll):\n",
        "    self.fname = fname\n",
        "    self.lname = lname\n",
        "    self.email = \"{}.{}@hogwarts.com\".format(fname, lname)\n",
        "    self.roll = roll\n",
        "  \n",
        "  def fullname(self):\n",
        "    return \"{} {}\".format(self.fname, self.lname)\n",
        "\n",
        "\n",
        "std1 = Student(\"Harry\", \"Potter\", 21)\n",
        "std2 = Student(\"Ron\", \"Weasley\", 22)"
      ],
      "metadata": {
        "id": "C7G7f3gVVMLS"
      },
      "execution_count": null,
      "outputs": []
    },
    {
      "cell_type": "code",
      "source": [
        "std1.fullname()"
      ],
      "metadata": {
        "colab": {
          "base_uri": "https://localhost:8080/",
          "height": 35
        },
        "id": "z6RB3_7-VbL6",
        "outputId": "7470f4a2-be4b-4ce3-b4c9-8894bc0d9015"
      },
      "execution_count": null,
      "outputs": [
        {
          "output_type": "execute_result",
          "data": {
            "text/plain": [
              "'Harry Potter'"
            ],
            "application/vnd.google.colaboratory.intrinsic+json": {
              "type": "string"
            }
          },
          "metadata": {},
          "execution_count": 47
        }
      ]
    },
    {
      "cell_type": "code",
      "source": [
        "std1.__dict__"
      ],
      "metadata": {
        "colab": {
          "base_uri": "https://localhost:8080/"
        },
        "id": "UBfONB8BVc1F",
        "outputId": "895da42f-f413-49b1-aa55-aad1c31b09e4"
      },
      "execution_count": null,
      "outputs": [
        {
          "output_type": "execute_result",
          "data": {
            "text/plain": [
              "{'email': 'Harry.Potter@hogwarts.com',\n",
              " 'fname': 'Harry',\n",
              " 'lname': 'Potter',\n",
              " 'roll': 21}"
            ]
          },
          "metadata": {},
          "execution_count": 48
        }
      ]
    },
    {
      "cell_type": "code",
      "source": [
        ""
      ],
      "metadata": {
        "id": "R9QISTqtbxO5"
      },
      "execution_count": null,
      "outputs": []
    }
  ]
}