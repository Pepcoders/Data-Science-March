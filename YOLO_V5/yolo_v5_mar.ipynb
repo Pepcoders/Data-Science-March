{
  "nbformat": 4,
  "nbformat_minor": 0,
  "metadata": {
    "colab": {
      "name": "yolo_v5_mar.ipynb",
      "provenance": [],
      "authorship_tag": "ABX9TyNxVAL52MGcdOTC/G3c8H+h",
      "include_colab_link": true
    },
    "kernelspec": {
      "name": "python3",
      "display_name": "Python 3"
    },
    "language_info": {
      "name": "python"
    },
    "accelerator": "GPU",
    "gpuClass": "standard"
  },
  "cells": [
    {
      "cell_type": "markdown",
      "metadata": {
        "id": "view-in-github",
        "colab_type": "text"
      },
      "source": [
        "<a href=\"https://colab.research.google.com/github/Pepcoders/Data-Science-March/blob/main/YOLO_V5/yolo_v5_mar.ipynb\" target=\"_parent\"><img src=\"https://colab.research.google.com/assets/colab-badge.svg\" alt=\"Open In Colab\"/></a>"
      ]
    },
    {
      "cell_type": "code",
      "execution_count": 1,
      "metadata": {
        "colab": {
          "base_uri": "https://localhost:8080/"
        },
        "id": "f0O7cX3K3ZSb",
        "outputId": "3561b633-f2bd-4f26-8900-c0eae6736d8b"
      },
      "outputs": [
        {
          "output_type": "stream",
          "name": "stdout",
          "text": [
            "Cloning into 'yolov5'...\n",
            "remote: Enumerating objects: 12385, done.\u001b[K\n",
            "remote: Counting objects: 100% (5/5), done.\u001b[K\n",
            "remote: Compressing objects: 100% (5/5), done.\u001b[K\n",
            "remote: Total 12385 (delta 0), reused 3 (delta 0), pack-reused 12380\u001b[K\n",
            "Receiving objects: 100% (12385/12385), 12.17 MiB | 12.37 MiB/s, done.\n",
            "Resolving deltas: 100% (8543/8543), done.\n"
          ]
        }
      ],
      "source": [
        "#clone YOLOv5 and \n",
        "!git clone https://github.com/ultralytics/yolov5  # clone repo"
      ]
    },
    {
      "cell_type": "code",
      "source": [
        "%cd yolov5"
      ],
      "metadata": {
        "colab": {
          "base_uri": "https://localhost:8080/"
        },
        "id": "_g3sIlP56DYa",
        "outputId": "fae55294-46a0-4279-b468-ca22318d80c0"
      },
      "execution_count": 2,
      "outputs": [
        {
          "output_type": "stream",
          "name": "stdout",
          "text": [
            "/content/yolov5\n"
          ]
        }
      ]
    },
    {
      "cell_type": "code",
      "source": [
        "%pip install -qr requirements.txt # install dependencies"
      ],
      "metadata": {
        "colab": {
          "base_uri": "https://localhost:8080/"
        },
        "id": "kCj46xa-6IUm",
        "outputId": "49e09110-4c64-49d0-afb2-ffad8875fe58"
      },
      "execution_count": 3,
      "outputs": [
        {
          "output_type": "stream",
          "name": "stdout",
          "text": [
            "\u001b[?25l\r\u001b[K     |▌                               | 10 kB 30.9 MB/s eta 0:00:01\r\u001b[K     |█                               | 20 kB 36.9 MB/s eta 0:00:01\r\u001b[K     |█▋                              | 30 kB 42.3 MB/s eta 0:00:01\r\u001b[K     |██▏                             | 40 kB 34.8 MB/s eta 0:00:01\r\u001b[K     |██▊                             | 51 kB 38.4 MB/s eta 0:00:01\r\u001b[K     |███▎                            | 61 kB 43.0 MB/s eta 0:00:01\r\u001b[K     |███▉                            | 71 kB 29.5 MB/s eta 0:00:01\r\u001b[K     |████▍                           | 81 kB 30.9 MB/s eta 0:00:01\r\u001b[K     |█████                           | 92 kB 33.0 MB/s eta 0:00:01\r\u001b[K     |█████▌                          | 102 kB 34.9 MB/s eta 0:00:01\r\u001b[K     |██████                          | 112 kB 34.9 MB/s eta 0:00:01\r\u001b[K     |██████▋                         | 122 kB 34.9 MB/s eta 0:00:01\r\u001b[K     |███████▏                        | 133 kB 34.9 MB/s eta 0:00:01\r\u001b[K     |███████▊                        | 143 kB 34.9 MB/s eta 0:00:01\r\u001b[K     |████████▎                       | 153 kB 34.9 MB/s eta 0:00:01\r\u001b[K     |████████▉                       | 163 kB 34.9 MB/s eta 0:00:01\r\u001b[K     |█████████▍                      | 174 kB 34.9 MB/s eta 0:00:01\r\u001b[K     |██████████                      | 184 kB 34.9 MB/s eta 0:00:01\r\u001b[K     |██████████▍                     | 194 kB 34.9 MB/s eta 0:00:01\r\u001b[K     |███████████                     | 204 kB 34.9 MB/s eta 0:00:01\r\u001b[K     |███████████▌                    | 215 kB 34.9 MB/s eta 0:00:01\r\u001b[K     |████████████                    | 225 kB 34.9 MB/s eta 0:00:01\r\u001b[K     |████████████▋                   | 235 kB 34.9 MB/s eta 0:00:01\r\u001b[K     |█████████████▏                  | 245 kB 34.9 MB/s eta 0:00:01\r\u001b[K     |█████████████▊                  | 256 kB 34.9 MB/s eta 0:00:01\r\u001b[K     |██████████████▎                 | 266 kB 34.9 MB/s eta 0:00:01\r\u001b[K     |██████████████▉                 | 276 kB 34.9 MB/s eta 0:00:01\r\u001b[K     |███████████████▍                | 286 kB 34.9 MB/s eta 0:00:01\r\u001b[K     |████████████████                | 296 kB 34.9 MB/s eta 0:00:01\r\u001b[K     |████████████████▌               | 307 kB 34.9 MB/s eta 0:00:01\r\u001b[K     |█████████████████               | 317 kB 34.9 MB/s eta 0:00:01\r\u001b[K     |█████████████████▋              | 327 kB 34.9 MB/s eta 0:00:01\r\u001b[K     |██████████████████▏             | 337 kB 34.9 MB/s eta 0:00:01\r\u001b[K     |██████████████████▊             | 348 kB 34.9 MB/s eta 0:00:01\r\u001b[K     |███████████████████▎            | 358 kB 34.9 MB/s eta 0:00:01\r\u001b[K     |███████████████████▉            | 368 kB 34.9 MB/s eta 0:00:01\r\u001b[K     |████████████████████▍           | 378 kB 34.9 MB/s eta 0:00:01\r\u001b[K     |████████████████████▉           | 389 kB 34.9 MB/s eta 0:00:01\r\u001b[K     |█████████████████████▍          | 399 kB 34.9 MB/s eta 0:00:01\r\u001b[K     |██████████████████████          | 409 kB 34.9 MB/s eta 0:00:01\r\u001b[K     |██████████████████████▌         | 419 kB 34.9 MB/s eta 0:00:01\r\u001b[K     |███████████████████████         | 430 kB 34.9 MB/s eta 0:00:01\r\u001b[K     |███████████████████████▋        | 440 kB 34.9 MB/s eta 0:00:01\r\u001b[K     |████████████████████████▏       | 450 kB 34.9 MB/s eta 0:00:01\r\u001b[K     |████████████████████████▊       | 460 kB 34.9 MB/s eta 0:00:01\r\u001b[K     |█████████████████████████▎      | 471 kB 34.9 MB/s eta 0:00:01\r\u001b[K     |█████████████████████████▉      | 481 kB 34.9 MB/s eta 0:00:01\r\u001b[K     |██████████████████████████▍     | 491 kB 34.9 MB/s eta 0:00:01\r\u001b[K     |███████████████████████████     | 501 kB 34.9 MB/s eta 0:00:01\r\u001b[K     |███████████████████████████▌    | 512 kB 34.9 MB/s eta 0:00:01\r\u001b[K     |████████████████████████████    | 522 kB 34.9 MB/s eta 0:00:01\r\u001b[K     |████████████████████████████▋   | 532 kB 34.9 MB/s eta 0:00:01\r\u001b[K     |█████████████████████████████▏  | 542 kB 34.9 MB/s eta 0:00:01\r\u001b[K     |█████████████████████████████▊  | 552 kB 34.9 MB/s eta 0:00:01\r\u001b[K     |██████████████████████████████▎ | 563 kB 34.9 MB/s eta 0:00:01\r\u001b[K     |██████████████████████████████▊ | 573 kB 34.9 MB/s eta 0:00:01\r\u001b[K     |███████████████████████████████▎| 583 kB 34.9 MB/s eta 0:00:01\r\u001b[K     |███████████████████████████████▉| 593 kB 34.9 MB/s eta 0:00:01\r\u001b[K     |████████████████████████████████| 596 kB 34.9 MB/s \n",
            "\u001b[?25h"
          ]
        }
      ]
    },
    {
      "cell_type": "code",
      "source": [
        "%pip install -q roboflow"
      ],
      "metadata": {
        "colab": {
          "base_uri": "https://localhost:8080/"
        },
        "id": "x18JDb1I6MRs",
        "outputId": "72a0600d-3375-4cef-ec90-d2e8af692cdd"
      },
      "execution_count": 4,
      "outputs": [
        {
          "output_type": "stream",
          "name": "stdout",
          "text": [
            "\u001b[K     |████████████████████████████████| 145 kB 44.9 MB/s \n",
            "\u001b[K     |████████████████████████████████| 178 kB 68.6 MB/s \n",
            "\u001b[K     |████████████████████████████████| 3.1 MB 43.5 MB/s \n",
            "\u001b[K     |████████████████████████████████| 1.1 MB 67.5 MB/s \n",
            "\u001b[K     |████████████████████████████████| 21.8 MB 1.5 MB/s \n",
            "\u001b[K     |████████████████████████████████| 67 kB 5.8 MB/s \n",
            "\u001b[K     |████████████████████████████████| 54 kB 2.4 MB/s \n",
            "\u001b[K     |████████████████████████████████| 138 kB 76.6 MB/s \n",
            "\u001b[K     |████████████████████████████████| 62 kB 1.2 MB/s \n",
            "\u001b[?25h  Building wheel for roboflow (setup.py) ... \u001b[?25l\u001b[?25hdone\n",
            "  Building wheel for wget (setup.py) ... \u001b[?25l\u001b[?25hdone\n",
            "\u001b[31mERROR: pip's dependency resolver does not currently take into account all the packages that are installed. This behaviour is the source of the following dependency conflicts.\n",
            "google-colab 1.0.0 requires requests~=2.23.0, but you have requests 2.28.1 which is incompatible.\n",
            "datascience 0.10.6 requires folium==0.2.1, but you have folium 0.8.3 which is incompatible.\n",
            "albumentations 0.1.12 requires imgaug<0.2.7,>=0.2.5, but you have imgaug 0.2.9 which is incompatible.\n",
            "roboflow 0.2.7 requires Pillow==8.4.0, but you have pillow 7.1.2 which is incompatible.\u001b[0m\n"
          ]
        }
      ]
    },
    {
      "cell_type": "code",
      "source": [
        "import torch\n",
        "import os\n",
        "from IPython.display import Image, clear_output  # to display images\n",
        "\n",
        "print(f\"Setup complete. Using torch {torch.__version__} ({torch.cuda.get_device_properties(0).name if torch.cuda.is_available() else 'CPU'})\")"
      ],
      "metadata": {
        "colab": {
          "base_uri": "https://localhost:8080/"
        },
        "id": "T_oqkOfk6OnY",
        "outputId": "d76c8f82-438b-41c6-c19a-bce8aef23054"
      },
      "execution_count": 5,
      "outputs": [
        {
          "output_type": "stream",
          "name": "stdout",
          "text": [
            "Setup complete. Using torch 1.11.0+cu113 (Tesla T4)\n"
          ]
        }
      ]
    },
    {
      "cell_type": "markdown",
      "source": [
        "!pip install roboflow\n",
        "\n",
        "from roboflow import Roboflow\n",
        "\n",
        "rf = Roboflow(api_key=\"PHQiuoCnfC16zGT3kkE5\")\n",
        "\n",
        "project = rf.workspace(\"augmented-startups\").project(\"weeds-nxe1w\")\n",
        "\n",
        "dataset = project.version(3).download(\"yolov5\")"
      ],
      "metadata": {
        "id": "iyuOv9y26qYv"
      }
    },
    {
      "cell_type": "code",
      "source": [
        "pwd"
      ],
      "metadata": {
        "colab": {
          "base_uri": "https://localhost:8080/",
          "height": 35
        },
        "id": "9T_xbQ7x6jMz",
        "outputId": "dac95cc8-84d2-4da0-910f-5852bf723441"
      },
      "execution_count": 13,
      "outputs": [
        {
          "output_type": "execute_result",
          "data": {
            "text/plain": [
              "'/content/yolov5'"
            ],
            "application/vnd.google.colaboratory.intrinsic+json": {
              "type": "string"
            }
          },
          "metadata": {},
          "execution_count": 13
        }
      ]
    },
    {
      "cell_type": "code",
      "source": [
        "from roboflow import Roboflow\n",
        "\n",
        "rf = Roboflow(api_key=\"PHQiuoCnfC16zGT3kkE5\")\n",
        "\n",
        "project = rf.workspace(\"augmented-startups\").project(\"weeds-nxe1w\")\n",
        "\n",
        "dataset = project.version(3).download(\"yolov5\")"
      ],
      "metadata": {
        "colab": {
          "base_uri": "https://localhost:8080/"
        },
        "id": "xb_VBRgp6zsm",
        "outputId": "05b72191-638e-4e19-c048-12552450fe42"
      },
      "execution_count": 14,
      "outputs": [
        {
          "output_type": "stream",
          "name": "stdout",
          "text": [
            "loading Roboflow workspace...\n",
            "loading Roboflow project...\n",
            "Downloading Dataset Version Zip in Weeds-3 to yolov5pytorch: 100% [305471760 / 305471760] bytes\n"
          ]
        },
        {
          "output_type": "stream",
          "name": "stderr",
          "text": [
            "Extracting Dataset Version Zip to Weeds-3 in yolov5pytorch:: 100%|██████████| 8418/8418 [00:08<00:00, 990.64it/s] \n"
          ]
        }
      ]
    },
    {
      "cell_type": "markdown",
      "source": [
        ""
      ],
      "metadata": {
        "id": "upCvkXZ_8LPF"
      }
    },
    {
      "cell_type": "code",
      "source": [
        "dataset.location"
      ],
      "metadata": {
        "colab": {
          "base_uri": "https://localhost:8080/",
          "height": 35
        },
        "id": "7DtxPWkS8LxB",
        "outputId": "9e714d2e-cabc-48fb-d1cb-87229a9752d5"
      },
      "execution_count": 15,
      "outputs": [
        {
          "output_type": "execute_result",
          "data": {
            "text/plain": [
              "'/content/yolov5/Weeds-3'"
            ],
            "application/vnd.google.colaboratory.intrinsic+json": {
              "type": "string"
            }
          },
          "metadata": {},
          "execution_count": 15
        }
      ]
    },
    {
      "cell_type": "code",
      "source": [
        "cd /content/yolov5"
      ],
      "metadata": {
        "colab": {
          "base_uri": "https://localhost:8080/"
        },
        "id": "5026Bktz69yE",
        "outputId": "57673826-cc0e-421c-81e0-57941eef486e"
      },
      "execution_count": 16,
      "outputs": [
        {
          "output_type": "stream",
          "name": "stdout",
          "text": [
            "/content/yolov5\n"
          ]
        }
      ]
    },
    {
      "cell_type": "code",
      "source": [
        "!python train.py --img 416 --batch 8 --epochs 20 --data {dataset.location}/data.yaml --weights yolov5s.pt --cache"
      ],
      "metadata": {
        "colab": {
          "base_uri": "https://localhost:8080/"
        },
        "id": "ZIPHh6kr7-6_",
        "outputId": "af4d4821-f2b9-4191-efec-cb63114ed260"
      },
      "execution_count": null,
      "outputs": [
        {
          "output_type": "stream",
          "name": "stdout",
          "text": [
            "\u001b[34m\u001b[1mtrain: \u001b[0mweights=yolov5s.pt, cfg=, data=/content/yolov5/Weeds-3/data.yaml, hyp=data/hyps/hyp.scratch-low.yaml, epochs=20, batch_size=8, imgsz=416, rect=False, resume=False, nosave=False, noval=False, noautoanchor=False, noplots=False, evolve=None, bucket=, cache=ram, image_weights=False, device=, multi_scale=False, single_cls=False, optimizer=SGD, sync_bn=False, workers=8, project=runs/train, name=exp, exist_ok=False, quad=False, cos_lr=False, label_smoothing=0.0, patience=100, freeze=[0], save_period=-1, local_rank=-1, entity=None, upload_dataset=False, bbox_interval=-1, artifact_alias=latest\n",
            "\u001b[34m\u001b[1mgithub: \u001b[0mup to date with https://github.com/ultralytics/yolov5 ✅\n",
            "YOLOv5 🚀 v6.1-276-gc768919 Python-3.7.13 torch-1.11.0+cu113 CUDA:0 (Tesla T4, 15110MiB)\n",
            "\n",
            "\u001b[34m\u001b[1mhyperparameters: \u001b[0mlr0=0.01, lrf=0.01, momentum=0.937, weight_decay=0.0005, warmup_epochs=3.0, warmup_momentum=0.8, warmup_bias_lr=0.1, box=0.05, cls=0.5, cls_pw=1.0, obj=1.0, obj_pw=1.0, iou_t=0.2, anchor_t=4.0, fl_gamma=0.0, hsv_h=0.015, hsv_s=0.7, hsv_v=0.4, degrees=0.0, translate=0.1, scale=0.5, shear=0.0, perspective=0.0, flipud=0.0, fliplr=0.5, mosaic=1.0, mixup=0.0, copy_paste=0.0\n",
            "\u001b[34m\u001b[1mWeights & Biases: \u001b[0mrun 'pip install wandb' to automatically track and visualize YOLOv5 🚀 runs (RECOMMENDED)\n",
            "\u001b[34m\u001b[1mTensorBoard: \u001b[0mStart with 'tensorboard --logdir runs/train', view at http://localhost:6006/\n",
            "Overriding model.yaml nc=80 with nc=1\n",
            "\n",
            "                 from  n    params  module                                  arguments                     \n",
            "  0                -1  1      3520  models.common.Conv                      [3, 32, 6, 2, 2]              \n",
            "  1                -1  1     18560  models.common.Conv                      [32, 64, 3, 2]                \n",
            "  2                -1  1     18816  models.common.C3                        [64, 64, 1]                   \n",
            "  3                -1  1     73984  models.common.Conv                      [64, 128, 3, 2]               \n",
            "  4                -1  2    115712  models.common.C3                        [128, 128, 2]                 \n",
            "  5                -1  1    295424  models.common.Conv                      [128, 256, 3, 2]              \n",
            "  6                -1  3    625152  models.common.C3                        [256, 256, 3]                 \n",
            "  7                -1  1   1180672  models.common.Conv                      [256, 512, 3, 2]              \n",
            "  8                -1  1   1182720  models.common.C3                        [512, 512, 1]                 \n",
            "  9                -1  1    656896  models.common.SPPF                      [512, 512, 5]                 \n",
            " 10                -1  1    131584  models.common.Conv                      [512, 256, 1, 1]              \n",
            " 11                -1  1         0  torch.nn.modules.upsampling.Upsample    [None, 2, 'nearest']          \n",
            " 12           [-1, 6]  1         0  models.common.Concat                    [1]                           \n",
            " 13                -1  1    361984  models.common.C3                        [512, 256, 1, False]          \n",
            " 14                -1  1     33024  models.common.Conv                      [256, 128, 1, 1]              \n",
            " 15                -1  1         0  torch.nn.modules.upsampling.Upsample    [None, 2, 'nearest']          \n",
            " 16           [-1, 4]  1         0  models.common.Concat                    [1]                           \n",
            " 17                -1  1     90880  models.common.C3                        [256, 128, 1, False]          \n",
            " 18                -1  1    147712  models.common.Conv                      [128, 128, 3, 2]              \n",
            " 19          [-1, 14]  1         0  models.common.Concat                    [1]                           \n",
            " 20                -1  1    296448  models.common.C3                        [256, 256, 1, False]          \n",
            " 21                -1  1    590336  models.common.Conv                      [256, 256, 3, 2]              \n",
            " 22          [-1, 10]  1         0  models.common.Concat                    [1]                           \n",
            " 23                -1  1   1182720  models.common.C3                        [512, 512, 1, False]          \n",
            " 24      [17, 20, 23]  1     16182  models.yolo.Detect                      [1, [[10, 13, 16, 30, 33, 23], [30, 61, 62, 45, 59, 119], [116, 90, 156, 198, 373, 326]], [128, 256, 512]]\n",
            "Model summary: 270 layers, 7022326 parameters, 7022326 gradients, 15.9 GFLOPs\n",
            "\n",
            "Transferred 343/349 items from yolov5s.pt\n",
            "\u001b[34m\u001b[1mAMP: \u001b[0mchecks passed ✅\n",
            "Scaled weight_decay = 0.0005\n",
            "\u001b[34m\u001b[1moptimizer:\u001b[0m SGD with parameter groups 57 weight (no decay), 60 weight, 60 bias\n",
            "\u001b[34m\u001b[1malbumentations: \u001b[0mversion 1.0.3 required by YOLOv5, but version 0.1.12 is currently installed\n",
            "\u001b[34m\u001b[1mtrain: \u001b[0mScanning '/content/yolov5/Weeds-3/train/labels' images and labels...3664 found, 0 missing, 0 empty, 0 corrupt: 100% 3664/3664 [00:01<00:00, 2115.23it/s]\n",
            "\u001b[34m\u001b[1mtrain: \u001b[0mNew cache created: /content/yolov5/Weeds-3/train/labels.cache\n",
            "\u001b[34m\u001b[1mtrain: \u001b[0mCaching images (1.9GB ram): 100% 3664/3664 [00:11<00:00, 314.90it/s]\n",
            "\u001b[34m\u001b[1mval: \u001b[0mScanning '/content/yolov5/Weeds-3/valid/labels' images and labels...359 found, 0 missing, 0 empty, 0 corrupt: 100% 359/359 [00:00<00:00, 1265.49it/s]\n",
            "\u001b[34m\u001b[1mval: \u001b[0mNew cache created: /content/yolov5/Weeds-3/valid/labels.cache\n",
            "\u001b[34m\u001b[1mval: \u001b[0mCaching images (0.2GB ram): 100% 359/359 [00:01<00:00, 333.31it/s]\n",
            "Plotting labels to runs/train/exp4/labels.jpg... \n",
            "\n",
            "\u001b[34m\u001b[1mAutoAnchor: \u001b[0m5.27 anchors/target, 1.000 Best Possible Recall (BPR). Current anchors are a good fit to dataset ✅\n",
            "Image sizes 416 train, 416 val\n",
            "Using 2 dataloader workers\n",
            "Logging results to \u001b[1mruns/train/exp4\u001b[0m\n",
            "Starting training for 20 epochs...\n",
            "\n",
            "     Epoch   gpu_mem       box       obj       cls    labels  img_size\n",
            "      0/19    0.763G   0.09035   0.03704         0        28       416:  96% 440/458 [00:58<00:02,  8.06it/s]"
          ]
        }
      ]
    },
    {
      "cell_type": "code",
      "source": [
        ""
      ],
      "metadata": {
        "id": "j-9FnOd48W0D"
      },
      "execution_count": null,
      "outputs": []
    }
  ]
}