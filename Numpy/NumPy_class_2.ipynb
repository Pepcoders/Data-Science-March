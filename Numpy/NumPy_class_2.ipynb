{
  "nbformat": 4,
  "nbformat_minor": 0,
  "metadata": {
    "colab": {
      "name": "NumPy_class_2.ipynb",
      "provenance": [],
      "authorship_tag": "ABX9TyPxfbEk5zTD//Py/U2wY9oq",
      "include_colab_link": true
    },
    "kernelspec": {
      "name": "python3",
      "display_name": "Python 3"
    },
    "language_info": {
      "name": "python"
    }
  },
  "cells": [
    {
      "cell_type": "markdown",
      "metadata": {
        "id": "view-in-github",
        "colab_type": "text"
      },
      "source": [
        "<a href=\"https://colab.research.google.com/github/Pepcoders/Data-Science-March/blob/main/Numpy/NumPy_class_2.ipynb\" target=\"_parent\"><img src=\"https://colab.research.google.com/assets/colab-badge.svg\" alt=\"Open In Colab\"/></a>"
      ]
    },
    {
      "cell_type": "code",
      "execution_count": 1,
      "metadata": {
        "id": "rVeGQtFxw-Uv"
      },
      "outputs": [],
      "source": [
        "import numpy as np"
      ]
    },
    {
      "cell_type": "code",
      "source": [
        "arr = np.arange(2, 10, 2)"
      ],
      "metadata": {
        "id": "iGEMwLR9xadS"
      },
      "execution_count": 2,
      "outputs": []
    },
    {
      "cell_type": "code",
      "source": [
        "arr"
      ],
      "metadata": {
        "colab": {
          "base_uri": "https://localhost:8080/"
        },
        "id": "zekc7Vmmxjej",
        "outputId": "b22c2553-a4fa-497a-a0ac-621d731350c9"
      },
      "execution_count": 3,
      "outputs": [
        {
          "output_type": "execute_result",
          "data": {
            "text/plain": [
              "array([2, 4, 6, 8])"
            ]
          },
          "metadata": {},
          "execution_count": 3
        }
      ]
    },
    {
      "cell_type": "code",
      "source": [
        "np.random.permutation(arr)"
      ],
      "metadata": {
        "colab": {
          "base_uri": "https://localhost:8080/"
        },
        "id": "RyKUvxXQxkvl",
        "outputId": "98177d26-337c-48ae-e1c9-7d2ae6977536"
      },
      "execution_count": 36,
      "outputs": [
        {
          "output_type": "execute_result",
          "data": {
            "text/plain": [
              "array([8, 2, 6, 4])"
            ]
          },
          "metadata": {},
          "execution_count": 36
        }
      ]
    },
    {
      "cell_type": "code",
      "source": [
        "np.random.randint(10, 100)"
      ],
      "metadata": {
        "colab": {
          "base_uri": "https://localhost:8080/"
        },
        "id": "AN82svhHxsy-",
        "outputId": "3d0f9b68-9279-48f6-ad4d-fc3e4e8670ba"
      },
      "execution_count": 40,
      "outputs": [
        {
          "output_type": "execute_result",
          "data": {
            "text/plain": [
              "32"
            ]
          },
          "metadata": {},
          "execution_count": 40
        }
      ]
    },
    {
      "cell_type": "code",
      "source": [
        "# n = [0, 1)\n",
        "np.random.rand()"
      ],
      "metadata": {
        "colab": {
          "base_uri": "https://localhost:8080/"
        },
        "id": "ckE9xt4Xyzpr",
        "outputId": "c86cd908-df8c-4cb3-c62d-fa8c448b75a7"
      },
      "execution_count": 41,
      "outputs": [
        {
          "output_type": "execute_result",
          "data": {
            "text/plain": [
              "0.7983323737177419"
            ]
          },
          "metadata": {},
          "execution_count": 41
        }
      ]
    },
    {
      "cell_type": "code",
      "source": [
        "np.random.rand(3, 4)"
      ],
      "metadata": {
        "colab": {
          "base_uri": "https://localhost:8080/"
        },
        "id": "L5gbVQ7Lx7i2",
        "outputId": "4fb87006-1859-4fba-d6f1-78c2c2a993bd"
      },
      "execution_count": 26,
      "outputs": [
        {
          "output_type": "execute_result",
          "data": {
            "text/plain": [
              "array([[0.03745244, 0.0648494 , 0.95019896, 0.23728197],\n",
              "       [0.78552913, 0.63428   , 0.87018717, 0.94883621],\n",
              "       [0.75645468, 0.62215406, 0.62243519, 0.4082756 ]])"
            ]
          },
          "metadata": {},
          "execution_count": 26
        }
      ]
    },
    {
      "cell_type": "code",
      "source": [
        "# mean = 0\n",
        "# std = 1\n",
        "data = np.random.randn(10000)"
      ],
      "metadata": {
        "id": "TmZCU9JcyCtc"
      },
      "execution_count": 48,
      "outputs": []
    },
    {
      "cell_type": "code",
      "source": [
        "data"
      ],
      "metadata": {
        "colab": {
          "base_uri": "https://localhost:8080/"
        },
        "id": "_Yx5mlW4yXHB",
        "outputId": "6522e5db-8e6d-4123-92d9-5494574d0f1c"
      },
      "execution_count": 49,
      "outputs": [
        {
          "output_type": "execute_result",
          "data": {
            "text/plain": [
              "array([-1.39218345,  0.33065161,  0.38591711, ..., -0.86343352,\n",
              "       -0.92973537,  1.09534946])"
            ]
          },
          "metadata": {},
          "execution_count": 49
        }
      ]
    },
    {
      "cell_type": "code",
      "source": [
        "data.shape"
      ],
      "metadata": {
        "colab": {
          "base_uri": "https://localhost:8080/"
        },
        "id": "vcLyt6uLyhmg",
        "outputId": "229b1325-bb53-4294-f157-b0f49a60e770"
      },
      "execution_count": 50,
      "outputs": [
        {
          "output_type": "execute_result",
          "data": {
            "text/plain": [
              "(10000,)"
            ]
          },
          "metadata": {},
          "execution_count": 50
        }
      ]
    },
    {
      "cell_type": "code",
      "source": [
        "data.mean()"
      ],
      "metadata": {
        "colab": {
          "base_uri": "https://localhost:8080/"
        },
        "id": "KzONtNv5ykv8",
        "outputId": "67b75193-e3f0-424b-c746-feca9789435a"
      },
      "execution_count": 31,
      "outputs": [
        {
          "output_type": "execute_result",
          "data": {
            "text/plain": [
              "-0.014132650675432344"
            ]
          },
          "metadata": {},
          "execution_count": 31
        }
      ]
    },
    {
      "cell_type": "code",
      "source": [
        "import matplotlib.pyplot as plt\n",
        "\n",
        "plt.hist(data, bins=100)\n",
        "plt.show()"
      ],
      "metadata": {
        "colab": {
          "base_uri": "https://localhost:8080/",
          "height": 265
        },
        "id": "miEcF5Q9ympI",
        "outputId": "e8b051c4-92da-4d6d-ed0d-69a0da8a0ff9"
      },
      "execution_count": 33,
      "outputs": [
        {
          "output_type": "display_data",
          "data": {
            "text/plain": [
              "<Figure size 432x288 with 1 Axes>"
            ],
            "image/png": "[encoded data removed]"
          },
          "metadata": {
            "needs_background": "light"
          }
        }
      ]
    },
    {
      "cell_type": "code",
      "source": [
        "arr = np.linspace(0, 100, 5)"
      ],
      "metadata": {
        "id": "IRDr84DxznRv"
      },
      "execution_count": 64,
      "outputs": []
    },
    {
      "cell_type": "code",
      "source": [
        "arr[1] - arr[0]"
      ],
      "metadata": {
        "colab": {
          "base_uri": "https://localhost:8080/"
        },
        "id": "JbYMT-iv1YG9",
        "outputId": "89e1752b-e108-4af0-a506-1d19b78fd746"
      },
      "execution_count": 65,
      "outputs": [
        {
          "output_type": "execute_result",
          "data": {
            "text/plain": [
              "25.0"
            ]
          },
          "metadata": {},
          "execution_count": 65
        }
      ]
    },
    {
      "cell_type": "code",
      "source": [
        "arr[4] - arr[3]"
      ],
      "metadata": {
        "colab": {
          "base_uri": "https://localhost:8080/"
        },
        "id": "Zwl9I1dV1n1d",
        "outputId": "bee17e6e-0857-440e-b30d-c685ffbc56bc"
      },
      "execution_count": 66,
      "outputs": [
        {
          "output_type": "execute_result",
          "data": {
            "text/plain": [
              "25.0"
            ]
          },
          "metadata": {},
          "execution_count": 66
        }
      ]
    },
    {
      "cell_type": "code",
      "source": [
        "plt.plot(arr, [10, 10, 10, 10, 10], marker='o')\n",
        "plt.show()"
      ],
      "metadata": {
        "colab": {
          "base_uri": "https://localhost:8080/",
          "height": 265
        },
        "id": "3ZoRuilg1rPm",
        "outputId": "17f00f44-f39d-4d31-efa2-491163c1d2ef"
      },
      "execution_count": 69,
      "outputs": [
        {
          "output_type": "display_data",
          "data": {
            "text/plain": [
              "<Figure size 432x288 with 1 Axes>"
            ],
            "image/png": "[encoded data removed]"
          },
          "metadata": {
            "needs_background": "light"
          }
        }
      ]
    },
    {
      "cell_type": "markdown",
      "source": [
        "# Broadcasting\n",
        "\n",
        "![image.png](data:image/png;base64,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)\n",
        "\n",
        "![image.png](data:image/png;base64,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)\n",
        "\n",
        "![image.png](data:image/png;base64,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)"
      ],
      "metadata": {
        "id": "8aRjaOOx3Gq9"
      }
    },
    {
      "cell_type": "code",
      "source": [
        "arr = np.arange(1, 20, 2)"
      ],
      "metadata": {
        "id": "hQBM_Aii2hR9"
      },
      "execution_count": 70,
      "outputs": []
    },
    {
      "cell_type": "code",
      "source": [
        "arr"
      ],
      "metadata": {
        "colab": {
          "base_uri": "https://localhost:8080/"
        },
        "id": "Khfw9CI73UW2",
        "outputId": "f4575ff6-f328-429d-bd3d-67f442c7eb0c"
      },
      "execution_count": 71,
      "outputs": [
        {
          "output_type": "execute_result",
          "data": {
            "text/plain": [
              "array([ 1,  3,  5,  7,  9, 11, 13, 15, 17, 19])"
            ]
          },
          "metadata": {},
          "execution_count": 71
        }
      ]
    },
    {
      "cell_type": "code",
      "source": [
        "arr + 5"
      ],
      "metadata": {
        "colab": {
          "base_uri": "https://localhost:8080/"
        },
        "id": "q-9Y3-C33VQM",
        "outputId": "f465d281-ca05-491d-9987-63b35b43ddae"
      },
      "execution_count": 72,
      "outputs": [
        {
          "output_type": "execute_result",
          "data": {
            "text/plain": [
              "array([ 6,  8, 10, 12, 14, 16, 18, 20, 22, 24])"
            ]
          },
          "metadata": {},
          "execution_count": 72
        }
      ]
    },
    {
      "cell_type": "code",
      "source": [
        "a = np.array([0.0, 10.0, 20.0, 30.0]).reshape(4, 1)\n",
        "b = np.array([1.0, 2.0, 3.0])\n"
      ],
      "metadata": {
        "id": "Q-VsypPj3Ywc"
      },
      "execution_count": 74,
      "outputs": []
    },
    {
      "cell_type": "code",
      "source": [
        "a"
      ],
      "metadata": {
        "colab": {
          "base_uri": "https://localhost:8080/"
        },
        "id": "WqkjBaNQ5Ss9",
        "outputId": "8dc6ad83-c175-430a-df92-102bedc94d0f"
      },
      "execution_count": 75,
      "outputs": [
        {
          "output_type": "execute_result",
          "data": {
            "text/plain": [
              "array([[ 0.],\n",
              "       [10.],\n",
              "       [20.],\n",
              "       [30.]])"
            ]
          },
          "metadata": {},
          "execution_count": 75
        }
      ]
    },
    {
      "cell_type": "code",
      "source": [
        "b"
      ],
      "metadata": {
        "colab": {
          "base_uri": "https://localhost:8080/"
        },
        "id": "ivyXrFqe5XQM",
        "outputId": "0eb568e2-cda8-4610-cfe4-7d159a50600e"
      },
      "execution_count": 76,
      "outputs": [
        {
          "output_type": "execute_result",
          "data": {
            "text/plain": [
              "array([1., 2., 3.])"
            ]
          },
          "metadata": {},
          "execution_count": 76
        }
      ]
    },
    {
      "cell_type": "code",
      "source": [
        "a + b"
      ],
      "metadata": {
        "colab": {
          "base_uri": "https://localhost:8080/"
        },
        "id": "tM1S230-5YU8",
        "outputId": "26fc941a-18c1-4141-ffeb-8440cf7a08d5"
      },
      "execution_count": 77,
      "outputs": [
        {
          "output_type": "execute_result",
          "data": {
            "text/plain": [
              "array([[ 1.,  2.,  3.],\n",
              "       [11., 12., 13.],\n",
              "       [21., 22., 23.],\n",
              "       [31., 32., 33.]])"
            ]
          },
          "metadata": {},
          "execution_count": 77
        }
      ]
    },
    {
      "cell_type": "code",
      "source": [
        ""
      ],
      "metadata": {
        "id": "pXAMkILd5aAG"
      },
      "execution_count": null,
      "outputs": []
    },
    {
      "cell_type": "markdown",
      "source": [
        "# Fancy Indexing"
      ],
      "metadata": {
        "id": "VFonjs445eWo"
      }
    },
    {
      "cell_type": "code",
      "source": [
        "arr = np.arange(1, 20, 3)"
      ],
      "metadata": {
        "id": "r0Nc8czz5g7V"
      },
      "execution_count": 81,
      "outputs": []
    },
    {
      "cell_type": "code",
      "source": [
        "arr = np.random.permutation(arr)\n",
        "arr"
      ],
      "metadata": {
        "colab": {
          "base_uri": "https://localhost:8080/"
        },
        "id": "O4RDk8A15ivC",
        "outputId": "c387188c-e3e6-4407-a62c-3d9a4bba9e7a"
      },
      "execution_count": 87,
      "outputs": [
        {
          "output_type": "execute_result",
          "data": {
            "text/plain": [
              "array([19, 10,  4,  7, 13,  1, 16])"
            ]
          },
          "metadata": {},
          "execution_count": 87
        }
      ]
    },
    {
      "cell_type": "code",
      "source": [
        "arr[3]"
      ],
      "metadata": {
        "colab": {
          "base_uri": "https://localhost:8080/"
        },
        "id": "-AAut_Zi5l2E",
        "outputId": "7773f0e1-33af-42c7-9046-2f17823004b2"
      },
      "execution_count": 92,
      "outputs": [
        {
          "output_type": "execute_result",
          "data": {
            "text/plain": [
              "7"
            ]
          },
          "metadata": {},
          "execution_count": 92
        }
      ]
    },
    {
      "cell_type": "code",
      "source": [
        "#arr[idx]\n",
        "# idx -> it may be a list of idx\n",
        "\n",
        "arr[[0, 2, 5]]"
      ],
      "metadata": {
        "colab": {
          "base_uri": "https://localhost:8080/"
        },
        "id": "vMwSQ-YA5uj8",
        "outputId": "138ed4e9-c234-4bd1-e812-09f60ca74a62"
      },
      "execution_count": 93,
      "outputs": [
        {
          "output_type": "execute_result",
          "data": {
            "text/plain": [
              "array([19,  4,  1])"
            ]
          },
          "metadata": {},
          "execution_count": 93
        }
      ]
    },
    {
      "cell_type": "code",
      "source": [
        "arr[[True, False, False, True, True, False, True]]"
      ],
      "metadata": {
        "colab": {
          "base_uri": "https://localhost:8080/"
        },
        "id": "zmJBCLEX57bT",
        "outputId": "c043c0b4-3fdd-4f75-e3a6-dadcadf44bde"
      },
      "execution_count": 97,
      "outputs": [
        {
          "output_type": "execute_result",
          "data": {
            "text/plain": [
              "array([19,  7, 13, 16])"
            ]
          },
          "metadata": {},
          "execution_count": 97
        }
      ]
    },
    {
      "cell_type": "code",
      "source": [
        "tf = arr > 10"
      ],
      "metadata": {
        "id": "NxzprWJ96WdZ"
      },
      "execution_count": 94,
      "outputs": []
    },
    {
      "cell_type": "code",
      "source": [
        "tf"
      ],
      "metadata": {
        "colab": {
          "base_uri": "https://localhost:8080/"
        },
        "id": "82FBwcVd6-Ox",
        "outputId": "5798a9a3-110f-4cbc-a659-2af3f1471aed"
      },
      "execution_count": 95,
      "outputs": [
        {
          "output_type": "execute_result",
          "data": {
            "text/plain": [
              "array([ True, False, False, False,  True, False,  True])"
            ]
          },
          "metadata": {},
          "execution_count": 95
        }
      ]
    },
    {
      "cell_type": "code",
      "source": [
        "arr[tf]"
      ],
      "metadata": {
        "colab": {
          "base_uri": "https://localhost:8080/"
        },
        "id": "ck4oFRdF6_OR",
        "outputId": "1c475002-14c8-437b-9073-6d4f5699ea63"
      },
      "execution_count": 96,
      "outputs": [
        {
          "output_type": "execute_result",
          "data": {
            "text/plain": [
              "array([19, 13, 16])"
            ]
          },
          "metadata": {},
          "execution_count": 96
        }
      ]
    },
    {
      "cell_type": "code",
      "source": [
        "arr[arr > 10]"
      ],
      "metadata": {
        "colab": {
          "base_uri": "https://localhost:8080/"
        },
        "id": "xjEfwxB87Dbr",
        "outputId": "30a080dc-683a-4dcd-b0ce-ce97a2885a1e"
      },
      "execution_count": 98,
      "outputs": [
        {
          "output_type": "execute_result",
          "data": {
            "text/plain": [
              "array([19, 13, 16])"
            ]
          },
          "metadata": {},
          "execution_count": 98
        }
      ]
    },
    {
      "cell_type": "code",
      "source": [
        "marks = np.arange(10, 100, 2)"
      ],
      "metadata": {
        "id": "M6fsjdlV8zg-"
      },
      "execution_count": 125,
      "outputs": []
    },
    {
      "cell_type": "code",
      "source": [
        "marks = np.random.permutation(marks)"
      ],
      "metadata": {
        "id": "s-UyX6fT9T0l"
      },
      "execution_count": 126,
      "outputs": []
    },
    {
      "cell_type": "code",
      "source": [
        "marks"
      ],
      "metadata": {
        "colab": {
          "base_uri": "https://localhost:8080/"
        },
        "id": "ZZaVb0Xm9adc",
        "outputId": "88600fd5-60eb-446e-b884-5ccba1b3fedd"
      },
      "execution_count": 106,
      "outputs": [
        {
          "output_type": "execute_result",
          "data": {
            "text/plain": [
              "array([96, 64, 46, 74, 18, 94, 60, 90, 50, 62, 36, 82, 66, 30, 28, 20, 34,\n",
              "       38, 16, 80, 98, 24, 92, 52, 12, 72, 68, 26, 54, 86, 70, 40, 48, 32,\n",
              "       14, 22, 78, 42, 10, 58, 84, 56, 44, 76, 88])"
            ]
          },
          "metadata": {},
          "execution_count": 106
        }
      ]
    },
    {
      "cell_type": "code",
      "source": [
        "marks[marks >= 70]"
      ],
      "metadata": {
        "colab": {
          "base_uri": "https://localhost:8080/"
        },
        "id": "bgR-pGUn9a7p",
        "outputId": "843bac4c-43cf-4169-a803-cc8cf31d49b8"
      },
      "execution_count": 107,
      "outputs": [
        {
          "output_type": "execute_result",
          "data": {
            "text/plain": [
              "array([96, 74, 94, 90, 82, 80, 98, 92, 72, 86, 70, 78, 84, 76, 88])"
            ]
          },
          "metadata": {},
          "execution_count": 107
        }
      ]
    },
    {
      "cell_type": "code",
      "source": [
        "marks[(marks >= 40) & (marks <= 70)]"
      ],
      "metadata": {
        "colab": {
          "base_uri": "https://localhost:8080/"
        },
        "id": "Yux0EvzM9okN",
        "outputId": "dd567032-3e44-4bc9-d188-222db66a7989"
      },
      "execution_count": 108,
      "outputs": [
        {
          "output_type": "execute_result",
          "data": {
            "text/plain": [
              "array([64, 46, 60, 50, 62, 66, 52, 68, 54, 70, 40, 48, 42, 58, 56, 44])"
            ]
          },
          "metadata": {},
          "execution_count": 108
        }
      ]
    },
    {
      "cell_type": "code",
      "source": [
        "\n",
        "marks.mean()"
      ],
      "metadata": {
        "colab": {
          "base_uri": "https://localhost:8080/"
        },
        "id": "7rMW67yV98Gm",
        "outputId": "c23a157e-b9be-4f76-d244-4044e446d245"
      },
      "execution_count": 110,
      "outputs": [
        {
          "output_type": "execute_result",
          "data": {
            "text/plain": [
              "54.0"
            ]
          },
          "metadata": {},
          "execution_count": 110
        }
      ]
    },
    {
      "cell_type": "code",
      "source": [
        "marks.std()"
      ],
      "metadata": {
        "colab": {
          "base_uri": "https://localhost:8080/"
        },
        "id": "yl2OAlvM-jDQ",
        "outputId": "c7c47417-cf7c-4e88-cff7-3bcff40d70d3"
      },
      "execution_count": 111,
      "outputs": [
        {
          "output_type": "execute_result",
          "data": {
            "text/plain": [
              "25.974346318370873"
            ]
          },
          "metadata": {},
          "execution_count": 111
        }
      ]
    },
    {
      "cell_type": "code",
      "source": [
        "marks.max()"
      ],
      "metadata": {
        "colab": {
          "base_uri": "https://localhost:8080/"
        },
        "id": "zEW508iJ-qFL",
        "outputId": "2ce4a72b-e936-47e6-9987-bd4e438b3d6d"
      },
      "execution_count": 112,
      "outputs": [
        {
          "output_type": "execute_result",
          "data": {
            "text/plain": [
              "98"
            ]
          },
          "metadata": {},
          "execution_count": 112
        }
      ]
    },
    {
      "cell_type": "code",
      "source": [
        "marks.min()"
      ],
      "metadata": {
        "colab": {
          "base_uri": "https://localhost:8080/"
        },
        "id": "dZ8EmcBA-uw5",
        "outputId": "4e9399e5-6117-4b20-e6de-3ee8c86e5670"
      },
      "execution_count": 113,
      "outputs": [
        {
          "output_type": "execute_result",
          "data": {
            "text/plain": [
              "10"
            ]
          },
          "metadata": {},
          "execution_count": 113
        }
      ]
    },
    {
      "cell_type": "code",
      "source": [
        "marks = np.arange(0, 10, 2)\n",
        "marks = np.random.permutation(marks)\n",
        "marks"
      ],
      "metadata": {
        "colab": {
          "base_uri": "https://localhost:8080/"
        },
        "id": "aHNX_g4P-7BY",
        "outputId": "b6d897c2-b7ae-44ab-fd1e-dbb29eead2fa"
      },
      "execution_count": 122,
      "outputs": [
        {
          "output_type": "execute_result",
          "data": {
            "text/plain": [
              "array([2, 8, 4, 0, 6])"
            ]
          },
          "metadata": {},
          "execution_count": 122
        }
      ]
    },
    {
      "cell_type": "code",
      "source": [
        "marks.argmin()"
      ],
      "metadata": {
        "colab": {
          "base_uri": "https://localhost:8080/"
        },
        "id": "feD5pfKa-yL0",
        "outputId": "e37de924-5fd0-4471-f761-fdd3cbc57055"
      },
      "execution_count": 123,
      "outputs": [
        {
          "output_type": "execute_result",
          "data": {
            "text/plain": [
              "3"
            ]
          },
          "metadata": {},
          "execution_count": 123
        }
      ]
    },
    {
      "cell_type": "code",
      "source": [
        "marks.argmax()"
      ],
      "metadata": {
        "colab": {
          "base_uri": "https://localhost:8080/"
        },
        "id": "_Ohxbsnp-378",
        "outputId": "736326f2-2ac3-4c66-f1ad-150b6c6bf693"
      },
      "execution_count": 124,
      "outputs": [
        {
          "output_type": "execute_result",
          "data": {
            "text/plain": [
              "1"
            ]
          },
          "metadata": {},
          "execution_count": 124
        }
      ]
    },
    {
      "cell_type": "code",
      "source": [
        "marks"
      ],
      "metadata": {
        "colab": {
          "base_uri": "https://localhost:8080/"
        },
        "id": "x0QM5yxF-6ma",
        "outputId": "043ebdb1-c268-4350-e327-6e13fc4aa805"
      },
      "execution_count": 127,
      "outputs": [
        {
          "output_type": "execute_result",
          "data": {
            "text/plain": [
              "array([58, 74, 60, 94, 30, 48, 70, 78, 98, 12, 56, 64, 40, 38, 18, 80, 36,\n",
              "       28, 32, 84, 10, 50, 88, 72, 66, 44, 26, 76, 34, 68, 20, 54, 14, 90,\n",
              "       62, 52, 86, 22, 24, 42, 46, 96, 92, 82, 16])"
            ]
          },
          "metadata": {},
          "execution_count": 127
        }
      ]
    },
    {
      "cell_type": "code",
      "source": [
        "marks.shape"
      ],
      "metadata": {
        "colab": {
          "base_uri": "https://localhost:8080/"
        },
        "id": "i8T5PEVH_nXm",
        "outputId": "b3fe6fd0-8bd4-40d3-e309-5cca21afdb26"
      },
      "execution_count": 128,
      "outputs": [
        {
          "output_type": "execute_result",
          "data": {
            "text/plain": [
              "(45,)"
            ]
          },
          "metadata": {},
          "execution_count": 128
        }
      ]
    },
    {
      "cell_type": "code",
      "source": [
        "arr = marks.reshape(9, 5)"
      ],
      "metadata": {
        "id": "oWmU80Ce_jtX"
      },
      "execution_count": 129,
      "outputs": []
    },
    {
      "cell_type": "code",
      "source": [
        "arr"
      ],
      "metadata": {
        "colab": {
          "base_uri": "https://localhost:8080/"
        },
        "id": "aegDZR7K_qHK",
        "outputId": "9f3bbe38-c28d-43da-b56d-4eff65747f41"
      },
      "execution_count": 130,
      "outputs": [
        {
          "output_type": "execute_result",
          "data": {
            "text/plain": [
              "array([[58, 74, 60, 94, 30],\n",
              "       [48, 70, 78, 98, 12],\n",
              "       [56, 64, 40, 38, 18],\n",
              "       [80, 36, 28, 32, 84],\n",
              "       [10, 50, 88, 72, 66],\n",
              "       [44, 26, 76, 34, 68],\n",
              "       [20, 54, 14, 90, 62],\n",
              "       [52, 86, 22, 24, 42],\n",
              "       [46, 96, 92, 82, 16]])"
            ]
          },
          "metadata": {},
          "execution_count": 130
        }
      ]
    },
    {
      "cell_type": "code",
      "source": [
        "arr"
      ],
      "metadata": {
        "colab": {
          "base_uri": "https://localhost:8080/"
        },
        "id": "KvfpMWqc_qza",
        "outputId": "8b160848-15f6-4fd5-bbac-eb120e957304"
      },
      "execution_count": 131,
      "outputs": [
        {
          "output_type": "execute_result",
          "data": {
            "text/plain": [
              "array([[58, 74, 60, 94, 30],\n",
              "       [48, 70, 78, 98, 12],\n",
              "       [56, 64, 40, 38, 18],\n",
              "       [80, 36, 28, 32, 84],\n",
              "       [10, 50, 88, 72, 66],\n",
              "       [44, 26, 76, 34, 68],\n",
              "       [20, 54, 14, 90, 62],\n",
              "       [52, 86, 22, 24, 42],\n",
              "       [46, 96, 92, 82, 16]])"
            ]
          },
          "metadata": {},
          "execution_count": 131
        }
      ]
    },
    {
      "cell_type": "code",
      "source": [
        "b.sum()"
      ],
      "metadata": {
        "colab": {
          "base_uri": "https://localhost:8080/"
        },
        "id": "_C-gj27G_utP",
        "outputId": "b198faea-d684-4414-9a2d-66e1f143a03d"
      },
      "execution_count": 134,
      "outputs": [
        {
          "output_type": "execute_result",
          "data": {
            "text/plain": [
              "6.0"
            ]
          },
          "metadata": {},
          "execution_count": 134
        }
      ]
    },
    {
      "cell_type": "code",
      "source": [
        "b"
      ],
      "metadata": {
        "colab": {
          "base_uri": "https://localhost:8080/"
        },
        "id": "APnvaTXp_-NI",
        "outputId": "a866ab9e-be82-4c26-82e7-628931dd6984"
      },
      "execution_count": 135,
      "outputs": [
        {
          "output_type": "execute_result",
          "data": {
            "text/plain": [
              "array([1., 2., 3.])"
            ]
          },
          "metadata": {},
          "execution_count": 135
        }
      ]
    },
    {
      "cell_type": "code",
      "source": [
        "arr"
      ],
      "metadata": {
        "colab": {
          "base_uri": "https://localhost:8080/"
        },
        "id": "AVnvuV-HALul",
        "outputId": "8da6437b-aad3-4891-d829-ebd1db54b094"
      },
      "execution_count": 137,
      "outputs": [
        {
          "output_type": "execute_result",
          "data": {
            "text/plain": [
              "array([[58, 74, 60, 94, 30],\n",
              "       [48, 70, 78, 98, 12],\n",
              "       [56, 64, 40, 38, 18],\n",
              "       [80, 36, 28, 32, 84],\n",
              "       [10, 50, 88, 72, 66],\n",
              "       [44, 26, 76, 34, 68],\n",
              "       [20, 54, 14, 90, 62],\n",
              "       [52, 86, 22, 24, 42],\n",
              "       [46, 96, 92, 82, 16]])"
            ]
          },
          "metadata": {},
          "execution_count": 137
        }
      ]
    },
    {
      "cell_type": "code",
      "source": [
        "arr.argmin()"
      ],
      "metadata": {
        "colab": {
          "base_uri": "https://localhost:8080/"
        },
        "id": "wTsjg3mhAevB",
        "outputId": "7bd20106-fe16-4050-adc1-340e723c2e5e"
      },
      "execution_count": 139,
      "outputs": [
        {
          "output_type": "execute_result",
          "data": {
            "text/plain": [
              "20"
            ]
          },
          "metadata": {},
          "execution_count": 139
        }
      ]
    },
    {
      "cell_type": "code",
      "source": [
        "arr.argmin(axis = 1)"
      ],
      "metadata": {
        "colab": {
          "base_uri": "https://localhost:8080/"
        },
        "id": "I-_n_tSwBXNT",
        "outputId": "c1dabbc9-7e99-4e66-8107-bf8a51e264b6"
      },
      "execution_count": 144,
      "outputs": [
        {
          "output_type": "execute_result",
          "data": {
            "text/plain": [
              "array([4, 4, 4, 2, 0, 1, 2, 2, 4])"
            ]
          },
          "metadata": {},
          "execution_count": 144
        }
      ]
    },
    {
      "cell_type": "code",
      "source": [
        "arr.argmin(axis=0)"
      ],
      "metadata": {
        "colab": {
          "base_uri": "https://localhost:8080/"
        },
        "id": "cuP_k7mkAvCx",
        "outputId": "b95ad834-5d5e-4a08-af9c-86cdd7860c73"
      },
      "execution_count": 142,
      "outputs": [
        {
          "output_type": "execute_result",
          "data": {
            "text/plain": [
              "array([4, 5, 6, 7, 1])"
            ]
          },
          "metadata": {},
          "execution_count": 142
        }
      ]
    },
    {
      "cell_type": "code",
      "source": [
        "angle = arr.sum(axis = 1)"
      ],
      "metadata": {
        "id": "VQopX_lb_-_r"
      },
      "execution_count": 145,
      "outputs": []
    },
    {
      "cell_type": "code",
      "source": [
        "angle"
      ],
      "metadata": {
        "colab": {
          "base_uri": "https://localhost:8080/"
        },
        "id": "OM3OgpFYBzOB",
        "outputId": "5e56948d-79a5-4b63-f6d6-15e6303c32af"
      },
      "execution_count": 146,
      "outputs": [
        {
          "output_type": "execute_result",
          "data": {
            "text/plain": [
              "array([316, 306, 216, 260, 286, 248, 240, 226, 332])"
            ]
          },
          "metadata": {},
          "execution_count": 146
        }
      ]
    },
    {
      "cell_type": "code",
      "source": [
        "np.cos(angle)"
      ],
      "metadata": {
        "colab": {
          "base_uri": "https://localhost:8080/"
        },
        "id": "CnzoXgwyAJSh",
        "outputId": "ef5c157c-740e-4135-aa60-1e632be3d475"
      },
      "execution_count": 147,
      "outputs": [
        {
          "output_type": "execute_result",
          "data": {
            "text/plain": [
              "array([-0.26667199, -0.30056379, -0.71798508, -0.73019416, -0.99338692,\n",
              "       -0.98278515,  0.32578131,  0.98111135,  0.53285853])"
            ]
          },
          "metadata": {},
          "execution_count": 147
        }
      ]
    },
    {
      "cell_type": "code",
      "source": [
        "plt.plot(angle, np.sin(np.deg2rad(angle)))\n",
        "plt.show()"
      ],
      "metadata": {
        "colab": {
          "base_uri": "https://localhost:8080/",
          "height": 265
        },
        "id": "_PHkCjckA43b",
        "outputId": "29a36b8e-0506-4170-a0df-63d336d8c594"
      },
      "execution_count": 150,
      "outputs": [
        {
          "output_type": "display_data",
          "data": {
            "text/plain": [
              "<Figure size 432x288 with 1 Axes>"
            ],
            "image/png": "[encoded data removed]"
          },
          "metadata": {
            "needs_background": "light"
          }
        }
      ]
    },
    {
      "cell_type": "code",
      "source": [
        "angle = np.arange(360)\n",
        "plt.plot(angle, np.sin(np.deg2rad(angle)))\n",
        "plt.show()"
      ],
      "metadata": {
        "colab": {
          "base_uri": "https://localhost:8080/",
          "height": 265
        },
        "id": "Mu_DhPzLCHVM",
        "outputId": "d2a82c29-b546-4cf0-d060-fbb4b0deb556"
      },
      "execution_count": 153,
      "outputs": [
        {
          "output_type": "display_data",
          "data": {
            "text/plain": [
              "<Figure size 432x288 with 1 Axes>"
            ],
            "image/png": "[encoded data removed]"
          },
          "metadata": {
            "needs_background": "light"
          }
        }
      ]
    },
    {
      "cell_type": "code",
      "source": [
        "a = np.array([1, 2, 3, 4, 5])\n",
        "b = np.array([10, 20, 30, 40, 50])"
      ],
      "metadata": {
        "id": "BMQ0nU9-CYfe"
      },
      "execution_count": 160,
      "outputs": []
    },
    {
      "cell_type": "code",
      "source": [
        "np.concatenate([a, b, a])"
      ],
      "metadata": {
        "colab": {
          "base_uri": "https://localhost:8080/"
        },
        "id": "t4NL6VtFCo9S",
        "outputId": "9c7c842a-6b80-4b82-b244-0ef8ec7097fa"
      },
      "execution_count": 156,
      "outputs": [
        {
          "output_type": "execute_result",
          "data": {
            "text/plain": [
              "array([ 1,  2,  3,  4,  5, 10, 20, 30, 40,  1,  2,  3,  4,  5])"
            ]
          },
          "metadata": {},
          "execution_count": 156
        }
      ]
    },
    {
      "cell_type": "code",
      "source": [
        "np.hstack([a, b])"
      ],
      "metadata": {
        "colab": {
          "base_uri": "https://localhost:8080/"
        },
        "id": "QmVE_CNfEGA6",
        "outputId": "ff5bdf05-b90f-4c47-8b6f-13ea2eb24b3e"
      },
      "execution_count": 157,
      "outputs": [
        {
          "output_type": "execute_result",
          "data": {
            "text/plain": [
              "array([ 1,  2,  3,  4,  5, 10, 20, 30, 40])"
            ]
          },
          "metadata": {},
          "execution_count": 157
        }
      ]
    },
    {
      "cell_type": "code",
      "source": [
        "np.vstack([a, b])"
      ],
      "metadata": {
        "colab": {
          "base_uri": "https://localhost:8080/"
        },
        "id": "f14ix1zCENpt",
        "outputId": "bdc23dcf-2528-4dc2-d3c0-f8a5ade24dda"
      },
      "execution_count": 164,
      "outputs": [
        {
          "output_type": "execute_result",
          "data": {
            "text/plain": [
              "array([[ 1,  2,  3,  4,  5],\n",
              "       [10, 20, 30, 40, 50]])"
            ]
          },
          "metadata": {},
          "execution_count": 164
        }
      ]
    },
    {
      "cell_type": "code",
      "source": [
        "np.dstack([a, b])"
      ],
      "metadata": {
        "colab": {
          "base_uri": "https://localhost:8080/"
        },
        "id": "wzaEef8BER7g",
        "outputId": "1002ae37-66f4-43ce-82af-0027ee23f382"
      },
      "execution_count": 163,
      "outputs": [
        {
          "output_type": "execute_result",
          "data": {
            "text/plain": [
              "array([[[ 1, 10],\n",
              "        [ 2, 20],\n",
              "        [ 3, 30],\n",
              "        [ 4, 40],\n",
              "        [ 5, 50]]])"
            ]
          },
          "metadata": {},
          "execution_count": 163
        }
      ]
    },
    {
      "cell_type": "code",
      "source": [
        "a = np.arange(12).reshape(3, 4)\n",
        "b = np.arange(12).reshape(3, 4)\n",
        "b = b + 10"
      ],
      "metadata": {
        "id": "emVwhrrAEoWD"
      },
      "execution_count": 166,
      "outputs": []
    },
    {
      "cell_type": "code",
      "source": [
        "a"
      ],
      "metadata": {
        "colab": {
          "base_uri": "https://localhost:8080/"
        },
        "id": "iVJNf-WhFGYz",
        "outputId": "c358d6ed-8b37-42e1-e73b-d5b118299e39"
      },
      "execution_count": 167,
      "outputs": [
        {
          "output_type": "execute_result",
          "data": {
            "text/plain": [
              "array([[ 0,  1,  2,  3],\n",
              "       [ 4,  5,  6,  7],\n",
              "       [ 8,  9, 10, 11]])"
            ]
          },
          "metadata": {},
          "execution_count": 167
        }
      ]
    },
    {
      "cell_type": "code",
      "source": [
        "b"
      ],
      "metadata": {
        "colab": {
          "base_uri": "https://localhost:8080/"
        },
        "id": "7visGG2NFLj0",
        "outputId": "cda78c27-2aaa-4299-f1c5-834cf2cd4ee0"
      },
      "execution_count": 168,
      "outputs": [
        {
          "output_type": "execute_result",
          "data": {
            "text/plain": [
              "array([[10, 11, 12, 13],\n",
              "       [14, 15, 16, 17],\n",
              "       [18, 19, 20, 21]])"
            ]
          },
          "metadata": {},
          "execution_count": 168
        }
      ]
    },
    {
      "cell_type": "code",
      "source": [
        "np.vstack([a, b])"
      ],
      "metadata": {
        "colab": {
          "base_uri": "https://localhost:8080/"
        },
        "id": "41B1iXpHFNXL",
        "outputId": "0afc44d0-ecb6-422c-bd49-ef19c8d94134"
      },
      "execution_count": 169,
      "outputs": [
        {
          "output_type": "execute_result",
          "data": {
            "text/plain": [
              "array([[ 0,  1,  2,  3],\n",
              "       [ 4,  5,  6,  7],\n",
              "       [ 8,  9, 10, 11],\n",
              "       [10, 11, 12, 13],\n",
              "       [14, 15, 16, 17],\n",
              "       [18, 19, 20, 21]])"
            ]
          },
          "metadata": {},
          "execution_count": 169
        }
      ]
    },
    {
      "cell_type": "code",
      "source": [
        "np.concatenate([a, b], axis = 0)"
      ],
      "metadata": {
        "colab": {
          "base_uri": "https://localhost:8080/"
        },
        "id": "Q-p8ONqrFRjC",
        "outputId": "534ab408-ef7f-4062-f386-4649e847d434"
      },
      "execution_count": 170,
      "outputs": [
        {
          "output_type": "execute_result",
          "data": {
            "text/plain": [
              "array([[ 0,  1,  2,  3],\n",
              "       [ 4,  5,  6,  7],\n",
              "       [ 8,  9, 10, 11],\n",
              "       [10, 11, 12, 13],\n",
              "       [14, 15, 16, 17],\n",
              "       [18, 19, 20, 21]])"
            ]
          },
          "metadata": {},
          "execution_count": 170
        }
      ]
    },
    {
      "cell_type": "code",
      "source": [
        "np.concatenate([a, b], axis = 1)"
      ],
      "metadata": {
        "colab": {
          "base_uri": "https://localhost:8080/"
        },
        "id": "xvFsvejXFZwG",
        "outputId": "ef623580-e813-475c-a6ae-5a90bb81bc3b"
      },
      "execution_count": 171,
      "outputs": [
        {
          "output_type": "execute_result",
          "data": {
            "text/plain": [
              "array([[ 0,  1,  2,  3, 10, 11, 12, 13],\n",
              "       [ 4,  5,  6,  7, 14, 15, 16, 17],\n",
              "       [ 8,  9, 10, 11, 18, 19, 20, 21]])"
            ]
          },
          "metadata": {},
          "execution_count": 171
        }
      ]
    },
    {
      "cell_type": "code",
      "source": [
        "a"
      ],
      "metadata": {
        "colab": {
          "base_uri": "https://localhost:8080/"
        },
        "id": "deFEoe87Fk1H",
        "outputId": "1ac3d395-f806-4e82-f319-f40c35818168"
      },
      "execution_count": 172,
      "outputs": [
        {
          "output_type": "execute_result",
          "data": {
            "text/plain": [
              "array([[ 0,  1,  2,  3],\n",
              "       [ 4,  5,  6,  7],\n",
              "       [ 8,  9, 10, 11]])"
            ]
          },
          "metadata": {},
          "execution_count": 172
        }
      ]
    },
    {
      "cell_type": "code",
      "source": [
        "b"
      ],
      "metadata": {
        "colab": {
          "base_uri": "https://localhost:8080/"
        },
        "id": "XJhejataFsBD",
        "outputId": "c513ecd5-cf1d-4a3c-c7b7-b8acf16da122"
      },
      "execution_count": 173,
      "outputs": [
        {
          "output_type": "execute_result",
          "data": {
            "text/plain": [
              "array([[10, 11, 12, 13],\n",
              "       [14, 15, 16, 17],\n",
              "       [18, 19, 20, 21]])"
            ]
          },
          "metadata": {},
          "execution_count": 173
        }
      ]
    },
    {
      "cell_type": "code",
      "source": [
        "a.ndim"
      ],
      "metadata": {
        "colab": {
          "base_uri": "https://localhost:8080/"
        },
        "id": "UG0q5kohFsX1",
        "outputId": "3ab58e96-697d-469f-ffae-28aef872769f"
      },
      "execution_count": 175,
      "outputs": [
        {
          "output_type": "execute_result",
          "data": {
            "text/plain": [
              "2"
            ]
          },
          "metadata": {},
          "execution_count": 175
        }
      ]
    },
    {
      "cell_type": "code",
      "source": [
        "l = [1] * 33\n",
        "print(l)"
      ],
      "metadata": {
        "colab": {
          "base_uri": "https://localhost:8080/"
        },
        "id": "EKRMiBOFF3kO",
        "outputId": "258ec7d3-ac2f-4e4b-f4b5-032aa60e8bba"
      },
      "execution_count": 177,
      "outputs": [
        {
          "output_type": "stream",
          "name": "stdout",
          "text": [
            "[1, 1, 1, 1, 1, 1, 1, 1, 1, 1, 1, 1, 1, 1, 1, 1, 1, 1, 1, 1, 1, 1, 1, 1, 1, 1, 1, 1, 1, 1, 1, 1, 1]\n"
          ]
        }
      ]
    },
    {
      "cell_type": "code",
      "source": [
        "t = tuple(l)\n",
        "\n",
        "arr = np.ones(t)"
      ],
      "metadata": {
        "colab": {
          "base_uri": "https://localhost:8080/",
          "height": 321
        },
        "id": "ex9d8fJtGMeX",
        "outputId": "b2eb8e1a-56eb-44d8-d704-aacd39c90921"
      },
      "execution_count": 183,
      "outputs": [
        {
          "output_type": "error",
          "ename": "ValueError",
          "evalue": "ignored",
          "traceback": [
            "\u001b[0;31m---------------------------------------------------------------------------\u001b[0m",
            "\u001b[0;31mValueError\u001b[0m                                Traceback (most recent call last)",
            "\u001b[0;32m<ipython-input-183-0d0d01832f4f>\u001b[0m in \u001b[0;36m<module>\u001b[0;34m()\u001b[0m\n\u001b[1;32m      1\u001b[0m \u001b[0mt\u001b[0m \u001b[0;34m=\u001b[0m \u001b[0mtuple\u001b[0m\u001b[0;34m(\u001b[0m\u001b[0ml\u001b[0m\u001b[0;34m)\u001b[0m\u001b[0;34m\u001b[0m\u001b[0;34m\u001b[0m\u001b[0m\n\u001b[1;32m      2\u001b[0m \u001b[0;34m\u001b[0m\u001b[0m\n\u001b[0;32m----> 3\u001b[0;31m \u001b[0marr\u001b[0m \u001b[0;34m=\u001b[0m \u001b[0mnp\u001b[0m\u001b[0;34m.\u001b[0m\u001b[0mones\u001b[0m\u001b[0;34m(\u001b[0m\u001b[0mt\u001b[0m\u001b[0;34m)\u001b[0m\u001b[0;34m\u001b[0m\u001b[0;34m\u001b[0m\u001b[0m\n\u001b[0m",
            "\u001b[0;32m/usr/local/lib/python3.7/dist-packages/numpy/core/numeric.py\u001b[0m in \u001b[0;36mones\u001b[0;34m(shape, dtype, order, like)\u001b[0m\n\u001b[1;32m    202\u001b[0m         \u001b[0;32mreturn\u001b[0m \u001b[0m_ones_with_like\u001b[0m\u001b[0;34m(\u001b[0m\u001b[0mshape\u001b[0m\u001b[0;34m,\u001b[0m \u001b[0mdtype\u001b[0m\u001b[0;34m=\u001b[0m\u001b[0mdtype\u001b[0m\u001b[0;34m,\u001b[0m \u001b[0morder\u001b[0m\u001b[0;34m=\u001b[0m\u001b[0morder\u001b[0m\u001b[0;34m,\u001b[0m \u001b[0mlike\u001b[0m\u001b[0;34m=\u001b[0m\u001b[0mlike\u001b[0m\u001b[0;34m)\u001b[0m\u001b[0;34m\u001b[0m\u001b[0;34m\u001b[0m\u001b[0m\n\u001b[1;32m    203\u001b[0m \u001b[0;34m\u001b[0m\u001b[0m\n\u001b[0;32m--> 204\u001b[0;31m     \u001b[0ma\u001b[0m \u001b[0;34m=\u001b[0m \u001b[0mempty\u001b[0m\u001b[0;34m(\u001b[0m\u001b[0mshape\u001b[0m\u001b[0;34m,\u001b[0m \u001b[0mdtype\u001b[0m\u001b[0;34m,\u001b[0m \u001b[0morder\u001b[0m\u001b[0;34m)\u001b[0m\u001b[0;34m\u001b[0m\u001b[0;34m\u001b[0m\u001b[0m\n\u001b[0m\u001b[1;32m    205\u001b[0m     \u001b[0mmultiarray\u001b[0m\u001b[0;34m.\u001b[0m\u001b[0mcopyto\u001b[0m\u001b[0;34m(\u001b[0m\u001b[0ma\u001b[0m\u001b[0;34m,\u001b[0m \u001b[0;36m1\u001b[0m\u001b[0;34m,\u001b[0m \u001b[0mcasting\u001b[0m\u001b[0;34m=\u001b[0m\u001b[0;34m'unsafe'\u001b[0m\u001b[0;34m)\u001b[0m\u001b[0;34m\u001b[0m\u001b[0;34m\u001b[0m\u001b[0m\n\u001b[1;32m    206\u001b[0m     \u001b[0;32mreturn\u001b[0m \u001b[0ma\u001b[0m\u001b[0;34m\u001b[0m\u001b[0;34m\u001b[0m\u001b[0m\n",
            "\u001b[0;31mValueError\u001b[0m: maximum supported dimension for an ndarray is 32, found 33"
          ]
        }
      ]
    }
  ]
}