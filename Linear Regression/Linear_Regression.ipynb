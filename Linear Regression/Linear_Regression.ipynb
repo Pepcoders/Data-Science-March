{
  "nbformat": 4,
  "nbformat_minor": 0,
  "metadata": {
    "colab": {
      "name": "Linear Regression.ipynb",
      "provenance": [],
      "authorship_tag": "ABX9TyNAdzvYWJsrOZtrR0a5wDu4",
      "include_colab_link": true
    },
    "kernelspec": {
      "name": "python3",
      "display_name": "Python 3"
    },
    "language_info": {
      "name": "python"
    }
  },
  "cells": [
    {
      "cell_type": "markdown",
      "metadata": {
        "id": "view-in-github",
        "colab_type": "text"
      },
      "source": [
        "<a href=\"https://colab.research.google.com/github/Pepcoders/Data-Science-March/blob/main/Linear%20Regression/Linear_Regression.ipynb\" target=\"_parent\"><img src=\"https://colab.research.google.com/assets/colab-badge.svg\" alt=\"Open In Colab\"/></a>"
      ]
    },
    {
      "cell_type": "code",
      "execution_count": 1,
      "metadata": {
        "id": "abt851C8mhPe"
      },
      "outputs": [],
      "source": [
        "import pandas as pd\n",
        "df = pd.read_csv(\"https://raw.githubusercontent.com/purna135/ML-Datasets/main/weight-height.csv\")"
      ]
    },
    {
      "cell_type": "code",
      "source": [
        "df.head()"
      ],
      "metadata": {
        "colab": {
          "base_uri": "https://localhost:8080/",
          "height": 206
        },
        "id": "lJQH2b_KwM8F",
        "outputId": "0ff9d415-961e-4531-8c3c-896441698003"
      },
      "execution_count": 2,
      "outputs": [
        {
          "output_type": "execute_result",
          "data": {
            "text/plain": [
              "  Gender     Height      Weight\n",
              "0   Male  73.847017  241.893563\n",
              "1   Male  68.781904  162.310473\n",
              "2   Male  74.110105  212.740856\n",
              "3   Male  71.730978  220.042470\n",
              "4   Male  69.881796  206.349801"
            ],
            "text/html": [
              "\n",
              "  <div id=\"df-ba4c8049-b62e-453e-ba6f-b8d5608edee9\">\n",
              "    <div class=\"colab-df-container\">\n",
              "      <div>\n",
              "<style scoped>\n",
              "    .dataframe tbody tr th:only-of-type {\n",
              "        vertical-align: middle;\n",
              "    }\n",
              "\n",
              "    .dataframe tbody tr th {\n",
              "        vertical-align: top;\n",
              "    }\n",
              "\n",
              "    .dataframe thead th {\n",
              "        text-align: right;\n",
              "    }\n",
              "</style>\n",
              "<table border=\"1\" class=\"dataframe\">\n",
              "  <thead>\n",
              "    <tr style=\"text-align: right;\">\n",
              "      <th></th>\n",
              "      <th>Gender</th>\n",
              "      <th>Height</th>\n",
              "      <th>Weight</th>\n",
              "    </tr>\n",
              "  </thead>\n",
              "  <tbody>\n",
              "    <tr>\n",
              "      <th>0</th>\n",
              "      <td>Male</td>\n",
              "      <td>73.847017</td>\n",
              "      <td>241.893563</td>\n",
              "    </tr>\n",
              "    <tr>\n",
              "      <th>1</th>\n",
              "      <td>Male</td>\n",
              "      <td>68.781904</td>\n",
              "      <td>162.310473</td>\n",
              "    </tr>\n",
              "    <tr>\n",
              "      <th>2</th>\n",
              "      <td>Male</td>\n",
              "      <td>74.110105</td>\n",
              "      <td>212.740856</td>\n",
              "    </tr>\n",
              "    <tr>\n",
              "      <th>3</th>\n",
              "      <td>Male</td>\n",
              "      <td>71.730978</td>\n",
              "      <td>220.042470</td>\n",
              "    </tr>\n",
              "    <tr>\n",
              "      <th>4</th>\n",
              "      <td>Male</td>\n",
              "      <td>69.881796</td>\n",
              "      <td>206.349801</td>\n",
              "    </tr>\n",
              "  </tbody>\n",
              "</table>\n",
              "</div>\n",
              "      <button class=\"colab-df-convert\" onclick=\"convertToInteractive('df-ba4c8049-b62e-453e-ba6f-b8d5608edee9')\"\n",
              "              title=\"Convert this dataframe to an interactive table.\"\n",
              "              style=\"display:none;\">\n",
              "        \n",
              "  <svg xmlns=\"http://www.w3.org/2000/svg\" height=\"24px\"viewBox=\"0 0 24 24\"\n",
              "       width=\"24px\">\n",
              "    <path d=\"M0 0h24v24H0V0z\" fill=\"none\"/>\n",
              "    <path d=\"M18.56 5.44l.94 2.06.94-2.06 2.06-.94-2.06-.94-.94-2.06-.94 2.06-2.06.94zm-11 1L8.5 8.5l.94-2.06 2.06-.94-2.06-.94L8.5 2.5l-.94 2.06-2.06.94zm10 10l.94 2.06.94-2.06 2.06-.94-2.06-.94-.94-2.06-.94 2.06-2.06.94z\"/><path d=\"M17.41 7.96l-1.37-1.37c-.4-.4-.92-.59-1.43-.59-.52 0-1.04.2-1.43.59L10.3 9.45l-7.72 7.72c-.78.78-.78 2.05 0 2.83L4 21.41c.39.39.9.59 1.41.59.51 0 1.02-.2 1.41-.59l7.78-7.78 2.81-2.81c.8-.78.8-2.07 0-2.86zM5.41 20L4 18.59l7.72-7.72 1.47 1.35L5.41 20z\"/>\n",
              "  </svg>\n",
              "      </button>\n",
              "      \n",
              "  <style>\n",
              "    .colab-df-container {\n",
              "      display:flex;\n",
              "      flex-wrap:wrap;\n",
              "      gap: 12px;\n",
              "    }\n",
              "\n",
              "    .colab-df-convert {\n",
              "      background-color: #E8F0FE;\n",
              "      border: none;\n",
              "      border-radius: 50%;\n",
              "      cursor: pointer;\n",
              "      display: none;\n",
              "      fill: #1967D2;\n",
              "      height: 32px;\n",
              "      padding: 0 0 0 0;\n",
              "      width: 32px;\n",
              "    }\n",
              "\n",
              "    .colab-df-convert:hover {\n",
              "      background-color: #E2EBFA;\n",
              "      box-shadow: 0px 1px 2px rgba(60, 64, 67, 0.3), 0px 1px 3px 1px rgba(60, 64, 67, 0.15);\n",
              "      fill: #174EA6;\n",
              "    }\n",
              "\n",
              "    [theme=dark] .colab-df-convert {\n",
              "      background-color: #3B4455;\n",
              "      fill: #D2E3FC;\n",
              "    }\n",
              "\n",
              "    [theme=dark] .colab-df-convert:hover {\n",
              "      background-color: #434B5C;\n",
              "      box-shadow: 0px 1px 3px 1px rgba(0, 0, 0, 0.15);\n",
              "      filter: drop-shadow(0px 1px 2px rgba(0, 0, 0, 0.3));\n",
              "      fill: #FFFFFF;\n",
              "    }\n",
              "  </style>\n",
              "\n",
              "      <script>\n",
              "        const buttonEl =\n",
              "          document.querySelector('#df-ba4c8049-b62e-453e-ba6f-b8d5608edee9 button.colab-df-convert');\n",
              "        buttonEl.style.display =\n",
              "          google.colab.kernel.accessAllowed ? 'block' : 'none';\n",
              "\n",
              "        async function convertToInteractive(key) {\n",
              "          const element = document.querySelector('#df-ba4c8049-b62e-453e-ba6f-b8d5608edee9');\n",
              "          const dataTable =\n",
              "            await google.colab.kernel.invokeFunction('convertToInteractive',\n",
              "                                                     [key], {});\n",
              "          if (!dataTable) return;\n",
              "\n",
              "          const docLinkHtml = 'Like what you see? Visit the ' +\n",
              "            '<a target=\"_blank\" href=https://colab.research.google.com/notebooks/data_table.ipynb>data table notebook</a>'\n",
              "            + ' to learn more about interactive tables.';\n",
              "          element.innerHTML = '';\n",
              "          dataTable['output_type'] = 'display_data';\n",
              "          await google.colab.output.renderOutput(dataTable, element);\n",
              "          const docLink = document.createElement('div');\n",
              "          docLink.innerHTML = docLinkHtml;\n",
              "          element.appendChild(docLink);\n",
              "        }\n",
              "      </script>\n",
              "    </div>\n",
              "  </div>\n",
              "  "
            ]
          },
          "metadata": {},
          "execution_count": 2
        }
      ]
    },
    {
      "cell_type": "code",
      "source": [
        "df.drop(\"Gender\", inplace = True, axis = 1)"
      ],
      "metadata": {
        "id": "2akb4ihEwSGI"
      },
      "execution_count": 3,
      "outputs": []
    },
    {
      "cell_type": "code",
      "source": [
        "df.head()"
      ],
      "metadata": {
        "colab": {
          "base_uri": "https://localhost:8080/",
          "height": 206
        },
        "id": "udDAK0V3wWl8",
        "outputId": "c1c06ccd-b7bb-4482-fb6d-ad18e2348422"
      },
      "execution_count": 4,
      "outputs": [
        {
          "output_type": "execute_result",
          "data": {
            "text/plain": [
              "      Height      Weight\n",
              "0  73.847017  241.893563\n",
              "1  68.781904  162.310473\n",
              "2  74.110105  212.740856\n",
              "3  71.730978  220.042470\n",
              "4  69.881796  206.349801"
            ],
            "text/html": [
              "\n",
              "  <div id=\"df-96d83230-0a5c-4920-a89b-5169349284ec\">\n",
              "    <div class=\"colab-df-container\">\n",
              "      <div>\n",
              "<style scoped>\n",
              "    .dataframe tbody tr th:only-of-type {\n",
              "        vertical-align: middle;\n",
              "    }\n",
              "\n",
              "    .dataframe tbody tr th {\n",
              "        vertical-align: top;\n",
              "    }\n",
              "\n",
              "    .dataframe thead th {\n",
              "        text-align: right;\n",
              "    }\n",
              "</style>\n",
              "<table border=\"1\" class=\"dataframe\">\n",
              "  <thead>\n",
              "    <tr style=\"text-align: right;\">\n",
              "      <th></th>\n",
              "      <th>Height</th>\n",
              "      <th>Weight</th>\n",
              "    </tr>\n",
              "  </thead>\n",
              "  <tbody>\n",
              "    <tr>\n",
              "      <th>0</th>\n",
              "      <td>73.847017</td>\n",
              "      <td>241.893563</td>\n",
              "    </tr>\n",
              "    <tr>\n",
              "      <th>1</th>\n",
              "      <td>68.781904</td>\n",
              "      <td>162.310473</td>\n",
              "    </tr>\n",
              "    <tr>\n",
              "      <th>2</th>\n",
              "      <td>74.110105</td>\n",
              "      <td>212.740856</td>\n",
              "    </tr>\n",
              "    <tr>\n",
              "      <th>3</th>\n",
              "      <td>71.730978</td>\n",
              "      <td>220.042470</td>\n",
              "    </tr>\n",
              "    <tr>\n",
              "      <th>4</th>\n",
              "      <td>69.881796</td>\n",
              "      <td>206.349801</td>\n",
              "    </tr>\n",
              "  </tbody>\n",
              "</table>\n",
              "</div>\n",
              "      <button class=\"colab-df-convert\" onclick=\"convertToInteractive('df-96d83230-0a5c-4920-a89b-5169349284ec')\"\n",
              "              title=\"Convert this dataframe to an interactive table.\"\n",
              "              style=\"display:none;\">\n",
              "        \n",
              "  <svg xmlns=\"http://www.w3.org/2000/svg\" height=\"24px\"viewBox=\"0 0 24 24\"\n",
              "       width=\"24px\">\n",
              "    <path d=\"M0 0h24v24H0V0z\" fill=\"none\"/>\n",
              "    <path d=\"M18.56 5.44l.94 2.06.94-2.06 2.06-.94-2.06-.94-.94-2.06-.94 2.06-2.06.94zm-11 1L8.5 8.5l.94-2.06 2.06-.94-2.06-.94L8.5 2.5l-.94 2.06-2.06.94zm10 10l.94 2.06.94-2.06 2.06-.94-2.06-.94-.94-2.06-.94 2.06-2.06.94z\"/><path d=\"M17.41 7.96l-1.37-1.37c-.4-.4-.92-.59-1.43-.59-.52 0-1.04.2-1.43.59L10.3 9.45l-7.72 7.72c-.78.78-.78 2.05 0 2.83L4 21.41c.39.39.9.59 1.41.59.51 0 1.02-.2 1.41-.59l7.78-7.78 2.81-2.81c.8-.78.8-2.07 0-2.86zM5.41 20L4 18.59l7.72-7.72 1.47 1.35L5.41 20z\"/>\n",
              "  </svg>\n",
              "      </button>\n",
              "      \n",
              "  <style>\n",
              "    .colab-df-container {\n",
              "      display:flex;\n",
              "      flex-wrap:wrap;\n",
              "      gap: 12px;\n",
              "    }\n",
              "\n",
              "    .colab-df-convert {\n",
              "      background-color: #E8F0FE;\n",
              "      border: none;\n",
              "      border-radius: 50%;\n",
              "      cursor: pointer;\n",
              "      display: none;\n",
              "      fill: #1967D2;\n",
              "      height: 32px;\n",
              "      padding: 0 0 0 0;\n",
              "      width: 32px;\n",
              "    }\n",
              "\n",
              "    .colab-df-convert:hover {\n",
              "      background-color: #E2EBFA;\n",
              "      box-shadow: 0px 1px 2px rgba(60, 64, 67, 0.3), 0px 1px 3px 1px rgba(60, 64, 67, 0.15);\n",
              "      fill: #174EA6;\n",
              "    }\n",
              "\n",
              "    [theme=dark] .colab-df-convert {\n",
              "      background-color: #3B4455;\n",
              "      fill: #D2E3FC;\n",
              "    }\n",
              "\n",
              "    [theme=dark] .colab-df-convert:hover {\n",
              "      background-color: #434B5C;\n",
              "      box-shadow: 0px 1px 3px 1px rgba(0, 0, 0, 0.15);\n",
              "      filter: drop-shadow(0px 1px 2px rgba(0, 0, 0, 0.3));\n",
              "      fill: #FFFFFF;\n",
              "    }\n",
              "  </style>\n",
              "\n",
              "      <script>\n",
              "        const buttonEl =\n",
              "          document.querySelector('#df-96d83230-0a5c-4920-a89b-5169349284ec button.colab-df-convert');\n",
              "        buttonEl.style.display =\n",
              "          google.colab.kernel.accessAllowed ? 'block' : 'none';\n",
              "\n",
              "        async function convertToInteractive(key) {\n",
              "          const element = document.querySelector('#df-96d83230-0a5c-4920-a89b-5169349284ec');\n",
              "          const dataTable =\n",
              "            await google.colab.kernel.invokeFunction('convertToInteractive',\n",
              "                                                     [key], {});\n",
              "          if (!dataTable) return;\n",
              "\n",
              "          const docLinkHtml = 'Like what you see? Visit the ' +\n",
              "            '<a target=\"_blank\" href=https://colab.research.google.com/notebooks/data_table.ipynb>data table notebook</a>'\n",
              "            + ' to learn more about interactive tables.';\n",
              "          element.innerHTML = '';\n",
              "          dataTable['output_type'] = 'display_data';\n",
              "          await google.colab.output.renderOutput(dataTable, element);\n",
              "          const docLink = document.createElement('div');\n",
              "          docLink.innerHTML = docLinkHtml;\n",
              "          element.appendChild(docLink);\n",
              "        }\n",
              "      </script>\n",
              "    </div>\n",
              "  </div>\n",
              "  "
            ]
          },
          "metadata": {},
          "execution_count": 4
        }
      ]
    },
    {
      "cell_type": "code",
      "source": [
        "import matplotlib.pyplot as plt\n",
        "plt.scatter(df[\"Height\"], df[\"Weight\"])"
      ],
      "metadata": {
        "colab": {
          "base_uri": "https://localhost:8080/",
          "height": 282
        },
        "id": "yNMFzCnLwZrP",
        "outputId": "52c57433-97a0-4242-c331-95d57031168a"
      },
      "execution_count": 5,
      "outputs": [
        {
          "output_type": "execute_result",
          "data": {
            "text/plain": [
              "<matplotlib.collections.PathCollection at 0x7f3a21a81210>"
            ]
          },
          "metadata": {},
          "execution_count": 5
        },
        {
          "output_type": "display_data",
          "data": {
            "text/plain": [
              "<Figure size 432x288 with 1 Axes>"
            ],
            "image/png": "[encoded data removed]"
          },
          "metadata": {
            "needs_background": "light"
          }
        }
      ]
    },
    {
      "cell_type": "code",
      "source": [
        "X = df[\"Height\"][:200]\n",
        "Y = df[\"Weight\"][:200]\n",
        "\n",
        "plt.scatter(X, Y)"
      ],
      "metadata": {
        "colab": {
          "base_uri": "https://localhost:8080/",
          "height": 282
        },
        "id": "fQgRk4VnwoDN",
        "outputId": "dcb2f2a4-63f9-4971-fe75-2409ad889ff0"
      },
      "execution_count": 6,
      "outputs": [
        {
          "output_type": "execute_result",
          "data": {
            "text/plain": [
              "<matplotlib.collections.PathCollection at 0x7f3a21a81090>"
            ]
          },
          "metadata": {},
          "execution_count": 6
        },
        {
          "output_type": "display_data",
          "data": {
            "text/plain": [
              "<Figure size 432x288 with 1 Axes>"
            ],
            "image/png": "[encoded data removed]"
          },
          "metadata": {
            "needs_background": "light"
          }
        }
      ]
    },
    {
      "cell_type": "code",
      "source": [
        "X.values"
      ],
      "metadata": {
        "id": "HciS8Oudys_9",
        "outputId": "94c5ac2a-e646-4246-a9ff-7cb2589bd8cc",
        "colab": {
          "base_uri": "https://localhost:8080/"
        }
      },
      "execution_count": 7,
      "outputs": [
        {
          "output_type": "execute_result",
          "data": {
            "text/plain": [
              "array([73.84701702, 68.78190405, 74.11010539, 71.7309784 , 69.88179586,\n",
              "       67.25301569, 68.78508125, 68.34851551, 67.01894966, 63.45649398,\n",
              "       71.19538228, 71.64080512, 64.76632913, 69.2830701 , 69.24373223,\n",
              "       67.6456197 , 72.41831663, 63.97432572, 69.6400599 , 67.93600485,\n",
              "       67.91505019, 69.43943987, 66.14913196, 75.20597361, 67.89319634,\n",
              "       68.1440328 , 69.08963143, 72.80084352, 67.42124228, 68.49641536,\n",
              "       68.61811055, 74.03380762, 71.52821604, 69.1801611 , 69.57720237,\n",
              "       70.40092889, 69.07617117, 67.19352328, 65.80731565, 64.30418789,\n",
              "       67.97433623, 72.18942596, 65.27034552, 66.09017738, 67.51032152,\n",
              "       70.10478626, 68.25183644, 72.17270912, 69.17985762, 72.87036015,\n",
              "       64.78258298, 70.18354989, 68.49145025, 67.33083088, 66.99094408,\n",
              "       66.4995499 , 68.35305665, 70.77445907, 71.21592367, 70.01336535,\n",
              "       71.40318222, 69.55200509, 73.81853456, 66.99688275, 71.41846589,\n",
              "       65.27930021, 68.27419147, 72.76536995, 68.0993798 , 68.89670607,\n",
              "       69.28950996, 70.52322452, 69.66372523, 67.59526881, 72.50812038,\n",
              "       71.2529856 , 71.80918689, 72.24516548, 66.51262766, 66.029034  ,\n",
              "       67.57715394, 68.2465686 , 73.826127  , 69.80246436, 65.95957778,\n",
              "       71.07901758, 66.59619654, 68.95153509, 68.24446179, 72.31682512,\n",
              "       71.81542045, 65.23704952, 70.64053009, 64.7319256 , 67.10355118,\n",
              "       65.11748489, 71.70123402, 66.83287821, 66.47127526, 69.41152622,\n",
              "       70.05217747, 66.74360465, 66.27432912, 68.32844799, 70.0758882 ,\n",
              "       68.73298815, 67.55605126, 66.25363253, 69.18220268, 67.60910494,\n",
              "       69.29273802, 68.19068401, 71.6070858 , 69.19685751, 67.26196098,\n",
              "       73.6851934 , 69.53721501, 68.31155984, 67.73896347, 71.7057626 ,\n",
              "       63.6322646 , 68.72119846, 66.94934165, 62.70698974, 72.25840892,\n",
              "       70.90865306, 67.6098436 , 70.80155896, 69.30476905, 66.24289834,\n",
              "       67.49219298, 65.80624829, 71.44370566, 68.46440582, 63.9879246 ,\n",
              "       71.00189769, 68.13972419, 68.39540025, 68.09621975, 68.14059036,\n",
              "       68.86009031, 66.14885254, 66.20603205, 67.43212021, 69.47110603,\n",
              "       70.51585969, 71.33837604, 71.00194477, 66.20234771, 72.54330705,\n",
              "       67.47935176, 65.35041056, 70.84406242, 69.93847526, 64.73981548,\n",
              "       69.30840288, 68.83846286, 61.93732327, 68.59333554, 65.21857558,\n",
              "       64.33364811, 68.7489067 , 72.4896554 , 67.23393092, 67.26360484,\n",
              "       65.11850428, 66.26282004, 67.70167966, 65.53069597, 69.86896981,\n",
              "       68.48187536, 72.21396335, 68.17953269, 71.98120654, 66.06513673,\n",
              "       66.65616417, 67.5994242 , 68.24594409, 64.80862144, 67.49221827,\n",
              "       68.18073071, 69.5533849 , 66.40224967, 66.59215711, 71.93588658,\n",
              "       68.28704173, 69.9554512 , 71.85112915, 65.75549864, 67.03185208,\n",
              "       76.70983486, 72.57112137, 69.7288049 , 72.799224  , 72.53935407,\n",
              "       72.29474338, 67.25332482, 75.94446038, 66.31623192, 71.15605349])"
            ]
          },
          "metadata": {},
          "execution_count": 7
        }
      ]
    },
    {
      "cell_type": "code",
      "source": [
        "X.shape"
      ],
      "metadata": {
        "colab": {
          "base_uri": "https://localhost:8080/"
        },
        "id": "KwoaA7TlxdyH",
        "outputId": "267d2ed4-f7d2-4424-ae7d-9f2188d5e41e"
      },
      "execution_count": 8,
      "outputs": [
        {
          "output_type": "execute_result",
          "data": {
            "text/plain": [
              "(200,)"
            ]
          },
          "metadata": {},
          "execution_count": 8
        }
      ]
    },
    {
      "cell_type": "code",
      "source": [
        "import numpy as np\n",
        "\n",
        "X = np.array(X).reshape(-1, 1)\n",
        "X.shape"
      ],
      "metadata": {
        "colab": {
          "base_uri": "https://localhost:8080/"
        },
        "id": "TE2Obm7Vxdsr",
        "outputId": "e8f59e1e-4ef3-470f-b4d8-e9bf246bdb31"
      },
      "execution_count": 9,
      "outputs": [
        {
          "output_type": "execute_result",
          "data": {
            "text/plain": [
              "(200, 1)"
            ]
          },
          "metadata": {},
          "execution_count": 9
        }
      ]
    },
    {
      "cell_type": "code",
      "source": [
        "X"
      ],
      "metadata": {
        "id": "n9e2vRwzy3MN",
        "outputId": "bf61f5aa-37ec-4590-857a-9020a83bd05c",
        "colab": {
          "base_uri": "https://localhost:8080/"
        }
      },
      "execution_count": 10,
      "outputs": [
        {
          "output_type": "execute_result",
          "data": {
            "text/plain": [
              "array([[73.84701702],\n",
              "       [68.78190405],\n",
              "       [74.11010539],\n",
              "       [71.7309784 ],\n",
              "       [69.88179586],\n",
              "       [67.25301569],\n",
              "       [68.78508125],\n",
              "       [68.34851551],\n",
              "       [67.01894966],\n",
              "       [63.45649398],\n",
              "       [71.19538228],\n",
              "       [71.64080512],\n",
              "       [64.76632913],\n",
              "       [69.2830701 ],\n",
              "       [69.24373223],\n",
              "       [67.6456197 ],\n",
              "       [72.41831663],\n",
              "       [63.97432572],\n",
              "       [69.6400599 ],\n",
              "       [67.93600485],\n",
              "       [67.91505019],\n",
              "       [69.43943987],\n",
              "       [66.14913196],\n",
              "       [75.20597361],\n",
              "       [67.89319634],\n",
              "       [68.1440328 ],\n",
              "       [69.08963143],\n",
              "       [72.80084352],\n",
              "       [67.42124228],\n",
              "       [68.49641536],\n",
              "       [68.61811055],\n",
              "       [74.03380762],\n",
              "       [71.52821604],\n",
              "       [69.1801611 ],\n",
              "       [69.57720237],\n",
              "       [70.40092889],\n",
              "       [69.07617117],\n",
              "       [67.19352328],\n",
              "       [65.80731565],\n",
              "       [64.30418789],\n",
              "       [67.97433623],\n",
              "       [72.18942596],\n",
              "       [65.27034552],\n",
              "       [66.09017738],\n",
              "       [67.51032152],\n",
              "       [70.10478626],\n",
              "       [68.25183644],\n",
              "       [72.17270912],\n",
              "       [69.17985762],\n",
              "       [72.87036015],\n",
              "       [64.78258298],\n",
              "       [70.18354989],\n",
              "       [68.49145025],\n",
              "       [67.33083088],\n",
              "       [66.99094408],\n",
              "       [66.4995499 ],\n",
              "       [68.35305665],\n",
              "       [70.77445907],\n",
              "       [71.21592367],\n",
              "       [70.01336535],\n",
              "       [71.40318222],\n",
              "       [69.55200509],\n",
              "       [73.81853456],\n",
              "       [66.99688275],\n",
              "       [71.41846589],\n",
              "       [65.27930021],\n",
              "       [68.27419147],\n",
              "       [72.76536995],\n",
              "       [68.0993798 ],\n",
              "       [68.89670607],\n",
              "       [69.28950996],\n",
              "       [70.52322452],\n",
              "       [69.66372523],\n",
              "       [67.59526881],\n",
              "       [72.50812038],\n",
              "       [71.2529856 ],\n",
              "       [71.80918689],\n",
              "       [72.24516548],\n",
              "       [66.51262766],\n",
              "       [66.029034  ],\n",
              "       [67.57715394],\n",
              "       [68.2465686 ],\n",
              "       [73.826127  ],\n",
              "       [69.80246436],\n",
              "       [65.95957778],\n",
              "       [71.07901758],\n",
              "       [66.59619654],\n",
              "       [68.95153509],\n",
              "       [68.24446179],\n",
              "       [72.31682512],\n",
              "       [71.81542045],\n",
              "       [65.23704952],\n",
              "       [70.64053009],\n",
              "       [64.7319256 ],\n",
              "       [67.10355118],\n",
              "       [65.11748489],\n",
              "       [71.70123402],\n",
              "       [66.83287821],\n",
              "       [66.47127526],\n",
              "       [69.41152622],\n",
              "       [70.05217747],\n",
              "       [66.74360465],\n",
              "       [66.27432912],\n",
              "       [68.32844799],\n",
              "       [70.0758882 ],\n",
              "       [68.73298815],\n",
              "       [67.55605126],\n",
              "       [66.25363253],\n",
              "       [69.18220268],\n",
              "       [67.60910494],\n",
              "       [69.29273802],\n",
              "       [68.19068401],\n",
              "       [71.6070858 ],\n",
              "       [69.19685751],\n",
              "       [67.26196098],\n",
              "       [73.6851934 ],\n",
              "       [69.53721501],\n",
              "       [68.31155984],\n",
              "       [67.73896347],\n",
              "       [71.7057626 ],\n",
              "       [63.6322646 ],\n",
              "       [68.72119846],\n",
              "       [66.94934165],\n",
              "       [62.70698974],\n",
              "       [72.25840892],\n",
              "       [70.90865306],\n",
              "       [67.6098436 ],\n",
              "       [70.80155896],\n",
              "       [69.30476905],\n",
              "       [66.24289834],\n",
              "       [67.49219298],\n",
              "       [65.80624829],\n",
              "       [71.44370566],\n",
              "       [68.46440582],\n",
              "       [63.9879246 ],\n",
              "       [71.00189769],\n",
              "       [68.13972419],\n",
              "       [68.39540025],\n",
              "       [68.09621975],\n",
              "       [68.14059036],\n",
              "       [68.86009031],\n",
              "       [66.14885254],\n",
              "       [66.20603205],\n",
              "       [67.43212021],\n",
              "       [69.47110603],\n",
              "       [70.51585969],\n",
              "       [71.33837604],\n",
              "       [71.00194477],\n",
              "       [66.20234771],\n",
              "       [72.54330705],\n",
              "       [67.47935176],\n",
              "       [65.35041056],\n",
              "       [70.84406242],\n",
              "       [69.93847526],\n",
              "       [64.73981548],\n",
              "       [69.30840288],\n",
              "       [68.83846286],\n",
              "       [61.93732327],\n",
              "       [68.59333554],\n",
              "       [65.21857558],\n",
              "       [64.33364811],\n",
              "       [68.7489067 ],\n",
              "       [72.4896554 ],\n",
              "       [67.23393092],\n",
              "       [67.26360484],\n",
              "       [65.11850428],\n",
              "       [66.26282004],\n",
              "       [67.70167966],\n",
              "       [65.53069597],\n",
              "       [69.86896981],\n",
              "       [68.48187536],\n",
              "       [72.21396335],\n",
              "       [68.17953269],\n",
              "       [71.98120654],\n",
              "       [66.06513673],\n",
              "       [66.65616417],\n",
              "       [67.5994242 ],\n",
              "       [68.24594409],\n",
              "       [64.80862144],\n",
              "       [67.49221827],\n",
              "       [68.18073071],\n",
              "       [69.5533849 ],\n",
              "       [66.40224967],\n",
              "       [66.59215711],\n",
              "       [71.93588658],\n",
              "       [68.28704173],\n",
              "       [69.9554512 ],\n",
              "       [71.85112915],\n",
              "       [65.75549864],\n",
              "       [67.03185208],\n",
              "       [76.70983486],\n",
              "       [72.57112137],\n",
              "       [69.7288049 ],\n",
              "       [72.799224  ],\n",
              "       [72.53935407],\n",
              "       [72.29474338],\n",
              "       [67.25332482],\n",
              "       [75.94446038],\n",
              "       [66.31623192],\n",
              "       [71.15605349]])"
            ]
          },
          "metadata": {},
          "execution_count": 10
        }
      ]
    },
    {
      "cell_type": "code",
      "source": [
        "from sklearn.model_selection import train_test_split\n",
        "\n",
        "X_train, X_test, y_train, y_test = train_test_split(X, Y, test_size = 30)"
      ],
      "metadata": {
        "id": "ZpHCEcOFw_1L"
      },
      "execution_count": 51,
      "outputs": []
    },
    {
      "cell_type": "code",
      "source": [
        "from sklearn.linear_model import LinearRegression\n",
        "\n",
        "lr = LinearRegression()\n",
        "\n",
        "lr.fit(X_train, y_train)"
      ],
      "metadata": {
        "colab": {
          "base_uri": "https://localhost:8080/"
        },
        "id": "GNz2I6fbw1gV",
        "outputId": "34158507-c359-4665-fefb-730536706060"
      },
      "execution_count": 12,
      "outputs": [
        {
          "output_type": "execute_result",
          "data": {
            "text/plain": [
              "LinearRegression()"
            ]
          },
          "metadata": {},
          "execution_count": 12
        }
      ]
    },
    {
      "cell_type": "code",
      "source": [
        "y_pred = lr.predict(X_train)"
      ],
      "metadata": {
        "id": "vSN5OjGgxam5"
      },
      "execution_count": 13,
      "outputs": []
    },
    {
      "cell_type": "code",
      "source": [
        "plt.scatter(X, Y)\n",
        "plt.plot(X_train.reshape(-1), y_pred, \"r--\")"
      ],
      "metadata": {
        "colab": {
          "base_uri": "https://localhost:8080/",
          "height": 282
        },
        "id": "6DsUkWVxx3Ly",
        "outputId": "c62ab43f-23ad-49fe-eb31-1ffcddd2f29e"
      },
      "execution_count": 14,
      "outputs": [
        {
          "output_type": "execute_result",
          "data": {
            "text/plain": [
              "[<matplotlib.lines.Line2D at 0x7f3a126843d0>]"
            ]
          },
          "metadata": {},
          "execution_count": 14
        },
        {
          "output_type": "display_data",
          "data": {
            "text/plain": [
              "<Figure size 432x288 with 1 Axes>"
            ],
            "image/png": "[encoded data removed]"
          },
          "metadata": {
            "needs_background": "light"
          }
        }
      ]
    },
    {
      "cell_type": "code",
      "source": [
        "lr.coef_"
      ],
      "metadata": {
        "colab": {
          "base_uri": "https://localhost:8080/"
        },
        "id": "BLGF97XMx7L-",
        "outputId": "bb44d0d4-3d61-488a-cf23-748f032f024d"
      },
      "execution_count": 15,
      "outputs": [
        {
          "output_type": "execute_result",
          "data": {
            "text/plain": [
              "array([5.93545178])"
            ]
          },
          "metadata": {},
          "execution_count": 15
        }
      ]
    },
    {
      "cell_type": "code",
      "source": [
        "lr.intercept_"
      ],
      "metadata": {
        "colab": {
          "base_uri": "https://localhost:8080/"
        },
        "id": "15B8W_uKzPld",
        "outputId": "e13c0b7a-2f78-4c91-9dd2-8ece957257f8"
      },
      "execution_count": 16,
      "outputs": [
        {
          "output_type": "execute_result",
          "data": {
            "text/plain": [
              "-222.38381491856055"
            ]
          },
          "metadata": {},
          "execution_count": 16
        }
      ]
    },
    {
      "cell_type": "code",
      "source": [
        "x = [[73]]\n",
        "lr.predict(x)"
      ],
      "metadata": {
        "colab": {
          "base_uri": "https://localhost:8080/"
        },
        "id": "sIF2a9MwzXXy",
        "outputId": "a9e1334e-b03b-4d37-d283-297a59900e62"
      },
      "execution_count": 17,
      "outputs": [
        {
          "output_type": "execute_result",
          "data": {
            "text/plain": [
              "array([210.90416509])"
            ]
          },
          "metadata": {},
          "execution_count": 17
        }
      ]
    },
    {
      "cell_type": "code",
      "source": [
        "#m - slope\n",
        "# c - intercept\n",
        "\n",
        "# y = m * x + c\n",
        "\n",
        "m = lr.coef_\n",
        "c = lr.intercept_\n",
        "\n"
      ],
      "metadata": {
        "id": "ovpvIb2Xz-8u"
      },
      "execution_count": 18,
      "outputs": []
    },
    {
      "cell_type": "code",
      "source": [
        "y_pred = m * x + c\n",
        "y_pred"
      ],
      "metadata": {
        "colab": {
          "base_uri": "https://localhost:8080/"
        },
        "id": "TgVx7_k40Q3b",
        "outputId": "d41b1484-07b6-4428-d050-0d6316001f49"
      },
      "execution_count": 19,
      "outputs": [
        {
          "output_type": "execute_result",
          "data": {
            "text/plain": [
              "array([[210.90416509]])"
            ]
          },
          "metadata": {},
          "execution_count": 19
        }
      ]
    },
    {
      "cell_type": "code",
      "source": [
        "X.shape[0]"
      ],
      "metadata": {
        "colab": {
          "base_uri": "https://localhost:8080/"
        },
        "id": "6uBhs5Vm-dD8",
        "outputId": "44cbf9b7-c1c9-4f90-c7ad-4d5bfde5ce83"
      },
      "execution_count": 20,
      "outputs": [
        {
          "output_type": "execute_result",
          "data": {
            "text/plain": [
              "200"
            ]
          },
          "metadata": {},
          "execution_count": 20
        }
      ]
    },
    {
      "cell_type": "code",
      "source": [
        "class CustomRL():\n",
        "  def __init__(self):\n",
        "    self.m = None\n",
        "    self.c = None\n",
        "\n",
        "  def fit(self, X, Y):\n",
        "    p = 0\n",
        "    q = 0\n",
        "\n",
        "    for i in range(X.shape[0]):\n",
        "      p += (Y.iloc[i] - Y.mean()) * (X[i] - X.mean())\n",
        "      q += (X[i] - X.mean()) ** 2\n",
        "\n",
        "    self.m = p/q\n",
        "    self.c = Y.mean() - self.m * X.mean()\n",
        "\n",
        "  def predict(self, X):\n",
        "    return self.m * X + self.c"
      ],
      "metadata": {
        "id": "3ZceNzvu0b1u"
      },
      "execution_count": 21,
      "outputs": []
    },
    {
      "cell_type": "code",
      "source": [
        "clr = CustomRL()"
      ],
      "metadata": {
        "id": "PUSL8IAeAkVP"
      },
      "execution_count": 22,
      "outputs": []
    },
    {
      "cell_type": "code",
      "source": [
        "clr.fit(X_train, y_train)"
      ],
      "metadata": {
        "id": "8P4cxatmAxBw"
      },
      "execution_count": 23,
      "outputs": []
    },
    {
      "cell_type": "code",
      "source": [
        "y_custom_pred = clr.predict(X_train)"
      ],
      "metadata": {
        "id": "ikirm0fdAz6z"
      },
      "execution_count": 24,
      "outputs": []
    },
    {
      "cell_type": "code",
      "source": [
        "y_pred = lr.predict(X_train)"
      ],
      "metadata": {
        "id": "Ahqlg0zKA6fg"
      },
      "execution_count": 25,
      "outputs": []
    },
    {
      "cell_type": "code",
      "source": [
        "plt.scatter(X, Y)\n",
        "plt.plot(X_train.reshape(-1), y_pred, \"r--\")"
      ],
      "metadata": {
        "colab": {
          "base_uri": "https://localhost:8080/",
          "height": 282
        },
        "id": "J7zF9gzuA_T3",
        "outputId": "7ca4af0b-2c1c-42c1-cb7f-fa09142038f0"
      },
      "execution_count": 26,
      "outputs": [
        {
          "output_type": "execute_result",
          "data": {
            "text/plain": [
              "[<matplotlib.lines.Line2D at 0x7f3a12610450>]"
            ]
          },
          "metadata": {},
          "execution_count": 26
        },
        {
          "output_type": "display_data",
          "data": {
            "text/plain": [
              "<Figure size 432x288 with 1 Axes>"
            ],
            "image/png": "[encoded data removed]"
          },
          "metadata": {
            "needs_background": "light"
          }
        }
      ]
    },
    {
      "cell_type": "code",
      "source": [
        "plt.scatter(X, Y)\n",
        "plt.plot(X_train.reshape(-1), y_custom_pred, \"r--\")"
      ],
      "metadata": {
        "colab": {
          "base_uri": "https://localhost:8080/",
          "height": 282
        },
        "id": "SNheRF2WBDSD",
        "outputId": "b7eb5fb4-b443-467c-87e3-df0aa698643f"
      },
      "execution_count": 27,
      "outputs": [
        {
          "output_type": "execute_result",
          "data": {
            "text/plain": [
              "[<matplotlib.lines.Line2D at 0x7f3a1257e990>]"
            ]
          },
          "metadata": {},
          "execution_count": 27
        },
        {
          "output_type": "display_data",
          "data": {
            "text/plain": [
              "<Figure size 432x288 with 1 Axes>"
            ],
            "image/png": "[encoded data removed]"
          },
          "metadata": {
            "needs_background": "light"
          }
        }
      ]
    },
    {
      "cell_type": "code",
      "source": [
        "print(\"Slope: \", lr.coef_)\n",
        "print(\"Intercept: \", lr.intercept_)"
      ],
      "metadata": {
        "colab": {
          "base_uri": "https://localhost:8080/"
        },
        "id": "dAjCCoReBGEI",
        "outputId": "8283aef9-4712-4f30-8f58-ca00f81dfb9b"
      },
      "execution_count": 28,
      "outputs": [
        {
          "output_type": "stream",
          "name": "stdout",
          "text": [
            "Slope:  [5.93545178]\n",
            "Intercept:  -222.38381491856055\n"
          ]
        }
      ]
    },
    {
      "cell_type": "code",
      "source": [
        "print(\"Slope: \", clr.m)\n",
        "print(\"Intercept: \", clr.c)"
      ],
      "metadata": {
        "colab": {
          "base_uri": "https://localhost:8080/"
        },
        "id": "WuGIV0pXBPhX",
        "outputId": "4de8e33e-85e4-4b75-ade2-79d09193f2c5"
      },
      "execution_count": 29,
      "outputs": [
        {
          "output_type": "stream",
          "name": "stdout",
          "text": [
            "Slope:  [5.93545178]\n",
            "Intercept:  [-222.38381492]\n"
          ]
        }
      ]
    },
    {
      "cell_type": "code",
      "source": [
        "from sklearn.preprocessing import StandardScaler\n",
        "\n",
        "ss = StandardScaler()\n",
        "X = ss.fit_transform(X)\n",
        "\n",
        "\n",
        "from sklearn.model_selection import train_test_split\n",
        "\n",
        "X_train, X_test, y_train, y_test = train_test_split(X, Y, test_size = 30)"
      ],
      "metadata": {
        "id": "kcBd7CsgMfSf"
      },
      "execution_count": 52,
      "outputs": []
    },
    {
      "cell_type": "code",
      "source": [
        "from IPython.display import clear_output"
      ],
      "metadata": {
        "id": "zxNK_kztOgV-"
      },
      "execution_count": 58,
      "outputs": []
    },
    {
      "cell_type": "code",
      "source": [
        "class MyLinearRegression():\n",
        "  def __init__(self, learn_rate, iteration):\n",
        "    self.learn_rate = learn_rate\n",
        "    self.iteration = iteration\n",
        "  \n",
        "  def fit(self, X, y):\n",
        "    row, col = X.shape\n",
        "\n",
        "    self.w = np.random.rand(col)\n",
        "    self.b = np.random.randint(0, 10)\n",
        "\n",
        "    for i in range(self.iteration):\n",
        "        y_pred = self.predict(X)\n",
        "\n",
        "        dw = -2 * (X.T).dot(y - y_pred) / row\n",
        "        db = -2 * (y - y_pred).sum() / row\n",
        "\n",
        "        self.w = self.w - self.learn_rate * dw\n",
        "        self.b = self.b - self.learn_rate * db\n",
        "        \n",
        "        clear_output(wait = True)\n",
        "        plt.scatter(X, y)\n",
        "        plt.plot(X, y_pred, color=\"r\")\n",
        "        plt.title(\"Interation\"+str(i))\n",
        "        plt.show()\n",
        "\n",
        "  def predict(self, X):\n",
        "    return X.dot(self.w) + self.b"
      ],
      "metadata": {
        "id": "tCUX-87hBVvw"
      },
      "execution_count": 59,
      "outputs": []
    },
    {
      "cell_type": "code",
      "source": [
        "mylr = MyLinearRegression(0.1, 200)"
      ],
      "metadata": {
        "id": "Cxo8looTIjl1"
      },
      "execution_count": 62,
      "outputs": []
    },
    {
      "cell_type": "code",
      "source": [
        "mylr.fit(X_train, y_train)"
      ],
      "metadata": {
        "colab": {
          "base_uri": "https://localhost:8080/",
          "height": 281
        },
        "id": "KPck9sHKLp_k",
        "outputId": "7d31a3c3-c209-431f-d2bd-09781b25ccc7"
      },
      "execution_count": 63,
      "outputs": [
        {
          "output_type": "display_data",
          "data": {
            "text/plain": [
              "<Figure size 432x288 with 1 Axes>"
            ],
            "image/png": "[encoded data removed]"
          },
          "metadata": {
            "needs_background": "light"
          }
        }
      ]
    },
    {
      "cell_type": "code",
      "source": [
        "y_pred = mylr.predict(X_test)"
      ],
      "metadata": {
        "id": "whnaj7KnL0Me"
      },
      "execution_count": 71,
      "outputs": []
    },
    {
      "cell_type": "code",
      "source": [
        "from sklearn.metrics import mean_absolute_error, mean_squared_error, r2_score"
      ],
      "metadata": {
        "id": "i6GZABEQL4rU"
      },
      "execution_count": 72,
      "outputs": []
    },
    {
      "cell_type": "code",
      "source": [
        "mean_absolute_error(y_test, y_pred)"
      ],
      "metadata": {
        "colab": {
          "base_uri": "https://localhost:8080/"
        },
        "id": "jRI-Klcnb14s",
        "outputId": "b25e8868-a86f-4216-8e06-64bffaad0038"
      },
      "execution_count": 73,
      "outputs": [
        {
          "output_type": "execute_result",
          "data": {
            "text/plain": [
              "9.254316319992641"
            ]
          },
          "metadata": {},
          "execution_count": 73
        }
      ]
    },
    {
      "cell_type": "code",
      "source": [
        "mse = mean_squared_error(y_test, y_pred)\n",
        "mse"
      ],
      "metadata": {
        "colab": {
          "base_uri": "https://localhost:8080/"
        },
        "id": "adt2FtO9b5CA",
        "outputId": "a9de6e14-8cba-457d-9205-ade88573be85"
      },
      "execution_count": 76,
      "outputs": [
        {
          "output_type": "execute_result",
          "data": {
            "text/plain": [
              "130.0484965207015"
            ]
          },
          "metadata": {},
          "execution_count": 76
        }
      ]
    },
    {
      "cell_type": "code",
      "source": [
        "r2_score(y_test, y_pred)"
      ],
      "metadata": {
        "colab": {
          "base_uri": "https://localhost:8080/"
        },
        "id": "kGMjGh93cCui",
        "outputId": "cc3a67ab-c3c8-49aa-a3ee-e96f543b9ba8"
      },
      "execution_count": 75,
      "outputs": [
        {
          "output_type": "execute_result",
          "data": {
            "text/plain": [
              "0.6922396607487304"
            ]
          },
          "metadata": {},
          "execution_count": 75
        }
      ]
    },
    {
      "cell_type": "code",
      "source": [
        "import numpy as np\n",
        "import numpy.random as rnd\n",
        "import matplotlib.pyplot as plt\n",
        "\n",
        "np.random.seed(42)"
      ],
      "metadata": {
        "id": "sUno59W0cEnH"
      },
      "execution_count": 77,
      "outputs": []
    },
    {
      "cell_type": "code",
      "source": [
        "m = 100\n",
        "X = 6 * np.random.rand(m, 1) - 3\n",
        "y = 0.5 * X**2 + X + 2"
      ],
      "metadata": {
        "id": "FLqf4fa9dOPe"
      },
      "execution_count": 78,
      "outputs": []
    },
    {
      "cell_type": "code",
      "source": [
        "plt.scatter(X, y)"
      ],
      "metadata": {
        "colab": {
          "base_uri": "https://localhost:8080/",
          "height": 282
        },
        "id": "jnRfXP2qdRCE",
        "outputId": "85102fe9-8aca-4a88-8d64-d98ba7ab9d30"
      },
      "execution_count": 80,
      "outputs": [
        {
          "output_type": "execute_result",
          "data": {
            "text/plain": [
              "<matplotlib.collections.PathCollection at 0x7f3a11d68c10>"
            ]
          },
          "metadata": {},
          "execution_count": 80
        },
        {
          "output_type": "display_data",
          "data": {
            "text/plain": [
              "<Figure size 432x288 with 1 Axes>"
            ],
            "image/png": "[encoded data removed]"
          },
          "metadata": {
            "needs_background": "light"
          }
        }
      ]
    },
    {
      "cell_type": "code",
      "source": [
        "lr.fit(X, y)"
      ],
      "metadata": {
        "colab": {
          "base_uri": "https://localhost:8080/"
        },
        "id": "kvF1HirGdSQ4",
        "outputId": "93ed813e-1142-4905-c509-b1ae3b761e2c"
      },
      "execution_count": 81,
      "outputs": [
        {
          "output_type": "execute_result",
          "data": {
            "text/plain": [
              "LinearRegression()"
            ]
          },
          "metadata": {},
          "execution_count": 81
        }
      ]
    },
    {
      "cell_type": "code",
      "source": [
        "y_pred = lr.predict(X)"
      ],
      "metadata": {
        "id": "t7AB8yD2dxKK"
      },
      "execution_count": 82,
      "outputs": []
    },
    {
      "cell_type": "code",
      "source": [
        "plt.scatter(X, y)\n",
        "plt.plot(X, y_pred, color=\"r\")"
      ],
      "metadata": {
        "colab": {
          "base_uri": "https://localhost:8080/",
          "height": 282
        },
        "id": "-Dbj2TuLd1LX",
        "outputId": "93aba887-2aff-4fc9-e39b-579c2004a052"
      },
      "execution_count": 84,
      "outputs": [
        {
          "output_type": "execute_result",
          "data": {
            "text/plain": [
              "[<matplotlib.lines.Line2D at 0x7f3a118e5890>]"
            ]
          },
          "metadata": {},
          "execution_count": 84
        },
        {
          "output_type": "display_data",
          "data": {
            "text/plain": [
              "<Figure size 432x288 with 1 Axes>"
            ],
            "image/png": "[encoded data removed]"
          },
          "metadata": {
            "needs_background": "light"
          }
        }
      ]
    },
    {
      "cell_type": "code",
      "source": [
        ""
      ],
      "metadata": {
        "id": "lslqQJUWd3mz"
      },
      "execution_count": null,
      "outputs": []
    }
  ]
}